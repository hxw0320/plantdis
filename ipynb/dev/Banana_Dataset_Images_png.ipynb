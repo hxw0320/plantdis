{
 "cells": [
  {
   "cell_type": "code",
   "execution_count": 3,
   "id": "fbb609a1-774d-4bc0-891d-3fc44d73a280",
   "metadata": {},
   "outputs": [
    {
     "name": "stdout",
     "output_type": "stream",
     "text": [
      "./train/Banana__Bacterial_Wilt\n",
      "File path_read ./train/Banana__Bacterial_Wilt/aug_100_1318231.png\n",
      "File path_read ./train/Banana__Bacterial_Wilt/aug_100_9088748.png\n",
      "File path_read ./train/Banana__Bacterial_Wilt/aug_101_1014957.png\n",
      "File path_read ./train/Banana__Bacterial_Wilt/aug_101_4582118.png\n",
      "File path_read ./train/Banana__Bacterial_Wilt/aug_102_210385.png\n",
      "File path_read ./train/Banana__Bacterial_Wilt/aug_102_6762193.png\n",
      "File path_read ./train/Banana__Bacterial_Wilt/aug_102_6814220.png\n",
      "File path_read ./train/Banana__Bacterial_Wilt/aug_103_7461017.png\n",
      "File path_read ./train/Banana__Bacterial_Wilt/aug_103_8178332.png\n",
      "File path_read ./train/Banana__Bacterial_Wilt/aug_104_2400603.png\n",
      "File path_read ./train/Banana__Bacterial_Wilt/aug_104_9404597.png\n",
      "File path_read ./train/Banana__Bacterial_Wilt/aug_105_128548.png\n",
      "File path_read ./train/Banana__Bacterial_Wilt/aug_105_6469256.png\n",
      "File path_read ./train/Banana__Bacterial_Wilt/aug_106_2440549.png\n",
      "File path_read ./train/Banana__Bacterial_Wilt/aug_106_9066729.png\n",
      "File path_read ./train/Banana__Bacterial_Wilt/aug_107_795312.png\n",
      "File path_read ./train/Banana__Bacterial_Wilt/aug_107_9205619.png\n",
      "File path_read ./train/Banana__Bacterial_Wilt/aug_108_1990522.png\n",
      "File path_read ./train/Banana__Bacterial_Wilt/aug_108_5418763.png\n",
      "File path_read ./train/Banana__Bacterial_Wilt/aug_108_7285596.png\n",
      "File path_read ./train/Banana__Bacterial_Wilt/aug_109_1428349.png\n",
      "File path_read ./train/Banana__Bacterial_Wilt/aug_109_4603379.png\n",
      "File path_read ./train/Banana__Bacterial_Wilt/aug_110_3427153.png\n",
      "File path_read ./train/Banana__Bacterial_Wilt/aug_110_6966183.png\n",
      "File path_read ./train/Banana__Bacterial_Wilt/aug_111_6556264.png\n",
      "File path_read ./train/Banana__Bacterial_Wilt/aug_111_8543813.png\n",
      "File path_read ./train/Banana__Bacterial_Wilt/aug_112_1985954.png\n",
      "File path_read ./train/Banana__Bacterial_Wilt/aug_112_5352562.png\n",
      "File path_read ./train/Banana__Bacterial_Wilt/aug_113_1328010.png\n",
      "File path_read ./train/Banana__Bacterial_Wilt/aug_113_618329.png\n",
      "File path_read ./train/Banana__Bacterial_Wilt/aug_114_6261728.png\n",
      "File path_read ./train/Banana__Bacterial_Wilt/aug_114_6854176(1).png\n",
      "File path_read ./train/Banana__Bacterial_Wilt/aug_114_6854176(2).png\n",
      "File path_read ./train/Banana__Bacterial_Wilt/aug_114_6854176.png\n",
      "File path_read ./train/Banana__Bacterial_Wilt/aug_115_2166112(1).png\n",
      "File path_read ./train/Banana__Bacterial_Wilt/aug_115_2166112.png\n",
      "File path_read ./train/Banana__Bacterial_Wilt/aug_115_3878614.png\n",
      "File path_read ./train/Banana__Bacterial_Wilt/aug_116_3193085.png\n",
      "File path_read ./train/Banana__Bacterial_Wilt/aug_116_5199961.png\n",
      "File path_read ./train/Banana__Bacterial_Wilt/aug_117_2019738.png\n",
      "File path_read ./train/Banana__Bacterial_Wilt/aug_117_4973779.png\n",
      "File path_read ./train/Banana__Bacterial_Wilt/aug_117_9038863.png\n",
      "File path_read ./train/Banana__Bacterial_Wilt/aug_118_4413435.png\n",
      "File path_read ./train/Banana__Bacterial_Wilt/aug_118_9795463.png\n",
      "File path_read ./train/Banana__Bacterial_Wilt/aug_119_1297828.png\n",
      "File path_read ./train/Banana__Bacterial_Wilt/aug_119_6868110.png\n",
      "File path_read ./train/Banana__Bacterial_Wilt/aug_119_7972194.png\n",
      "File path_read ./train/Banana__Bacterial_Wilt/aug_120_8478989.png\n",
      "File path_read ./train/Banana__Bacterial_Wilt/aug_120_9256474.png\n",
      "File path_read ./train/Banana__Bacterial_Wilt/aug_120_9764547.png\n",
      "File path_read ./train/Banana__Bacterial_Wilt/aug_121_3030372.png\n",
      "File path_read ./train/Banana__Bacterial_Wilt/aug_121_6123085.png\n",
      "File path_read ./train/Banana__Bacterial_Wilt/aug_122_8087642.png\n",
      "File path_read ./train/Banana__Bacterial_Wilt/aug_122_894808.png\n",
      "File path_read ./train/Banana__Bacterial_Wilt/aug_123_5577745.png\n",
      "File path_read ./train/Banana__Bacterial_Wilt/aug_123_6903536.png\n",
      "File path_read ./train/Banana__Bacterial_Wilt/aug_124_5152674.png\n",
      "File path_read ./train/Banana__Bacterial_Wilt/aug_124_5689331.png\n",
      "File path_read ./train/Banana__Bacterial_Wilt/aug_125_3860806.png\n",
      "File path_read ./train/Banana__Bacterial_Wilt/aug_125_3935569.png\n",
      "File path_read ./train/Banana__Bacterial_Wilt/aug_125_9880314.png\n",
      "File path_read ./train/Banana__Bacterial_Wilt/aug_126_4863109.png\n",
      "File path_read ./train/Banana__Bacterial_Wilt/aug_126_7199705.png\n",
      "File path_read ./train/Banana__Bacterial_Wilt/aug_126_8561588.png\n",
      "File path_read ./train/Banana__Bacterial_Wilt/aug_127_6848918.png\n",
      "File path_read ./train/Banana__Bacterial_Wilt/aug_127_8038587.png\n",
      "File path_read ./train/Banana__Bacterial_Wilt/aug_128_5796585.png\n",
      "File path_read ./train/Banana__Bacterial_Wilt/aug_128_8738287.png\n",
      "File path_read ./train/Banana__Bacterial_Wilt/aug_129_1939674.png\n",
      "File path_read ./train/Banana__Bacterial_Wilt/aug_129_2592768.png\n",
      "File path_read ./train/Banana__Bacterial_Wilt/aug_129_9969473.png\n",
      "File path_read ./train/Banana__Bacterial_Wilt/aug_130_6808855.png\n",
      "File path_read ./train/Banana__Bacterial_Wilt/aug_130_8852.png\n",
      "File path_read ./train/Banana__Bacterial_Wilt/aug_131_1049346.png\n",
      "File path_read ./train/Banana__Bacterial_Wilt/aug_131_8216440.png\n",
      "File path_read ./train/Banana__Bacterial_Wilt/aug_132_2940283.png\n",
      "File path_read ./train/Banana__Bacterial_Wilt/aug_132_6142880.png\n",
      "File path_read ./train/Banana__Bacterial_Wilt/aug_133_9502054.png\n",
      "File path_read ./train/Banana__Bacterial_Wilt/aug_133_9657901.png\n",
      "File path_read ./train/Banana__Bacterial_Wilt/aug_134_309649.png\n",
      "File path_read ./train/Banana__Bacterial_Wilt/aug_134_820758.png\n",
      "File path_read ./train/Banana__Bacterial_Wilt/aug_135_4532638.png\n",
      "File path_read ./train/Banana__Bacterial_Wilt/aug_135_7580269.png\n",
      "File path_read ./train/Banana__Bacterial_Wilt/aug_136_3565635.png\n",
      "File path_read ./train/Banana__Bacterial_Wilt/aug_136_4695489.png\n",
      "File path_read ./train/Banana__Bacterial_Wilt/aug_136_9947002.png\n",
      "File path_read ./train/Banana__Bacterial_Wilt/aug_137_3767519.png\n",
      "File path_read ./train/Banana__Bacterial_Wilt/aug_137_8433737.png\n",
      "File path_read ./train/Banana__Bacterial_Wilt/aug_138_1495330.png\n",
      "File path_read ./train/Banana__Bacterial_Wilt/aug_138_8980235.png\n",
      "File path_read ./train/Banana__Bacterial_Wilt/aug_139_1077701.png\n",
      "File path_read ./train/Banana__Bacterial_Wilt/aug_139_1849983.png\n",
      "File path_read ./train/Banana__Bacterial_Wilt/aug_139_9459702.png\n",
      "File path_read ./train/Banana__Bacterial_Wilt/aug_140_2594862.png\n",
      "File path_read ./train/Banana__Bacterial_Wilt/aug_140_7813272.png\n",
      "File path_read ./train/Banana__Bacterial_Wilt/aug_141_5805463.png\n",
      "File path_read ./train/Banana__Bacterial_Wilt/aug_141_7389422.png\n",
      "File path_read ./train/Banana__Bacterial_Wilt/aug_142_1180771.png\n",
      "File path_read ./train/Banana__Bacterial_Wilt/aug_142_3938864.png\n",
      "File path_read ./train/Banana__Bacterial_Wilt/aug_143_3743366.png\n",
      "File path_read ./train/Banana__Bacterial_Wilt/aug_143_7859011.png\n",
      "File path_read ./train/Banana__Bacterial_Wilt/aug_144_3338349.png\n",
      "File path_read ./train/Banana__Bacterial_Wilt/aug_144_8983130.png\n",
      "File path_read ./train/Banana__Bacterial_Wilt/aug_145_556160.png\n",
      "File path_read ./train/Banana__Bacterial_Wilt/aug_145_5682821.png\n",
      "File path_read ./train/Banana__Bacterial_Wilt/aug_146_6656679.png\n",
      "File path_read ./train/Banana__Bacterial_Wilt/aug_146_856815.png\n",
      "File path_read ./train/Banana__Bacterial_Wilt/aug_147_2004700.png\n",
      "File path_read ./train/Banana__Bacterial_Wilt/aug_147_6890891.png\n",
      "File path_read ./train/Banana__Bacterial_Wilt/aug_148_1793233.png\n",
      "File path_read ./train/Banana__Bacterial_Wilt/aug_148_8631847.png\n",
      "File path_read ./train/Banana__Bacterial_Wilt/aug_149_8396214.png\n",
      "File path_read ./train/Banana__Bacterial_Wilt/aug_149_8906448.png\n",
      "File path_read ./train/Banana__Bacterial_Wilt/aug_150_1033350.png\n",
      "File path_read ./train/Banana__Bacterial_Wilt/aug_150_8495833.png\n",
      "File path_read ./train/Banana__Bacterial_Wilt/aug_150_9907618.png\n",
      "File path_read ./train/Banana__Bacterial_Wilt/aug_151_7055654.png\n",
      "File path_read ./train/Banana__Bacterial_Wilt/aug_151_9249010.png\n",
      "File path_read ./train/Banana__Bacterial_Wilt/aug_152_7181531.png\n",
      "File path_read ./train/Banana__Bacterial_Wilt/aug_152_8878472.png\n",
      "File path_read ./train/Banana__Bacterial_Wilt/aug_153_4653986.png\n",
      "File path_read ./train/Banana__Bacterial_Wilt/aug_153_6495958.png\n",
      "File path_read ./train/Banana__Bacterial_Wilt/aug_154_2381330.png\n",
      "File path_read ./train/Banana__Bacterial_Wilt/aug_154_8317601.png\n",
      "File path_read ./train/Banana__Bacterial_Wilt/aug_155_2487985.png\n",
      "File path_read ./train/Banana__Bacterial_Wilt/aug_155_9032441.png\n",
      "File path_read ./train/Banana__Bacterial_Wilt/aug_156_5483192.png\n",
      "File path_read ./train/Banana__Bacterial_Wilt/aug_156_9708416.png\n",
      "File path_read ./train/Banana__Bacterial_Wilt/aug_157_2355354.png\n",
      "File path_read ./train/Banana__Bacterial_Wilt/aug_157_4079048.png\n",
      "File path_read ./train/Banana__Bacterial_Wilt/aug_158_1522061.png\n",
      "File path_read ./train/Banana__Bacterial_Wilt/aug_158_9084530.png\n",
      "File path_read ./train/Banana__Bacterial_Wilt/aug_159_2567987.png\n",
      "File path_read ./train/Banana__Bacterial_Wilt/aug_159_2899536.png\n",
      "File path_read ./train/Banana__Bacterial_Wilt/aug_159_9789620.png\n",
      "File path_read ./train/Banana__Bacterial_Wilt/aug_160_3784055.png\n",
      "File path_read ./train/Banana__Bacterial_Wilt/aug_160_5539350.png\n",
      "File path_read ./train/Banana__Bacterial_Wilt/aug_161_6731573.png\n",
      "File path_read ./train/Banana__Bacterial_Wilt/aug_161_719902.png\n",
      "File path_read ./train/Banana__Bacterial_Wilt/aug_162_6534045.png\n",
      "File path_read ./train/Banana__Bacterial_Wilt/aug_162_8252669.png\n",
      "File path_read ./train/Banana__Bacterial_Wilt/aug_163_1572026.png\n",
      "File path_read ./train/Banana__Bacterial_Wilt/aug_163_3121028.png\n",
      "File path_read ./train/Banana__Bacterial_Wilt/aug_163_8362188.png\n",
      "File path_read ./train/Banana__Bacterial_Wilt/aug_164_6377926.png\n",
      "File path_read ./train/Banana__Bacterial_Wilt/aug_164_7739700.png\n",
      "File path_read ./train/Banana__Bacterial_Wilt/aug_165_2675086.png\n",
      "File path_read ./train/Banana__Bacterial_Wilt/aug_165_9269318.png\n",
      "File path_read ./train/Banana__Bacterial_Wilt/aug_166_7973222.png\n",
      "File path_read ./train/Banana__Bacterial_Wilt/aug_166_8137779.png\n",
      "File path_read ./train/Banana__Bacterial_Wilt/aug_167_8746306.png\n",
      "File path_read ./train/Banana__Bacterial_Wilt/aug_167_9069141.png\n",
      "File path_read ./train/Banana__Bacterial_Wilt/aug_168_4428338.png\n",
      "File path_read ./train/Banana__Bacterial_Wilt/aug_168_9115998.png\n",
      "File path_read ./train/Banana__Bacterial_Wilt/aug_169_1621855.png\n",
      "File path_read ./train/Banana__Bacterial_Wilt/aug_169_4703728.png\n",
      "File path_read ./train/Banana__Bacterial_Wilt/aug_169_7819033.png\n",
      "File path_read ./train/Banana__Bacterial_Wilt/aug_170_5191819.png\n",
      "File path_read ./train/Banana__Bacterial_Wilt/aug_170_8547279.png\n",
      "File path_read ./train/Banana__Bacterial_Wilt/aug_171_2657954.png\n",
      "File path_read ./train/Banana__Bacterial_Wilt/aug_171_6913447.png\n",
      "File path_read ./train/Banana__Bacterial_Wilt/aug_172_1970103.png\n",
      "File path_read ./train/Banana__Bacterial_Wilt/aug_172_6022035.png\n",
      "File path_read ./train/Banana__Bacterial_Wilt/aug_173_297301.png\n",
      "File path_read ./train/Banana__Bacterial_Wilt/aug_173_6890470.png\n",
      "File path_read ./train/Banana__Bacterial_Wilt/aug_174_5074927.png\n",
      "File path_read ./train/Banana__Bacterial_Wilt/aug_174_8842539.png\n",
      "File path_read ./train/Banana__Bacterial_Wilt/aug_175_3611315.png\n",
      "File path_read ./train/Banana__Bacterial_Wilt/aug_175_8375230.png\n",
      "File path_read ./train/Banana__Bacterial_Wilt/aug_176_3674110.png\n",
      "File path_read ./train/Banana__Bacterial_Wilt/aug_176_5644036.png\n",
      "File path_read ./train/Banana__Bacterial_Wilt/aug_177_1169744.png\n",
      "File path_read ./train/Banana__Bacterial_Wilt/aug_177_5838851.png\n",
      "File path_read ./train/Banana__Bacterial_Wilt/aug_178_5547413.png\n",
      "File path_read ./train/Banana__Bacterial_Wilt/aug_178_9071288.png\n",
      "File path_read ./train/Banana__Bacterial_Wilt/aug_179_3798942.png\n",
      "File path_read ./train/Banana__Bacterial_Wilt/aug_179_6817884.png\n",
      "File path_read ./train/Banana__Bacterial_Wilt/aug_180_2578286.png\n",
      "File path_read ./train/Banana__Bacterial_Wilt/aug_180_3651935.png\n",
      "File path_read ./train/Banana__Bacterial_Wilt/aug_180_8958834.png\n",
      "File path_read ./train/Banana__Bacterial_Wilt/aug_181_1318196.png\n",
      "File path_read ./train/Banana__Bacterial_Wilt/aug_181_1583801.png\n",
      "File path_read ./train/Banana__Bacterial_Wilt/aug_182_3392070.png\n",
      "File path_read ./train/Banana__Bacterial_Wilt/aug_182_6388923.png\n",
      "File path_read ./train/Banana__Bacterial_Wilt/aug_183_3078497.png\n",
      "File path_read ./train/Banana__Bacterial_Wilt/aug_183_5556779.png\n",
      "File path_read ./train/Banana__Bacterial_Wilt/aug_184_1560691.png\n",
      "File path_read ./train/Banana__Bacterial_Wilt/aug_184_3098436.png\n",
      "File path_read ./train/Banana__Bacterial_Wilt/aug_185_3133238.png\n",
      "File path_read ./train/Banana__Bacterial_Wilt/aug_185_5544524.png\n",
      "File path_read ./train/Banana__Bacterial_Wilt/aug_186_2657995.png\n",
      "File path_read ./train/Banana__Bacterial_Wilt/aug_186_8024811.png\n",
      "File path_read ./train/Banana__Bacterial_Wilt/aug_187_3060171.png\n",
      "File path_read ./train/Banana__Bacterial_Wilt/aug_187_6618710.png\n",
      "File path_read ./train/Banana__Bacterial_Wilt/aug_188_5595616.png\n",
      "File path_read ./train/Banana__Bacterial_Wilt/aug_188_6601045.png\n",
      "File path_read ./train/Banana__Bacterial_Wilt/aug_189_5795745.png\n",
      "File path_read ./train/Banana__Bacterial_Wilt/aug_189_6388949.png\n",
      "File path_read ./train/Banana__Bacterial_Wilt/aug_189_8493283.png\n",
      "File path_read ./train/Banana__Bacterial_Wilt/aug_190_2587696.png\n",
      "File path_read ./train/Banana__Bacterial_Wilt/aug_190_6989974.png\n",
      "File path_read ./train/Banana__Bacterial_Wilt/aug_191_1588132.png\n",
      "File path_read ./train/Banana__Bacterial_Wilt/aug_191_7839757.png\n",
      "File path_read ./train/Banana__Bacterial_Wilt/aug_192_5555761.png\n",
      "File path_read ./train/Banana__Bacterial_Wilt/aug_192_843094.png\n",
      "File path_read ./train/Banana__Bacterial_Wilt/aug_192_9062932.png\n",
      "File path_read ./train/Banana__Bacterial_Wilt/aug_193_4768500.png\n",
      "File path_read ./train/Banana__Bacterial_Wilt/aug_193_5042703.png\n",
      "File path_read ./train/Banana__Bacterial_Wilt/aug_194_3170813.png\n",
      "File path_read ./train/Banana__Bacterial_Wilt/aug_194_5127526.png\n",
      "File path_read ./train/Banana__Bacterial_Wilt/aug_194_9020499.png\n",
      "File path_read ./train/Banana__Bacterial_Wilt/aug_195_4508957.png\n",
      "File path_read ./train/Banana__Bacterial_Wilt/aug_195_8877257.png\n",
      "File path_read ./train/Banana__Bacterial_Wilt/aug_196_7607945.png\n",
      "File path_read ./train/Banana__Bacterial_Wilt/aug_196_9525408.png\n",
      "File path_read ./train/Banana__Bacterial_Wilt/aug_197_3923070.png\n",
      "File path_read ./train/Banana__Bacterial_Wilt/aug_197_760186.png\n",
      "File path_read ./train/Banana__Bacterial_Wilt/aug_198_5171421.png\n",
      "File path_read ./train/Banana__Bacterial_Wilt/aug_198_5973639.png\n",
      "File path_read ./train/Banana__Bacterial_Wilt/aug_199_9203554.png\n",
      "File path_read ./train/Banana__Bacterial_Wilt/aug_199_9822168.png\n",
      "File path_read ./train/Banana__Bacterial_Wilt/aug_200_2185137.png\n",
      "File path_read ./train/Banana__Bacterial_Wilt/aug_200_4008353.png\n",
      "File path_read ./train/Banana__Bacterial_Wilt/aug_201_4323847.png\n",
      "File path_read ./train/Banana__Bacterial_Wilt/aug_201_6530821.png\n",
      "File path_read ./train/Banana__Bacterial_Wilt/aug_201_8032015.png\n",
      "File path_read ./train/Banana__Bacterial_Wilt/aug_202_2248570.png\n",
      "File path_read ./train/Banana__Bacterial_Wilt/aug_202_2703289.png\n",
      "File path_read ./train/Banana__Bacterial_Wilt/aug_202_2761816.png\n",
      "File path_read ./train/Banana__Bacterial_Wilt/aug_203_2439344.png\n",
      "File path_read ./train/Banana__Bacterial_Wilt/aug_203_7888101.png\n",
      "File path_read ./train/Banana__Bacterial_Wilt/aug_204_6216410.png\n",
      "File path_read ./train/Banana__Bacterial_Wilt/aug_204_7286010.png\n",
      "File path_read ./train/Banana__Bacterial_Wilt/aug_205_669777.png\n",
      "File path_read ./train/Banana__Bacterial_Wilt/aug_205_7317171.png\n",
      "File path_read ./train/Banana__Bacterial_Wilt/aug_205_9464910.png\n",
      "File path_read ./train/Banana__Bacterial_Wilt/aug_206_4140871.png\n",
      "File path_read ./train/Banana__Bacterial_Wilt/aug_206_6304274.png\n",
      "File path_read ./train/Banana__Bacterial_Wilt/aug_207_4640331.png\n",
      "File path_read ./train/Banana__Bacterial_Wilt/aug_207_7212055.png\n",
      "File path_read ./train/Banana__Bacterial_Wilt/aug_208_1238464.png\n",
      "File path_read ./train/Banana__Bacterial_Wilt/aug_208_5572115.png\n",
      "File path_read ./train/Banana__Bacterial_Wilt/aug_209_4402773.png\n",
      "File path_read ./train/Banana__Bacterial_Wilt/aug_209_8743098.png\n",
      "File path_read ./train/Banana__Bacterial_Wilt/aug_210_7470095.png\n",
      "File path_read ./train/Banana__Bacterial_Wilt/aug_210_8730889.png\n",
      "File path_read ./train/Banana__Bacterial_Wilt/aug_211_1133379.png\n",
      "File path_read ./train/Banana__Bacterial_Wilt/aug_211_4271421.png\n",
      "File path_read ./train/Banana__Bacterial_Wilt/aug_212_2830194.png\n",
      "File path_read ./train/Banana__Bacterial_Wilt/aug_212_4929067.png\n",
      "File path_read ./train/Banana__Bacterial_Wilt/aug_212_8768876.png\n",
      "File path_read ./train/Banana__Bacterial_Wilt/aug_213_142574.png\n",
      "File path_read ./train/Banana__Bacterial_Wilt/aug_213_3774166.png\n",
      "File path_read ./train/Banana__Bacterial_Wilt/aug_213_8412997.png\n",
      "File path_read ./train/Banana__Bacterial_Wilt/aug_214_5121159.png\n",
      "File path_read ./train/Banana__Bacterial_Wilt/aug_214_6355276.png\n",
      "File path_read ./train/Banana__Bacterial_Wilt/aug_215_2431673.png\n",
      "File path_read ./train/Banana__Bacterial_Wilt/aug_215_2681606.png\n",
      "File path_read ./train/Banana__Bacterial_Wilt/aug_216_1926971.png\n",
      "File path_read ./train/Banana__Bacterial_Wilt/aug_216_4360264.png\n",
      "File path_read ./train/Banana__Bacterial_Wilt/aug_216_7692385.png\n",
      "File path_read ./train/Banana__Bacterial_Wilt/aug_217_1972710.png\n",
      "File path_read ./train/Banana__Bacterial_Wilt/aug_217_5393567.png\n",
      "File path_read ./train/Banana__Bacterial_Wilt/aug_217_8048155.png\n",
      "File path_read ./train/Banana__Bacterial_Wilt/aug_218_2189685.png\n",
      "File path_read ./train/Banana__Bacterial_Wilt/aug_218_4811596.png\n",
      "File path_read ./train/Banana__Bacterial_Wilt/aug_218_5272447.png\n",
      "File path_read ./train/Banana__Bacterial_Wilt/aug_219_1341202.png\n",
      "File path_read ./train/Banana__Bacterial_Wilt/aug_219_6108456.png\n",
      "File path_read ./train/Banana__Bacterial_Wilt/aug_219_9284100.png\n",
      "File path_read ./train/Banana__Bacterial_Wilt/aug_220_2506983.png\n",
      "File path_read ./train/Banana__Bacterial_Wilt/aug_220_9560880.png\n",
      "File path_read ./train/Banana__Bacterial_Wilt/aug_221_6420148.png\n",
      "File path_read ./train/Banana__Bacterial_Wilt/aug_221_7893184.png\n",
      "File path_read ./train/Banana__Bacterial_Wilt/aug_222_4777853.png\n",
      "File path_read ./train/Banana__Bacterial_Wilt/aug_222_8730248.png\n",
      "File path_read ./train/Banana__Bacterial_Wilt/aug_223_3478505.png\n",
      "File path_read ./train/Banana__Bacterial_Wilt/aug_223_6733896.png\n",
      "File path_read ./train/Banana__Bacterial_Wilt/aug_224_5591772.png\n",
      "File path_read ./train/Banana__Bacterial_Wilt/aug_224_7392830.png\n",
      "File path_read ./train/Banana__Bacterial_Wilt/aug_225_2444862.png\n",
      "File path_read ./train/Banana__Bacterial_Wilt/aug_225_277799.png\n",
      "File path_read ./train/Banana__Bacterial_Wilt/aug_225_685163.png\n",
      "File path_read ./train/Banana__Bacterial_Wilt/aug_226_1950220.png\n",
      "File path_read ./train/Banana__Bacterial_Wilt/aug_226_7370001.png\n",
      "File path_read ./train/Banana__Bacterial_Wilt/aug_226_8781941.png\n",
      "File path_read ./train/Banana__Bacterial_Wilt/aug_227_1154636.png\n",
      "File path_read ./train/Banana__Bacterial_Wilt/aug_227_7915093.png\n",
      "File path_read ./train/Banana__Bacterial_Wilt/aug_228_4465354.png\n",
      "File path_read ./train/Banana__Bacterial_Wilt/aug_228_5405898.png\n",
      "File path_read ./train/Banana__Bacterial_Wilt/aug_229_2673598.png\n",
      "File path_read ./train/Banana__Bacterial_Wilt/aug_229_3933869.png\n",
      "File path_read ./train/Banana__Bacterial_Wilt/aug_229_4557799.png\n",
      "File path_read ./train/Banana__Bacterial_Wilt/aug_230_5486115.png\n",
      "File path_read ./train/Banana__Bacterial_Wilt/aug_230_981162.png\n",
      "File path_read ./train/Banana__Bacterial_Wilt/aug_231_2560241.png\n",
      "File path_read ./train/Banana__Bacterial_Wilt/aug_231_9177485.png\n",
      "File path_read ./train/Banana__Bacterial_Wilt/aug_232_5221281.png\n",
      "File path_read ./train/Banana__Bacterial_Wilt/aug_232_718973.png\n",
      "File path_read ./train/Banana__Bacterial_Wilt/aug_233_4278728.png\n",
      "File path_read ./train/Banana__Bacterial_Wilt/aug_233_8081057.png\n",
      "File path_read ./train/Banana__Bacterial_Wilt/aug_234_492165.png\n",
      "File path_read ./train/Banana__Bacterial_Wilt/aug_234_6271167.png\n",
      "File path_read ./train/Banana__Bacterial_Wilt/aug_235_6908486.png\n",
      "File path_read ./train/Banana__Bacterial_Wilt/aug_235_7808926.png\n",
      "File path_read ./train/Banana__Bacterial_Wilt/aug_236_4144267.png\n",
      "File path_read ./train/Banana__Bacterial_Wilt/aug_236_685736.png\n",
      "File path_read ./train/Banana__Bacterial_Wilt/aug_237_1485790.png\n",
      "File path_read ./train/Banana__Bacterial_Wilt/aug_237_9599069.png\n",
      "File path_read ./train/Banana__Bacterial_Wilt/aug_238_2938051.png\n",
      "File path_read ./train/Banana__Bacterial_Wilt/aug_238_4795112.png\n",
      "File path_read ./train/Banana__Bacterial_Wilt/aug_238_724322.png\n",
      "File path_read ./train/Banana__Bacterial_Wilt/aug_239_4760293.png\n",
      "File path_read ./train/Banana__Bacterial_Wilt/aug_239_5848177.png\n",
      "File path_read ./train/Banana__Bacterial_Wilt/aug_240_5665959.png\n",
      "File path_read ./train/Banana__Bacterial_Wilt/aug_240_5818288.png\n",
      "File path_read ./train/Banana__Bacterial_Wilt/aug_241_7685514.png\n",
      "File path_read ./train/Banana__Bacterial_Wilt/aug_241_8885065.png\n",
      "File path_read ./train/Banana__Bacterial_Wilt/aug_242_1455645.png\n",
      "File path_read ./train/Banana__Bacterial_Wilt/aug_242_3191011.png\n",
      "File path_read ./train/Banana__Bacterial_Wilt/aug_243_9058658.png\n",
      "File path_read ./train/Banana__Bacterial_Wilt/aug_243_9570682.png\n",
      "File path_read ./train/Banana__Bacterial_Wilt/aug_244_5492051.png\n",
      "File path_read ./train/Banana__Bacterial_Wilt/aug_244_9650531.png\n",
      "File path_read ./train/Banana__Bacterial_Wilt/aug_245_3998327.png\n",
      "File path_read ./train/Banana__Bacterial_Wilt/aug_245_7721830.png\n",
      "File path_read ./train/Banana__Bacterial_Wilt/aug_245_9728276.png\n",
      "File path_read ./train/Banana__Bacterial_Wilt/aug_246_3893025.png\n",
      "File path_read ./train/Banana__Bacterial_Wilt/aug_246_7811248.png\n",
      "File path_read ./train/Banana__Bacterial_Wilt/aug_247_2828338.png\n",
      "File path_read ./train/Banana__Bacterial_Wilt/aug_247_9395650.png\n",
      "File path_read ./train/Banana__Bacterial_Wilt/aug_247_9693977.png\n",
      "File path_read ./train/Banana__Bacterial_Wilt/aug_248_7244769.png\n",
      "File path_read ./train/Banana__Bacterial_Wilt/aug_248_7427843.png\n",
      "File path_read ./train/Banana__Bacterial_Wilt/aug_249_1891052.png\n",
      "File path_read ./train/Banana__Bacterial_Wilt/aug_249_7037695.png\n",
      "File path_read ./train/Banana__Bacterial_Wilt/aug_250_2303538.png\n",
      "File path_read ./train/Banana__Bacterial_Wilt/aug_250_4528543.png\n",
      "File path_read ./train/Banana__Bacterial_Wilt/aug_251_2529135.png\n",
      "File path_read ./train/Banana__Bacterial_Wilt/aug_251_4004948.png\n",
      "File path_read ./train/Banana__Bacterial_Wilt/aug_252_7804341.png\n",
      "File path_read ./train/Banana__Bacterial_Wilt/aug_252_784415.png\n",
      "File path_read ./train/Banana__Bacterial_Wilt/aug_253_2139144.png\n",
      "File path_read ./train/Banana__Bacterial_Wilt/aug_29_5093943.png\n",
      "File path_read ./train/Banana__Bacterial_Wilt/aug_30_4551589.png\n",
      "File path_read ./train/Banana__Bacterial_Wilt/aug_30_498236.png\n",
      "File path_read ./train/Banana__Bacterial_Wilt/aug_31_5331805.png\n",
      "File path_read ./train/Banana__Bacterial_Wilt/aug_31_6357361.png\n",
      "File path_read ./train/Banana__Bacterial_Wilt/aug_32_2162029.png\n",
      "File path_read ./train/Banana__Bacterial_Wilt/aug_32_8656649.png\n",
      "File path_read ./train/Banana__Bacterial_Wilt/aug_33_1040954.png\n",
      "File path_read ./train/Banana__Bacterial_Wilt/aug_33_5867616.png\n",
      "File path_read ./train/Banana__Bacterial_Wilt/aug_34_3541117.png\n",
      "File path_read ./train/Banana__Bacterial_Wilt/aug_34_6009611.png\n",
      "File path_read ./train/Banana__Bacterial_Wilt/aug_35_1020426.png\n",
      "File path_read ./train/Banana__Bacterial_Wilt/aug_35_4136436.png\n",
      "File path_read ./train/Banana__Bacterial_Wilt/aug_36_1445456.png\n",
      "File path_read ./train/Banana__Bacterial_Wilt/aug_36_918157.png\n",
      "File path_read ./train/Banana__Bacterial_Wilt/aug_37_1484155.png\n",
      "File path_read ./train/Banana__Bacterial_Wilt/aug_37_45271.png\n",
      "File path_read ./train/Banana__Bacterial_Wilt/aug_37_9734724.png\n",
      "File path_read ./train/Banana__Bacterial_Wilt/aug_38_4485829.png\n",
      "File path_read ./train/Banana__Bacterial_Wilt/aug_38_7579672.png\n",
      "File path_read ./train/Banana__Bacterial_Wilt/aug_39_6687069.png\n",
      "File path_read ./train/Banana__Bacterial_Wilt/aug_39_7186409.png\n",
      "File path_read ./train/Banana__Bacterial_Wilt/aug_40_4608441.png\n",
      "File path_read ./train/Banana__Bacterial_Wilt/aug_40_7564686.png\n",
      "File path_read ./train/Banana__Bacterial_Wilt/aug_40_8136260.png\n",
      "File path_read ./train/Banana__Bacterial_Wilt/aug_41_2415547.png\n",
      "File path_read ./train/Banana__Bacterial_Wilt/aug_41_2881778.png\n",
      "File path_read ./train/Banana__Bacterial_Wilt/aug_42_3927063.png\n",
      "File path_read ./train/Banana__Bacterial_Wilt/aug_42_9060278.png\n",
      "File path_read ./train/Banana__Bacterial_Wilt/aug_43_6339429.png\n",
      "File path_read ./train/Banana__Bacterial_Wilt/aug_43_6540362.png\n",
      "File path_read ./train/Banana__Bacterial_Wilt/aug_44_5728340.png\n",
      "File path_read ./train/Banana__Bacterial_Wilt/aug_44_8317473.png\n",
      "File path_read ./train/Banana__Bacterial_Wilt/aug_45_641672.png\n",
      "File path_read ./train/Banana__Bacterial_Wilt/aug_45_9146700.png\n",
      "File path_read ./train/Banana__Bacterial_Wilt/aug_46_5209453.png\n",
      "File path_read ./train/Banana__Bacterial_Wilt/aug_46_6554013.png\n",
      "File path_read ./train/Banana__Bacterial_Wilt/aug_47_3407169.png\n",
      "File path_read ./train/Banana__Bacterial_Wilt/aug_47_6842623.png\n",
      "File path_read ./train/Banana__Bacterial_Wilt/aug_48_3718926.png\n",
      "File path_read ./train/Banana__Bacterial_Wilt/aug_48_5757389.png\n",
      "File path_read ./train/Banana__Bacterial_Wilt/aug_49_6100090.png\n",
      "File path_read ./train/Banana__Bacterial_Wilt/aug_49_7282023.png\n",
      "File path_read ./train/Banana__Bacterial_Wilt/aug_49_8213153.png\n",
      "File path_read ./train/Banana__Bacterial_Wilt/aug_50_1809608.png\n",
      "File path_read ./train/Banana__Bacterial_Wilt/aug_50_7457184.png\n",
      "File path_read ./train/Banana__Bacterial_Wilt/aug_51_1484969.png\n",
      "File path_read ./train/Banana__Bacterial_Wilt/aug_51_7897123.png\n",
      "File path_read ./train/Banana__Bacterial_Wilt/aug_52_3205851.png\n",
      "File path_read ./train/Banana__Bacterial_Wilt/aug_52_55709.png\n",
      "File path_read ./train/Banana__Bacterial_Wilt/aug_53_2034630.png\n",
      "File path_read ./train/Banana__Bacterial_Wilt/aug_53_3288451.png\n",
      "File path_read ./train/Banana__Bacterial_Wilt/aug_53_7099456.png\n",
      "File path_read ./train/Banana__Bacterial_Wilt/aug_54_6249611.png\n",
      "File path_read ./train/Banana__Bacterial_Wilt/aug_54_6411834.png\n",
      "File path_read ./train/Banana__Bacterial_Wilt/aug_55_5202886.png\n",
      "File path_read ./train/Banana__Bacterial_Wilt/aug_55_8799636.png\n",
      "File path_read ./train/Banana__Bacterial_Wilt/aug_55_9593529.png\n",
      "File path_read ./train/Banana__Bacterial_Wilt/aug_56_154307.png\n",
      "File path_read ./train/Banana__Bacterial_Wilt/aug_56_3169308.png\n",
      "File path_read ./train/Banana__Bacterial_Wilt/aug_57_4993452.png\n",
      "File path_read ./train/Banana__Bacterial_Wilt/aug_57_6774627.png\n",
      "File path_read ./train/Banana__Bacterial_Wilt/aug_57_6821072.png\n",
      "File path_read ./train/Banana__Bacterial_Wilt/aug_58_3316584.png\n",
      "File path_read ./train/Banana__Bacterial_Wilt/aug_58_5858424.png\n",
      "File path_read ./train/Banana__Bacterial_Wilt/aug_58_920600.png\n",
      "File path_read ./train/Banana__Bacterial_Wilt/aug_59_3153718.png\n",
      "File path_read ./train/Banana__Bacterial_Wilt/aug_59_5978113.png\n",
      "File path_read ./train/Banana__Bacterial_Wilt/aug_59_6614897.png\n",
      "File path_read ./train/Banana__Bacterial_Wilt/aug_60_5232466.png\n",
      "File path_read ./train/Banana__Bacterial_Wilt/aug_60_7298201.png\n",
      "File path_read ./train/Banana__Bacterial_Wilt/aug_60_8029370.png\n",
      "File path_read ./train/Banana__Bacterial_Wilt/aug_61_1570925.png\n",
      "File path_read ./train/Banana__Bacterial_Wilt/aug_61_8210886.png\n",
      "File path_read ./train/Banana__Bacterial_Wilt/aug_62_5564090.png\n",
      "File path_read ./train/Banana__Bacterial_Wilt/aug_62_8634475.png\n",
      "File path_read ./train/Banana__Bacterial_Wilt/aug_63_4501740.png\n",
      "File path_read ./train/Banana__Bacterial_Wilt/aug_63_7598164.png\n",
      "File path_read ./train/Banana__Bacterial_Wilt/aug_63_9613207.png\n",
      "File path_read ./train/Banana__Bacterial_Wilt/aug_64_2110624.png\n",
      "File path_read ./train/Banana__Bacterial_Wilt/aug_64_2919879.png\n",
      "File path_read ./train/Banana__Bacterial_Wilt/aug_65_2540873.png\n",
      "File path_read ./train/Banana__Bacterial_Wilt/aug_65_7502417.png\n",
      "File path_read ./train/Banana__Bacterial_Wilt/aug_66_419096.png\n",
      "File path_read ./train/Banana__Bacterial_Wilt/aug_66_4212626.png\n",
      "File path_read ./train/Banana__Bacterial_Wilt/aug_67_3687938.png\n",
      "File path_read ./train/Banana__Bacterial_Wilt/aug_67_5704533.png\n",
      "File path_read ./train/Banana__Bacterial_Wilt/aug_67_9256770.png\n",
      "File path_read ./train/Banana__Bacterial_Wilt/aug_68_2411034.png\n",
      "File path_read ./train/Banana__Bacterial_Wilt/aug_68_46233.png\n",
      "File path_read ./train/Banana__Bacterial_Wilt/aug_69_6929018.png\n",
      "File path_read ./train/Banana__Bacterial_Wilt/aug_69_9074342.png\n",
      "File path_read ./train/Banana__Bacterial_Wilt/aug_70_2045420.png\n",
      "File path_read ./train/Banana__Bacterial_Wilt/aug_70_9224745.png\n",
      "File path_read ./train/Banana__Bacterial_Wilt/aug_71_4442303.png\n",
      "File path_read ./train/Banana__Bacterial_Wilt/aug_71_5140430.png\n",
      "File path_read ./train/Banana__Bacterial_Wilt/aug_72_4211675.png\n",
      "File path_read ./train/Banana__Bacterial_Wilt/aug_72_4264192.png\n",
      "File path_read ./train/Banana__Bacterial_Wilt/aug_72_8380484.png\n",
      "File path_read ./train/Banana__Bacterial_Wilt/aug_73_3439845.png\n",
      "File path_read ./train/Banana__Bacterial_Wilt/aug_73_6937648.png\n",
      "File path_read ./train/Banana__Bacterial_Wilt/aug_74_1460707.png\n",
      "File path_read ./train/Banana__Bacterial_Wilt/aug_74_3212410.png\n",
      "File path_read ./train/Banana__Bacterial_Wilt/aug_74_5624281.png\n",
      "File path_read ./train/Banana__Bacterial_Wilt/aug_75_4665681.png\n",
      "File path_read ./train/Banana__Bacterial_Wilt/aug_75_5442661.png\n",
      "File path_read ./train/Banana__Bacterial_Wilt/aug_76_418168.png\n",
      "File path_read ./train/Banana__Bacterial_Wilt/aug_76_6609263.png\n",
      "File path_read ./train/Banana__Bacterial_Wilt/aug_76_782509.png\n",
      "File path_read ./train/Banana__Bacterial_Wilt/aug_77_2513423.png\n",
      "File path_read ./train/Banana__Bacterial_Wilt/aug_77_7761908.png\n",
      "File path_read ./train/Banana__Bacterial_Wilt/aug_77_8643469.png\n",
      "File path_read ./train/Banana__Bacterial_Wilt/aug_78_2801763.png\n",
      "File path_read ./train/Banana__Bacterial_Wilt/aug_78_5784056.png\n",
      "File path_read ./train/Banana__Bacterial_Wilt/aug_79_3984395.png\n",
      "File path_read ./train/Banana__Bacterial_Wilt/aug_79_95984.png\n",
      "File path_read ./train/Banana__Bacterial_Wilt/aug_80_786124.png\n",
      "File path_read ./train/Banana__Bacterial_Wilt/aug_80_8377230.png\n",
      "File path_read ./train/Banana__Bacterial_Wilt/aug_80_9473842.png\n",
      "File path_read ./train/Banana__Bacterial_Wilt/aug_81_2999881.png\n",
      "File path_read ./train/Banana__Bacterial_Wilt/aug_81_3261788.png\n",
      "File path_read ./train/Banana__Bacterial_Wilt/aug_81_3651708.png\n",
      "File path_read ./train/Banana__Bacterial_Wilt/aug_82_1296371.png\n",
      "File path_read ./train/Banana__Bacterial_Wilt/aug_82_1620634.png\n",
      "File path_read ./train/Banana__Bacterial_Wilt/aug_83_7296235.png\n",
      "File path_read ./train/Banana__Bacterial_Wilt/aug_83_8428102.png\n",
      "File path_read ./train/Banana__Bacterial_Wilt/aug_84_2910102.png\n",
      "File path_read ./train/Banana__Bacterial_Wilt/aug_84_4096691.png\n",
      "File path_read ./train/Banana__Bacterial_Wilt/aug_84_57953.png\n",
      "File path_read ./train/Banana__Bacterial_Wilt/aug_85_1288866.png\n",
      "File path_read ./train/Banana__Bacterial_Wilt/aug_85_1486167.png\n",
      "File path_read ./train/Banana__Bacterial_Wilt/aug_86_1377698.png\n",
      "File path_read ./train/Banana__Bacterial_Wilt/aug_86_5450931.png\n",
      "File path_read ./train/Banana__Bacterial_Wilt/aug_87_4288264.png\n",
      "File path_read ./train/Banana__Bacterial_Wilt/aug_87_748627.png\n",
      "File path_read ./train/Banana__Bacterial_Wilt/aug_88_3738279.png\n",
      "File path_read ./train/Banana__Bacterial_Wilt/aug_88_8116235.png\n",
      "File path_read ./train/Banana__Bacterial_Wilt/aug_89_2642941.png\n",
      "File path_read ./train/Banana__Bacterial_Wilt/aug_89_7616753.png\n",
      "File path_read ./train/Banana__Bacterial_Wilt/aug_90_4851198.png\n",
      "File path_read ./train/Banana__Bacterial_Wilt/aug_90_8513367.png\n",
      "File path_read ./train/Banana__Bacterial_Wilt/aug_91_1968981.png\n",
      "File path_read ./train/Banana__Bacterial_Wilt/aug_91_9641557.png\n",
      "File path_read ./train/Banana__Bacterial_Wilt/aug_92_1151953.png\n",
      "File path_read ./train/Banana__Bacterial_Wilt/aug_92_6698429.png\n",
      "File path_read ./train/Banana__Bacterial_Wilt/aug_93_8480456.png\n",
      "File path_read ./train/Banana__Bacterial_Wilt/aug_93_8576255.png\n",
      "File path_read ./train/Banana__Bacterial_Wilt/aug_94_6168514.png\n",
      "File path_read ./train/Banana__Bacterial_Wilt/aug_94_7599692.png\n",
      "File path_read ./train/Banana__Bacterial_Wilt/aug_95_2764933.png\n",
      "File path_read ./train/Banana__Bacterial_Wilt/aug_95_3471636.png\n",
      "File path_read ./train/Banana__Bacterial_Wilt/aug_96_5500161.png\n",
      "File path_read ./train/Banana__Bacterial_Wilt/aug_96_5882449.png\n",
      "File path_read ./train/Banana__Bacterial_Wilt/aug_97_5165656.png\n",
      "File path_read ./train/Banana__Bacterial_Wilt/aug_97_7048530.png\n",
      "File path_read ./train/Banana__Bacterial_Wilt/aug_98_2094694.png\n",
      "File path_read ./train/Banana__Bacterial_Wilt/aug_98_9850753.png\n",
      "File path_read ./train/Banana__Bacterial_Wilt/aug_99_6591906.png\n"
     ]
    },
    {
     "name": "stderr",
     "output_type": "stream",
     "text": [
      "Lossy conversion from float64 to uint8. Range [0, 1]. Convert image to uint8 prior to saving to suppress this warning.\n",
      "Lossy conversion from float64 to uint8. Range [0, 1]. Convert image to uint8 prior to saving to suppress this warning.\n"
     ]
    },
    {
     "name": "stdout",
     "output_type": "stream",
     "text": [
      "File path_read ./train/Banana__Bacterial_Wilt/aug_99_7240189.png\n",
      "File path_read ./train/Banana__Bacterial_Wilt/aug_99_7484485.png\n",
      "\n",
      "./train/Banana__Black_sigatoka_disease\n",
      "File path_read ./train/Banana__Black_sigatoka_disease/32.png\n",
      "File path_read ./train/Banana__Black_sigatoka_disease/33.png\n",
      "File path_read ./train/Banana__Black_sigatoka_disease/34.png\n"
     ]
    },
    {
     "name": "stderr",
     "output_type": "stream",
     "text": [
      "Lossy conversion from float64 to uint8. Range [0, 1]. Convert image to uint8 prior to saving to suppress this warning.\n",
      "Lossy conversion from float64 to uint8. Range [0, 1]. Convert image to uint8 prior to saving to suppress this warning.\n",
      "Lossy conversion from float64 to uint8. Range [0, 1]. Convert image to uint8 prior to saving to suppress this warning.\n",
      "Lossy conversion from float64 to uint8. Range [0, 1]. Convert image to uint8 prior to saving to suppress this warning.\n"
     ]
    },
    {
     "name": "stdout",
     "output_type": "stream",
     "text": [
      "File path_read ./train/Banana__Black_sigatoka_disease/35.png\n",
      "File path_read ./train/Banana__Black_sigatoka_disease/36.png\n",
      "File path_read ./train/Banana__Black_sigatoka_disease/37.png\n"
     ]
    },
    {
     "name": "stderr",
     "output_type": "stream",
     "text": [
      "Lossy conversion from float64 to uint8. Range [0, 1]. Convert image to uint8 prior to saving to suppress this warning.\n",
      "Lossy conversion from float64 to uint8. Range [0, 1]. Convert image to uint8 prior to saving to suppress this warning.\n",
      "Lossy conversion from float64 to uint8. Range [0, 1]. Convert image to uint8 prior to saving to suppress this warning.\n",
      "Lossy conversion from float64 to uint8. Range [0, 1]. Convert image to uint8 prior to saving to suppress this warning.\n",
      "Lossy conversion from float64 to uint8. Range [0, 1]. Convert image to uint8 prior to saving to suppress this warning.\n"
     ]
    },
    {
     "name": "stdout",
     "output_type": "stream",
     "text": [
      "File path_read ./train/Banana__Black_sigatoka_disease/38.png\n",
      "File path_read ./train/Banana__Black_sigatoka_disease/39.png\n",
      "File path_read ./train/Banana__Black_sigatoka_disease/40.png\n",
      "File path_read ./train/Banana__Black_sigatoka_disease/41.png\n",
      "File path_read ./train/Banana__Black_sigatoka_disease/42.png\n"
     ]
    },
    {
     "name": "stderr",
     "output_type": "stream",
     "text": [
      "Lossy conversion from float64 to uint8. Range [0, 1]. Convert image to uint8 prior to saving to suppress this warning.\n"
     ]
    },
    {
     "name": "stdout",
     "output_type": "stream",
     "text": [
      "File path_read ./train/Banana__Black_sigatoka_disease/43.png\n",
      "File path_read ./train/Banana__Black_sigatoka_disease/aug_10_1226998.png\n",
      "File path_read ./train/Banana__Black_sigatoka_disease/aug_10_6883864.png\n",
      "File path_read ./train/Banana__Black_sigatoka_disease/aug_10_6953791.png\n",
      "File path_read ./train/Banana__Black_sigatoka_disease/aug_10_8601305.png\n",
      "File path_read ./train/Banana__Black_sigatoka_disease/aug_12_7883737.png\n",
      "File path_read ./train/Banana__Black_sigatoka_disease/aug_12_9359769.png\n",
      "File path_read ./train/Banana__Black_sigatoka_disease/aug_13_2919264.png\n",
      "File path_read ./train/Banana__Black_sigatoka_disease/aug_13_3969960.png\n",
      "File path_read ./train/Banana__Black_sigatoka_disease/aug_13_704769.png\n",
      "File path_read ./train/Banana__Black_sigatoka_disease/aug_13_8216954.png\n",
      "File path_read ./train/Banana__Black_sigatoka_disease/aug_14_2943412.png\n",
      "File path_read ./train/Banana__Black_sigatoka_disease/aug_14_4404381.png\n",
      "File path_read ./train/Banana__Black_sigatoka_disease/aug_14_5944621.png\n",
      "File path_read ./train/Banana__Black_sigatoka_disease/aug_14_6519466.png\n",
      "File path_read ./train/Banana__Black_sigatoka_disease/aug_14_7258827.png\n",
      "File path_read ./train/Banana__Black_sigatoka_disease/aug_15_1713231.png\n",
      "File path_read ./train/Banana__Black_sigatoka_disease/aug_15_5917353.png\n",
      "File path_read ./train/Banana__Black_sigatoka_disease/aug_15_7108987.png\n",
      "File path_read ./train/Banana__Black_sigatoka_disease/aug_15_774105.png\n",
      "File path_read ./train/Banana__Black_sigatoka_disease/aug_15_7749526.png\n",
      "File path_read ./train/Banana__Black_sigatoka_disease/aug_16_1992850.png\n",
      "File path_read ./train/Banana__Black_sigatoka_disease/aug_16_3709453.png\n",
      "File path_read ./train/Banana__Black_sigatoka_disease/aug_16_8159063.png\n",
      "File path_read ./train/Banana__Black_sigatoka_disease/aug_16_8877251.png\n",
      "File path_read ./train/Banana__Black_sigatoka_disease/aug_16_9074536.png\n",
      "File path_read ./train/Banana__Black_sigatoka_disease/aug_17_1871245.png\n",
      "File path_read ./train/Banana__Black_sigatoka_disease/aug_17_396074.png\n",
      "File path_read ./train/Banana__Black_sigatoka_disease/aug_17_6632317.png\n",
      "File path_read ./train/Banana__Black_sigatoka_disease/aug_17_9033510.png\n",
      "File path_read ./train/Banana__Black_sigatoka_disease/aug_17_9428381.png\n",
      "File path_read ./train/Banana__Black_sigatoka_disease/aug_18_2598657.png\n",
      "File path_read ./train/Banana__Black_sigatoka_disease/aug_18_3158593.png\n",
      "File path_read ./train/Banana__Black_sigatoka_disease/aug_18_4418947.png\n",
      "File path_read ./train/Banana__Black_sigatoka_disease/aug_18_7082617.png\n",
      "File path_read ./train/Banana__Black_sigatoka_disease/aug_18_951864.png\n",
      "File path_read ./train/Banana__Black_sigatoka_disease/aug_19_1479424.png\n",
      "File path_read ./train/Banana__Black_sigatoka_disease/aug_19_3199728.png\n",
      "File path_read ./train/Banana__Black_sigatoka_disease/aug_19_5424932.png\n",
      "File path_read ./train/Banana__Black_sigatoka_disease/aug_19_5802559.png\n",
      "File path_read ./train/Banana__Black_sigatoka_disease/aug_19_9286238.png\n",
      "File path_read ./train/Banana__Black_sigatoka_disease/aug_20_3221798.png\n",
      "File path_read ./train/Banana__Black_sigatoka_disease/aug_20_564639.png\n",
      "File path_read ./train/Banana__Black_sigatoka_disease/aug_20_7334218.png\n",
      "File path_read ./train/Banana__Black_sigatoka_disease/aug_20_8282148.png\n",
      "File path_read ./train/Banana__Black_sigatoka_disease/aug_20_9847835.png\n",
      "File path_read ./train/Banana__Black_sigatoka_disease/aug_21_1703697.png\n",
      "File path_read ./train/Banana__Black_sigatoka_disease/aug_21_2023999.png\n",
      "File path_read ./train/Banana__Black_sigatoka_disease/aug_21_3261742.png\n",
      "File path_read ./train/Banana__Black_sigatoka_disease/aug_21_8883512.png\n",
      "File path_read ./train/Banana__Black_sigatoka_disease/aug_21_968643.png\n",
      "File path_read ./train/Banana__Black_sigatoka_disease/aug_22_2102553.png\n",
      "File path_read ./train/Banana__Black_sigatoka_disease/aug_22_2309497.png\n",
      "File path_read ./train/Banana__Black_sigatoka_disease/aug_22_8908248.png\n",
      "File path_read ./train/Banana__Black_sigatoka_disease/aug_22_9425524.png\n",
      "File path_read ./train/Banana__Black_sigatoka_disease/aug_22_9765643.png\n",
      "File path_read ./train/Banana__Black_sigatoka_disease/aug_23_1122615.png\n",
      "File path_read ./train/Banana__Black_sigatoka_disease/aug_23_2861132.png\n",
      "File path_read ./train/Banana__Black_sigatoka_disease/aug_23_4556495.png\n",
      "File path_read ./train/Banana__Black_sigatoka_disease/aug_23_4936387.png\n",
      "File path_read ./train/Banana__Black_sigatoka_disease/aug_23_8437367.png\n",
      "File path_read ./train/Banana__Black_sigatoka_disease/aug_24_4401958.png\n",
      "File path_read ./train/Banana__Black_sigatoka_disease/aug_24_5057607.png\n",
      "File path_read ./train/Banana__Black_sigatoka_disease/aug_24_6373831.png\n",
      "File path_read ./train/Banana__Black_sigatoka_disease/aug_24_764881.png\n",
      "File path_read ./train/Banana__Black_sigatoka_disease/aug_24_9769413.png\n",
      "File path_read ./train/Banana__Black_sigatoka_disease/aug_25_3834931.png\n",
      "File path_read ./train/Banana__Black_sigatoka_disease/aug_25_4402313.png\n",
      "File path_read ./train/Banana__Black_sigatoka_disease/aug_25_5770476.png\n",
      "File path_read ./train/Banana__Black_sigatoka_disease/aug_25_7583644.png\n",
      "File path_read ./train/Banana__Black_sigatoka_disease/aug_25_7812003.png\n",
      "File path_read ./train/Banana__Black_sigatoka_disease/aug_26_1220185.png\n",
      "File path_read ./train/Banana__Black_sigatoka_disease/aug_26_1366634.png\n",
      "File path_read ./train/Banana__Black_sigatoka_disease/aug_26_1729851.png\n",
      "File path_read ./train/Banana__Black_sigatoka_disease/aug_26_5850763.png\n",
      "File path_read ./train/Banana__Black_sigatoka_disease/aug_26_9638511.png\n",
      "File path_read ./train/Banana__Black_sigatoka_disease/aug_27_1230075.png\n",
      "File path_read ./train/Banana__Black_sigatoka_disease/aug_27_3930742.png\n",
      "File path_read ./train/Banana__Black_sigatoka_disease/aug_27_5303088.png\n",
      "File path_read ./train/Banana__Black_sigatoka_disease/aug_27_6069768.png\n",
      "File path_read ./train/Banana__Black_sigatoka_disease/aug_27_9616.png\n",
      "File path_read ./train/Banana__Black_sigatoka_disease/aug_28_1535064.png\n",
      "File path_read ./train/Banana__Black_sigatoka_disease/aug_28_4494499.png\n",
      "File path_read ./train/Banana__Black_sigatoka_disease/aug_28_5708564.png\n",
      "File path_read ./train/Banana__Black_sigatoka_disease/aug_28_7298368.png\n",
      "File path_read ./train/Banana__Black_sigatoka_disease/aug_28_8729819.png\n",
      "File path_read ./train/Banana__Black_sigatoka_disease/aug_29_1666741.png\n",
      "File path_read ./train/Banana__Black_sigatoka_disease/aug_29_1869471.png\n",
      "File path_read ./train/Banana__Black_sigatoka_disease/aug_29_4543597.png\n",
      "File path_read ./train/Banana__Black_sigatoka_disease/aug_29_65748.png\n",
      "File path_read ./train/Banana__Black_sigatoka_disease/aug_29_9139451.png\n",
      "File path_read ./train/Banana__Black_sigatoka_disease/aug_30_525422.png\n",
      "File path_read ./train/Banana__Black_sigatoka_disease/aug_30_5648540.png\n",
      "File path_read ./train/Banana__Black_sigatoka_disease/aug_30_621657.png\n",
      "File path_read ./train/Banana__Black_sigatoka_disease/aug_30_6311703.png\n",
      "File path_read ./train/Banana__Black_sigatoka_disease/aug_30_9919757.png\n",
      "File path_read ./train/Banana__Black_sigatoka_disease/aug_31_1480537.png\n",
      "File path_read ./train/Banana__Black_sigatoka_disease/aug_31_4434714.png\n",
      "File path_read ./train/Banana__Black_sigatoka_disease/aug_31_8328449.png\n",
      "File path_read ./train/Banana__Black_sigatoka_disease/aug_31_8638058.png\n",
      "File path_read ./train/Banana__Black_sigatoka_disease/aug_31_8849338.png\n",
      "File path_read ./train/Banana__Black_sigatoka_disease/aug_32_2883217.png\n",
      "File path_read ./train/Banana__Black_sigatoka_disease/aug_32_2912399.png\n",
      "File path_read ./train/Banana__Black_sigatoka_disease/aug_32_2948452.png\n",
      "File path_read ./train/Banana__Black_sigatoka_disease/aug_32_483681.png\n",
      "File path_read ./train/Banana__Black_sigatoka_disease/aug_32_798881.png\n",
      "File path_read ./train/Banana__Black_sigatoka_disease/aug_33_2280417.png\n",
      "File path_read ./train/Banana__Black_sigatoka_disease/aug_33_4495937.png\n",
      "File path_read ./train/Banana__Black_sigatoka_disease/aug_33_4556811.png\n",
      "File path_read ./train/Banana__Black_sigatoka_disease/aug_33_7598633.png\n",
      "File path_read ./train/Banana__Black_sigatoka_disease/aug_33_8453516.png\n",
      "File path_read ./train/Banana__Black_sigatoka_disease/aug_34_1814818.png\n",
      "File path_read ./train/Banana__Black_sigatoka_disease/aug_34_2432327.png\n",
      "File path_read ./train/Banana__Black_sigatoka_disease/aug_34_4091189.png\n",
      "File path_read ./train/Banana__Black_sigatoka_disease/aug_34_432031.png\n",
      "File path_read ./train/Banana__Black_sigatoka_disease/aug_34_5915440.png\n",
      "File path_read ./train/Banana__Black_sigatoka_disease/aug_35_6331545.png\n",
      "File path_read ./train/Banana__Black_sigatoka_disease/aug_35_723072.png\n",
      "File path_read ./train/Banana__Black_sigatoka_disease/aug_35_809226.png\n",
      "File path_read ./train/Banana__Black_sigatoka_disease/aug_35_9025862.png\n",
      "File path_read ./train/Banana__Black_sigatoka_disease/aug_35_997776.png\n",
      "File path_read ./train/Banana__Black_sigatoka_disease/aug_36_2191855.png\n",
      "File path_read ./train/Banana__Black_sigatoka_disease/aug_36_3679066.png\n",
      "File path_read ./train/Banana__Black_sigatoka_disease/aug_36_3895743.png\n",
      "File path_read ./train/Banana__Black_sigatoka_disease/aug_36_4649246.png\n",
      "File path_read ./train/Banana__Black_sigatoka_disease/aug_36_9572909.png\n",
      "File path_read ./train/Banana__Black_sigatoka_disease/aug_37_1704755.png\n",
      "File path_read ./train/Banana__Black_sigatoka_disease/aug_37_2436464.png\n",
      "File path_read ./train/Banana__Black_sigatoka_disease/aug_37_7311354.png\n",
      "File path_read ./train/Banana__Black_sigatoka_disease/aug_37_7990034.png\n",
      "File path_read ./train/Banana__Black_sigatoka_disease/aug_37_8709702.png\n",
      "File path_read ./train/Banana__Black_sigatoka_disease/aug_38_1656495.png\n",
      "File path_read ./train/Banana__Black_sigatoka_disease/aug_38_2448144.png\n",
      "File path_read ./train/Banana__Black_sigatoka_disease/aug_38_5116611.png\n",
      "File path_read ./train/Banana__Black_sigatoka_disease/aug_38_836252.png\n",
      "File path_read ./train/Banana__Black_sigatoka_disease/aug_38_8606462.png\n",
      "File path_read ./train/Banana__Black_sigatoka_disease/aug_39_2514093.png\n",
      "File path_read ./train/Banana__Black_sigatoka_disease/aug_39_5515893.png\n",
      "File path_read ./train/Banana__Black_sigatoka_disease/aug_39_5560924.png\n",
      "File path_read ./train/Banana__Black_sigatoka_disease/aug_39_7116518.png\n",
      "File path_read ./train/Banana__Black_sigatoka_disease/aug_39_752917.png\n",
      "File path_read ./train/Banana__Black_sigatoka_disease/aug_40_1538943.png\n",
      "File path_read ./train/Banana__Black_sigatoka_disease/aug_40_3044930.png\n",
      "File path_read ./train/Banana__Black_sigatoka_disease/aug_40_6442920.png\n",
      "File path_read ./train/Banana__Black_sigatoka_disease/aug_40_8026502.png\n",
      "File path_read ./train/Banana__Black_sigatoka_disease/aug_40_8305054.png\n",
      "File path_read ./train/Banana__Black_sigatoka_disease/aug_41_377586.png\n",
      "File path_read ./train/Banana__Black_sigatoka_disease/aug_41_497430.png\n",
      "File path_read ./train/Banana__Black_sigatoka_disease/aug_41_8382414.png\n",
      "File path_read ./train/Banana__Black_sigatoka_disease/aug_41_8489831.png\n",
      "File path_read ./train/Banana__Black_sigatoka_disease/aug_41_9727216.png\n",
      "File path_read ./train/Banana__Black_sigatoka_disease/aug_42_1486477.png\n",
      "File path_read ./train/Banana__Black_sigatoka_disease/aug_42_2751287.png\n",
      "File path_read ./train/Banana__Black_sigatoka_disease/aug_42_3258772.png\n",
      "File path_read ./train/Banana__Black_sigatoka_disease/aug_42_7609911.png\n",
      "File path_read ./train/Banana__Black_sigatoka_disease/aug_42_7642819.png\n",
      "File path_read ./train/Banana__Black_sigatoka_disease/aug_43_1773590.png\n",
      "File path_read ./train/Banana__Black_sigatoka_disease/aug_43_3161351.png\n",
      "File path_read ./train/Banana__Black_sigatoka_disease/aug_43_4067756.png\n",
      "File path_read ./train/Banana__Black_sigatoka_disease/aug_43_5571857.png\n",
      "File path_read ./train/Banana__Black_sigatoka_disease/aug_43_9566981.png\n",
      "File path_read ./train/Banana__Black_sigatoka_disease/aug_44_5800652.png\n",
      "File path_read ./train/Banana__Black_sigatoka_disease/aug_44_7323136.png\n",
      "File path_read ./train/Banana__Black_sigatoka_disease/aug_44_7535457.png\n",
      "File path_read ./train/Banana__Black_sigatoka_disease/aug_44_7747637.png\n",
      "File path_read ./train/Banana__Black_sigatoka_disease/aug_44_9864213.png\n",
      "File path_read ./train/Banana__Black_sigatoka_disease/aug_45_1234360.png\n",
      "File path_read ./train/Banana__Black_sigatoka_disease/aug_45_20223.png\n",
      "File path_read ./train/Banana__Black_sigatoka_disease/aug_45_6732414.png\n",
      "File path_read ./train/Banana__Black_sigatoka_disease/aug_45_8334373.png\n",
      "File path_read ./train/Banana__Black_sigatoka_disease/aug_45_8441090.png\n",
      "File path_read ./train/Banana__Black_sigatoka_disease/aug_46_3528341.png\n",
      "File path_read ./train/Banana__Black_sigatoka_disease/aug_46_5059360.png\n",
      "File path_read ./train/Banana__Black_sigatoka_disease/aug_46_6236196.png\n",
      "File path_read ./train/Banana__Black_sigatoka_disease/aug_46_9113687.png\n",
      "File path_read ./train/Banana__Black_sigatoka_disease/aug_46_918973.png\n",
      "File path_read ./train/Banana__Black_sigatoka_disease/aug_47_1535543.png\n",
      "File path_read ./train/Banana__Black_sigatoka_disease/aug_47_1886674.png\n",
      "File path_read ./train/Banana__Black_sigatoka_disease/aug_47_3541581.png\n",
      "File path_read ./train/Banana__Black_sigatoka_disease/aug_47_5082939.png\n",
      "File path_read ./train/Banana__Black_sigatoka_disease/aug_47_7943477.png\n",
      "File path_read ./train/Banana__Black_sigatoka_disease/aug_48_2333904.png\n",
      "File path_read ./train/Banana__Black_sigatoka_disease/aug_48_2428939.png\n",
      "File path_read ./train/Banana__Black_sigatoka_disease/aug_48_5230942.png\n",
      "File path_read ./train/Banana__Black_sigatoka_disease/aug_48_5556486.png\n",
      "File path_read ./train/Banana__Black_sigatoka_disease/aug_48_8254124.png\n",
      "File path_read ./train/Banana__Black_sigatoka_disease/aug_49_4652421.png\n",
      "File path_read ./train/Banana__Black_sigatoka_disease/aug_49_619970.png\n",
      "File path_read ./train/Banana__Black_sigatoka_disease/aug_49_653889.png\n",
      "File path_read ./train/Banana__Black_sigatoka_disease/aug_49_8751249.png\n",
      "File path_read ./train/Banana__Black_sigatoka_disease/aug_49_932268.png\n",
      "File path_read ./train/Banana__Black_sigatoka_disease/aug_50_2151232.png\n",
      "File path_read ./train/Banana__Black_sigatoka_disease/aug_50_3636535.png\n",
      "File path_read ./train/Banana__Black_sigatoka_disease/aug_50_3862379.png\n",
      "File path_read ./train/Banana__Black_sigatoka_disease/aug_50_8064907.png\n",
      "File path_read ./train/Banana__Black_sigatoka_disease/aug_50_9142237.png\n",
      "File path_read ./train/Banana__Black_sigatoka_disease/aug_51_2350387.png\n",
      "File path_read ./train/Banana__Black_sigatoka_disease/aug_51_6567487.png\n",
      "File path_read ./train/Banana__Black_sigatoka_disease/aug_51_6981587.png\n",
      "File path_read ./train/Banana__Black_sigatoka_disease/aug_51_8284531.png\n",
      "File path_read ./train/Banana__Black_sigatoka_disease/aug_51_9678041.png\n",
      "File path_read ./train/Banana__Black_sigatoka_disease/aug_52_7729511.png\n",
      "File path_read ./train/Banana__Black_sigatoka_disease/aug_54_410762.png\n",
      "File path_read ./train/Banana__Black_sigatoka_disease/aug_54_4400614.png\n",
      "File path_read ./train/Banana__Black_sigatoka_disease/aug_54_5759611.png\n",
      "File path_read ./train/Banana__Black_sigatoka_disease/aug_54_6363518.png\n",
      "File path_read ./train/Banana__Black_sigatoka_disease/aug_54_7792008.png\n",
      "File path_read ./train/Banana__Black_sigatoka_disease/aug_55_1557796.png\n",
      "File path_read ./train/Banana__Black_sigatoka_disease/aug_55_5834606.png\n",
      "File path_read ./train/Banana__Black_sigatoka_disease/aug_55_8939667.png\n",
      "File path_read ./train/Banana__Black_sigatoka_disease/aug_55_9334597.png\n",
      "File path_read ./train/Banana__Black_sigatoka_disease/aug_56_3766196.png\n",
      "File path_read ./train/Banana__Black_sigatoka_disease/aug_56_4346948.png\n",
      "File path_read ./train/Banana__Black_sigatoka_disease/aug_56_517191.png\n",
      "File path_read ./train/Banana__Black_sigatoka_disease/aug_56_5860380.png\n",
      "File path_read ./train/Banana__Black_sigatoka_disease/aug_56_5930472.png\n",
      "File path_read ./train/Banana__Black_sigatoka_disease/aug_57_126467.png\n",
      "File path_read ./train/Banana__Black_sigatoka_disease/aug_57_4229656.png\n",
      "File path_read ./train/Banana__Black_sigatoka_disease/aug_57_4844417.png\n",
      "File path_read ./train/Banana__Black_sigatoka_disease/aug_57_9027305.png\n",
      "File path_read ./train/Banana__Black_sigatoka_disease/aug_57_9775558.png\n",
      "File path_read ./train/Banana__Black_sigatoka_disease/aug_58_1826485.png\n",
      "File path_read ./train/Banana__Black_sigatoka_disease/aug_58_3438247.png\n",
      "File path_read ./train/Banana__Black_sigatoka_disease/aug_58_7619665.png\n",
      "File path_read ./train/Banana__Black_sigatoka_disease/aug_58_8538752.png\n",
      "File path_read ./train/Banana__Black_sigatoka_disease/aug_58_9269815.png\n",
      "File path_read ./train/Banana__Black_sigatoka_disease/aug_59_253262.png\n",
      "File path_read ./train/Banana__Black_sigatoka_disease/aug_59_2852313.png\n",
      "File path_read ./train/Banana__Black_sigatoka_disease/aug_59_9180800.png\n",
      "File path_read ./train/Banana__Black_sigatoka_disease/aug_5_5458922.png\n",
      "File path_read ./train/Banana__Black_sigatoka_disease/aug_60_1259918.png\n",
      "File path_read ./train/Banana__Black_sigatoka_disease/aug_60_1672299.png\n",
      "File path_read ./train/Banana__Black_sigatoka_disease/aug_60_4925079.png\n",
      "File path_read ./train/Banana__Black_sigatoka_disease/aug_60_5144207.png\n",
      "File path_read ./train/Banana__Black_sigatoka_disease/aug_60_9669191.png\n",
      "File path_read ./train/Banana__Black_sigatoka_disease/aug_61_265651.png\n",
      "File path_read ./train/Banana__Black_sigatoka_disease/aug_61_5238448.png\n",
      "File path_read ./train/Banana__Black_sigatoka_disease/aug_61_5508524.png\n",
      "File path_read ./train/Banana__Black_sigatoka_disease/aug_61_5693584.png\n",
      "File path_read ./train/Banana__Black_sigatoka_disease/aug_61_6848652.png\n",
      "File path_read ./train/Banana__Black_sigatoka_disease/aug_62_2683956.png\n",
      "File path_read ./train/Banana__Black_sigatoka_disease/aug_62_3644072.png\n",
      "File path_read ./train/Banana__Black_sigatoka_disease/aug_62_651940.png\n",
      "File path_read ./train/Banana__Black_sigatoka_disease/aug_62_6942134.png\n",
      "File path_read ./train/Banana__Black_sigatoka_disease/aug_62_923608.png\n",
      "File path_read ./train/Banana__Black_sigatoka_disease/aug_63_369788.png\n",
      "File path_read ./train/Banana__Black_sigatoka_disease/aug_63_5491685.png\n",
      "File path_read ./train/Banana__Black_sigatoka_disease/aug_63_6123048.png\n",
      "File path_read ./train/Banana__Black_sigatoka_disease/aug_63_9880794.png\n",
      "File path_read ./train/Banana__Black_sigatoka_disease/aug_64_72055.png\n",
      "File path_read ./train/Banana__Black_sigatoka_disease/aug_64_7534735.png\n",
      "File path_read ./train/Banana__Black_sigatoka_disease/aug_65_2116053.png\n",
      "File path_read ./train/Banana__Black_sigatoka_disease/aug_65_2752874.png\n",
      "File path_read ./train/Banana__Black_sigatoka_disease/aug_65_511036.png\n",
      "File path_read ./train/Banana__Black_sigatoka_disease/aug_65_6042861.png\n",
      "File path_read ./train/Banana__Black_sigatoka_disease/aug_65_7465577.png\n",
      "File path_read ./train/Banana__Black_sigatoka_disease/aug_66_3435177.png\n",
      "File path_read ./train/Banana__Black_sigatoka_disease/aug_66_9797747.png\n",
      "File path_read ./train/Banana__Black_sigatoka_disease/aug_68_2015671.png\n",
      "File path_read ./train/Banana__Black_sigatoka_disease/aug_68_34139.png\n",
      "File path_read ./train/Banana__Black_sigatoka_disease/aug_68_4879675.png\n",
      "File path_read ./train/Banana__Black_sigatoka_disease/aug_68_8612531.png\n",
      "File path_read ./train/Banana__Black_sigatoka_disease/aug_68_918398.png\n",
      "File path_read ./train/Banana__Black_sigatoka_disease/aug_69_1337138.png\n",
      "File path_read ./train/Banana__Black_sigatoka_disease/aug_69_3354757.png\n",
      "File path_read ./train/Banana__Black_sigatoka_disease/aug_69_7103245.png\n",
      "File path_read ./train/Banana__Black_sigatoka_disease/aug_69_7589540.png\n",
      "File path_read ./train/Banana__Black_sigatoka_disease/aug_69_9725519.png\n",
      "File path_read ./train/Banana__Black_sigatoka_disease/aug_6_1505459.png\n",
      "File path_read ./train/Banana__Black_sigatoka_disease/aug_6_5095602.png\n",
      "File path_read ./train/Banana__Black_sigatoka_disease/aug_6_730009.png\n",
      "File path_read ./train/Banana__Black_sigatoka_disease/aug_6_871478.png\n",
      "File path_read ./train/Banana__Black_sigatoka_disease/aug_6_9463455.png\n",
      "File path_read ./train/Banana__Black_sigatoka_disease/aug_70_2405362.png\n",
      "File path_read ./train/Banana__Black_sigatoka_disease/aug_70_3191641.png\n",
      "File path_read ./train/Banana__Black_sigatoka_disease/aug_70_6762382.png\n",
      "File path_read ./train/Banana__Black_sigatoka_disease/aug_70_8791338.png\n",
      "File path_read ./train/Banana__Black_sigatoka_disease/aug_70_9917278.png\n",
      "File path_read ./train/Banana__Black_sigatoka_disease/aug_71_4059753.png\n",
      "File path_read ./train/Banana__Black_sigatoka_disease/aug_71_6261267.png\n",
      "File path_read ./train/Banana__Black_sigatoka_disease/aug_71_6911638.png\n",
      "File path_read ./train/Banana__Black_sigatoka_disease/aug_71_8320914.png\n",
      "File path_read ./train/Banana__Black_sigatoka_disease/aug_72_1744254.png\n",
      "File path_read ./train/Banana__Black_sigatoka_disease/aug_72_6347659.png\n",
      "File path_read ./train/Banana__Black_sigatoka_disease/aug_72_7444984.png\n",
      "File path_read ./train/Banana__Black_sigatoka_disease/aug_72_77517.png\n",
      "File path_read ./train/Banana__Black_sigatoka_disease/aug_72_8107902.png\n",
      "File path_read ./train/Banana__Black_sigatoka_disease/aug_73_2074027.png\n",
      "File path_read ./train/Banana__Black_sigatoka_disease/aug_73_6101101.png\n",
      "File path_read ./train/Banana__Black_sigatoka_disease/aug_73_8714805.png\n",
      "File path_read ./train/Banana__Black_sigatoka_disease/aug_74_4098011.png\n",
      "File path_read ./train/Banana__Black_sigatoka_disease/aug_74_423865.png\n",
      "File path_read ./train/Banana__Black_sigatoka_disease/aug_74_4675963.png\n",
      "File path_read ./train/Banana__Black_sigatoka_disease/aug_74_5446594.png\n",
      "File path_read ./train/Banana__Black_sigatoka_disease/aug_74_8518469.png\n",
      "File path_read ./train/Banana__Black_sigatoka_disease/aug_75_2794242.png\n",
      "File path_read ./train/Banana__Black_sigatoka_disease/aug_75_4610423.png\n",
      "File path_read ./train/Banana__Black_sigatoka_disease/aug_75_522875.png\n",
      "File path_read ./train/Banana__Black_sigatoka_disease/aug_75_8502079.png\n",
      "File path_read ./train/Banana__Black_sigatoka_disease/aug_75_9918345.png\n",
      "File path_read ./train/Banana__Black_sigatoka_disease/aug_76_1393974.png\n",
      "File path_read ./train/Banana__Black_sigatoka_disease/aug_76_3316429.png\n",
      "File path_read ./train/Banana__Black_sigatoka_disease/aug_76_5247335.png\n",
      "File path_read ./train/Banana__Black_sigatoka_disease/aug_76_6928379.png\n",
      "File path_read ./train/Banana__Black_sigatoka_disease/aug_76_6972749.png\n",
      "File path_read ./train/Banana__Black_sigatoka_disease/aug_77_1551532.png\n",
      "File path_read ./train/Banana__Black_sigatoka_disease/aug_77_3541864.png\n",
      "File path_read ./train/Banana__Black_sigatoka_disease/aug_78_4806606.png\n",
      "File path_read ./train/Banana__Black_sigatoka_disease/aug_78_6171841.png\n",
      "File path_read ./train/Banana__Black_sigatoka_disease/aug_78_7645009.png\n",
      "File path_read ./train/Banana__Black_sigatoka_disease/aug_78_8818089.png\n",
      "File path_read ./train/Banana__Black_sigatoka_disease/aug_78_9584985.png\n",
      "File path_read ./train/Banana__Black_sigatoka_disease/aug_79_1617989.png\n",
      "File path_read ./train/Banana__Black_sigatoka_disease/aug_79_3184614.png\n",
      "File path_read ./train/Banana__Black_sigatoka_disease/aug_79_3522892.png\n",
      "File path_read ./train/Banana__Black_sigatoka_disease/aug_79_9155050.png\n",
      "File path_read ./train/Banana__Black_sigatoka_disease/aug_79_9751401.png\n",
      "File path_read ./train/Banana__Black_sigatoka_disease/aug_7_2663709.png\n",
      "File path_read ./train/Banana__Black_sigatoka_disease/aug_80_2783026.png\n",
      "File path_read ./train/Banana__Black_sigatoka_disease/aug_80_2888582.png\n",
      "File path_read ./train/Banana__Black_sigatoka_disease/aug_80_4705406.png\n",
      "File path_read ./train/Banana__Black_sigatoka_disease/aug_80_5524683.png\n",
      "File path_read ./train/Banana__Black_sigatoka_disease/aug_80_8351770.png\n",
      "File path_read ./train/Banana__Black_sigatoka_disease/aug_81_2443346.png\n",
      "File path_read ./train/Banana__Black_sigatoka_disease/aug_81_4130254.png\n",
      "File path_read ./train/Banana__Black_sigatoka_disease/aug_81_570810.png\n",
      "File path_read ./train/Banana__Black_sigatoka_disease/aug_81_7748288.png\n",
      "File path_read ./train/Banana__Black_sigatoka_disease/aug_81_8511119.png\n",
      "File path_read ./train/Banana__Black_sigatoka_disease/aug_82_2870694.png\n",
      "File path_read ./train/Banana__Black_sigatoka_disease/aug_82_3534387.png\n",
      "File path_read ./train/Banana__Black_sigatoka_disease/aug_82_8441602.png\n",
      "File path_read ./train/Banana__Black_sigatoka_disease/aug_82_8875836.png\n",
      "File path_read ./train/Banana__Black_sigatoka_disease/aug_82_9597257.png\n",
      "File path_read ./train/Banana__Black_sigatoka_disease/aug_83_4763688.png\n",
      "File path_read ./train/Banana__Black_sigatoka_disease/aug_83_6762048.png\n",
      "File path_read ./train/Banana__Black_sigatoka_disease/aug_83_7855795.png\n",
      "File path_read ./train/Banana__Black_sigatoka_disease/aug_84_2414652.png\n",
      "File path_read ./train/Banana__Black_sigatoka_disease/aug_84_3725804.png\n",
      "File path_read ./train/Banana__Black_sigatoka_disease/aug_84_8042220.png\n",
      "File path_read ./train/Banana__Black_sigatoka_disease/aug_84_919651.png\n",
      "File path_read ./train/Banana__Black_sigatoka_disease/aug_84_9404439.png\n",
      "File path_read ./train/Banana__Black_sigatoka_disease/aug_85_1313900.png\n",
      "File path_read ./train/Banana__Black_sigatoka_disease/aug_85_3734488.png\n",
      "File path_read ./train/Banana__Black_sigatoka_disease/aug_85_4774115.png\n",
      "File path_read ./train/Banana__Black_sigatoka_disease/aug_85_6957682.png\n",
      "File path_read ./train/Banana__Black_sigatoka_disease/aug_85_8668355.png\n",
      "File path_read ./train/Banana__Black_sigatoka_disease/aug_86_2062396.png\n",
      "File path_read ./train/Banana__Black_sigatoka_disease/aug_86_7606556.png\n",
      "File path_read ./train/Banana__Black_sigatoka_disease/aug_86_7820905.png\n",
      "File path_read ./train/Banana__Black_sigatoka_disease/aug_86_828796.png\n",
      "File path_read ./train/Banana__Black_sigatoka_disease/aug_86_9242090.png\n",
      "File path_read ./train/Banana__Black_sigatoka_disease/aug_87_1458748.png\n",
      "File path_read ./train/Banana__Black_sigatoka_disease/aug_87_2040773.png\n",
      "File path_read ./train/Banana__Black_sigatoka_disease/aug_87_2740619.png\n",
      "File path_read ./train/Banana__Black_sigatoka_disease/aug_87_3617237.png\n",
      "File path_read ./train/Banana__Black_sigatoka_disease/aug_87_9258629.png\n",
      "File path_read ./train/Banana__Black_sigatoka_disease/aug_88_2787808.png\n",
      "File path_read ./train/Banana__Black_sigatoka_disease/aug_88_3828643.png\n",
      "File path_read ./train/Banana__Black_sigatoka_disease/aug_88_4966529.png\n",
      "File path_read ./train/Banana__Black_sigatoka_disease/aug_88_7197946.png\n",
      "File path_read ./train/Banana__Black_sigatoka_disease/aug_88_7966806.png\n",
      "File path_read ./train/Banana__Black_sigatoka_disease/aug_89_1608644.png\n",
      "File path_read ./train/Banana__Black_sigatoka_disease/aug_89_5052440.png\n",
      "File path_read ./train/Banana__Black_sigatoka_disease/aug_89_7035375.png\n",
      "File path_read ./train/Banana__Black_sigatoka_disease/aug_89_9014222.png\n",
      "File path_read ./train/Banana__Black_sigatoka_disease/aug_89_9868334.png\n",
      "File path_read ./train/Banana__Black_sigatoka_disease/aug_90_4057597.png\n",
      "File path_read ./train/Banana__Black_sigatoka_disease/aug_90_4421191.png\n",
      "File path_read ./train/Banana__Black_sigatoka_disease/aug_90_5428561.png\n",
      "File path_read ./train/Banana__Black_sigatoka_disease/aug_90_7158037.png\n",
      "File path_read ./train/Banana__Black_sigatoka_disease/aug_90_7768120.png\n",
      "File path_read ./train/Banana__Black_sigatoka_disease/aug_91_2308125.png\n",
      "File path_read ./train/Banana__Black_sigatoka_disease/aug_91_5409286.png\n",
      "File path_read ./train/Banana__Black_sigatoka_disease/aug_91_7200868.png\n",
      "File path_read ./train/Banana__Black_sigatoka_disease/aug_91_7891313.png\n",
      "File path_read ./train/Banana__Black_sigatoka_disease/aug_91_9856815.png\n",
      "File path_read ./train/Banana__Black_sigatoka_disease/aug_92_1194329.png\n",
      "File path_read ./train/Banana__Black_sigatoka_disease/aug_92_5638763.png\n",
      "File path_read ./train/Banana__Black_sigatoka_disease/aug_92_879099.png\n",
      "File path_read ./train/Banana__Black_sigatoka_disease/aug_93_9445.png\n",
      "File path_read ./train/Banana__Black_sigatoka_disease/aug_94_3779985.png\n",
      "File path_read ./train/Banana__Black_sigatoka_disease/aug_94_4379431.png\n",
      "File path_read ./train/Banana__Black_sigatoka_disease/aug_94_4858012.png\n",
      "File path_read ./train/Banana__Black_sigatoka_disease/aug_94_5529636.png\n",
      "File path_read ./train/Banana__Black_sigatoka_disease/aug_94_7083332.png\n",
      "File path_read ./train/Banana__Black_sigatoka_disease/aug_96_3276126.png\n",
      "File path_read ./train/Banana__Black_sigatoka_disease/aug_96_3507195.png\n",
      "File path_read ./train/Banana__Black_sigatoka_disease/aug_96_5612281.png\n",
      "File path_read ./train/Banana__Black_sigatoka_disease/aug_96_7672947.png\n",
      "File path_read ./train/Banana__Black_sigatoka_disease/aug_96_7744751.png\n",
      "File path_read ./train/Banana__Black_sigatoka_disease/aug_97_2115204.png\n",
      "File path_read ./train/Banana__Black_sigatoka_disease/aug_97_2848117.png\n",
      "File path_read ./train/Banana__Black_sigatoka_disease/aug_97_5196804.png\n",
      "File path_read ./train/Banana__Black_sigatoka_disease/aug_98_8098781.png\n",
      "File path_read ./train/Banana__Black_sigatoka_disease/aug_98_872612.png\n",
      "File path_read ./train/Banana__Black_sigatoka_disease/aug_99_2221680.png\n",
      "File path_read ./train/Banana__Black_sigatoka_disease/aug_9_3719699.png\n",
      "File path_read ./train/Banana__Black_sigatoka_disease/aug_9_3963838.png\n",
      "File path_read ./train/Banana__Black_sigatoka_disease/aug_9_7722970.png\n"
     ]
    },
    {
     "name": "stderr",
     "output_type": "stream",
     "text": [
      "Lossy conversion from float64 to uint8. Range [0, 1]. Convert image to uint8 prior to saving to suppress this warning.\n",
      "Lossy conversion from float64 to uint8. Range [0, 1]. Convert image to uint8 prior to saving to suppress this warning.\n"
     ]
    },
    {
     "name": "stdout",
     "output_type": "stream",
     "text": [
      "File path_read ./train/Banana__Black_sigatoka_disease/aug_9_8862970.png\n",
      "\n",
      "./train/Banana_Healthy\n",
      "File path_read ./train/Banana_Healthy/100.png\n",
      "File path_read ./train/Banana_Healthy/101.png\n",
      "File path_read ./train/Banana_Healthy/102.png\n"
     ]
    },
    {
     "name": "stderr",
     "output_type": "stream",
     "text": [
      "Lossy conversion from float64 to uint8. Range [0, 1]. Convert image to uint8 prior to saving to suppress this warning.\n",
      "Lossy conversion from float64 to uint8. Range [0, 1]. Convert image to uint8 prior to saving to suppress this warning.\n",
      "Lossy conversion from float64 to uint8. Range [0, 1]. Convert image to uint8 prior to saving to suppress this warning.\n",
      "Lossy conversion from float64 to uint8. Range [0, 1]. Convert image to uint8 prior to saving to suppress this warning.\n"
     ]
    },
    {
     "name": "stdout",
     "output_type": "stream",
     "text": [
      "File path_read ./train/Banana_Healthy/103.png\n",
      "File path_read ./train/Banana_Healthy/104.png\n",
      "File path_read ./train/Banana_Healthy/105.png\n",
      "File path_read ./train/Banana_Healthy/106.png\n"
     ]
    },
    {
     "name": "stderr",
     "output_type": "stream",
     "text": [
      "Lossy conversion from float64 to uint8. Range [0, 1]. Convert image to uint8 prior to saving to suppress this warning.\n",
      "Lossy conversion from float64 to uint8. Range [0, 1]. Convert image to uint8 prior to saving to suppress this warning.\n",
      "Lossy conversion from float64 to uint8. Range [0, 1]. Convert image to uint8 prior to saving to suppress this warning.\n"
     ]
    },
    {
     "name": "stdout",
     "output_type": "stream",
     "text": [
      "File path_read ./train/Banana_Healthy/107 (1).png\n",
      "File path_read ./train/Banana_Healthy/107.png\n",
      "File path_read ./train/Banana_Healthy/108.png\n"
     ]
    },
    {
     "name": "stderr",
     "output_type": "stream",
     "text": [
      "Lossy conversion from float64 to uint8. Range [0, 1]. Convert image to uint8 prior to saving to suppress this warning.\n",
      "Lossy conversion from float64 to uint8. Range [0, 1]. Convert image to uint8 prior to saving to suppress this warning.\n",
      "Lossy conversion from float64 to uint8. Range [0, 1]. Convert image to uint8 prior to saving to suppress this warning.\n"
     ]
    },
    {
     "name": "stdout",
     "output_type": "stream",
     "text": [
      "File path_read ./train/Banana_Healthy/109.png\n",
      "File path_read ./train/Banana_Healthy/110.png\n",
      "File path_read ./train/Banana_Healthy/111.png\n"
     ]
    },
    {
     "name": "stderr",
     "output_type": "stream",
     "text": [
      "Lossy conversion from float64 to uint8. Range [0, 1]. Convert image to uint8 prior to saving to suppress this warning.\n",
      "Lossy conversion from float64 to uint8. Range [0, 1]. Convert image to uint8 prior to saving to suppress this warning.\n",
      "Lossy conversion from float64 to uint8. Range [0, 1]. Convert image to uint8 prior to saving to suppress this warning.\n",
      "Lossy conversion from float64 to uint8. Range [0, 1]. Convert image to uint8 prior to saving to suppress this warning.\n",
      "Lossy conversion from float64 to uint8. Range [0, 1]. Convert image to uint8 prior to saving to suppress this warning.\n",
      "Lossy conversion from float64 to uint8. Range [0, 1]. Convert image to uint8 prior to saving to suppress this warning.\n"
     ]
    },
    {
     "name": "stdout",
     "output_type": "stream",
     "text": [
      "File path_read ./train/Banana_Healthy/112.png\n",
      "File path_read ./train/Banana_Healthy/113.png\n",
      "File path_read ./train/Banana_Healthy/114.png\n",
      "File path_read ./train/Banana_Healthy/115.png\n",
      "File path_read ./train/Banana_Healthy/116 (1).png\n"
     ]
    },
    {
     "name": "stderr",
     "output_type": "stream",
     "text": [
      "Lossy conversion from float64 to uint8. Range [0, 1]. Convert image to uint8 prior to saving to suppress this warning.\n",
      "Lossy conversion from float64 to uint8. Range [0, 1]. Convert image to uint8 prior to saving to suppress this warning.\n",
      "Lossy conversion from float64 to uint8. Range [0, 1]. Convert image to uint8 prior to saving to suppress this warning.\n"
     ]
    },
    {
     "name": "stdout",
     "output_type": "stream",
     "text": [
      "File path_read ./train/Banana_Healthy/116.png\n",
      "File path_read ./train/Banana_Healthy/117.png\n",
      "File path_read ./train/Banana_Healthy/118.png\n",
      "File path_read ./train/Banana_Healthy/119.png\n"
     ]
    },
    {
     "name": "stderr",
     "output_type": "stream",
     "text": [
      "Lossy conversion from float64 to uint8. Range [0, 1]. Convert image to uint8 prior to saving to suppress this warning.\n",
      "Lossy conversion from float64 to uint8. Range [0, 1]. Convert image to uint8 prior to saving to suppress this warning.\n",
      "Lossy conversion from float64 to uint8. Range [0, 1]. Convert image to uint8 prior to saving to suppress this warning.\n",
      "Lossy conversion from float64 to uint8. Range [0, 1]. Convert image to uint8 prior to saving to suppress this warning.\n",
      "Lossy conversion from float64 to uint8. Range [0, 1]. Convert image to uint8 prior to saving to suppress this warning.\n"
     ]
    },
    {
     "name": "stdout",
     "output_type": "stream",
     "text": [
      "File path_read ./train/Banana_Healthy/120.png\n",
      "File path_read ./train/Banana_Healthy/121.png\n",
      "File path_read ./train/Banana_Healthy/122.png\n",
      "File path_read ./train/Banana_Healthy/123.png\n"
     ]
    },
    {
     "name": "stderr",
     "output_type": "stream",
     "text": [
      "Lossy conversion from float64 to uint8. Range [0, 1]. Convert image to uint8 prior to saving to suppress this warning.\n",
      "Lossy conversion from float64 to uint8. Range [0, 1]. Convert image to uint8 prior to saving to suppress this warning.\n",
      "Lossy conversion from float64 to uint8. Range [0, 1]. Convert image to uint8 prior to saving to suppress this warning.\n",
      "Lossy conversion from float64 to uint8. Range [0, 1]. Convert image to uint8 prior to saving to suppress this warning.\n"
     ]
    },
    {
     "name": "stdout",
     "output_type": "stream",
     "text": [
      "File path_read ./train/Banana_Healthy/124.png\n",
      "File path_read ./train/Banana_Healthy/125.png\n",
      "File path_read ./train/Banana_Healthy/126.png\n",
      "File path_read ./train/Banana_Healthy/127.png\n",
      "File path_read ./train/Banana_Healthy/128.png\n"
     ]
    },
    {
     "name": "stderr",
     "output_type": "stream",
     "text": [
      "Lossy conversion from float64 to uint8. Range [0, 1]. Convert image to uint8 prior to saving to suppress this warning.\n",
      "Lossy conversion from float64 to uint8. Range [0, 1]. Convert image to uint8 prior to saving to suppress this warning.\n",
      "Lossy conversion from float64 to uint8. Range [0, 1]. Convert image to uint8 prior to saving to suppress this warning.\n",
      "Lossy conversion from float64 to uint8. Range [0, 1]. Convert image to uint8 prior to saving to suppress this warning.\n"
     ]
    },
    {
     "name": "stdout",
     "output_type": "stream",
     "text": [
      "File path_read ./train/Banana_Healthy/129.png\n",
      "File path_read ./train/Banana_Healthy/130.png\n",
      "File path_read ./train/Banana_Healthy/131.png\n",
      "File path_read ./train/Banana_Healthy/132.png\n"
     ]
    },
    {
     "name": "stderr",
     "output_type": "stream",
     "text": [
      "Lossy conversion from float64 to uint8. Range [0, 1]. Convert image to uint8 prior to saving to suppress this warning.\n",
      "Lossy conversion from float64 to uint8. Range [0, 1]. Convert image to uint8 prior to saving to suppress this warning.\n",
      "Lossy conversion from float64 to uint8. Range [0, 1]. Convert image to uint8 prior to saving to suppress this warning.\n",
      "Lossy conversion from float64 to uint8. Range [0, 1]. Convert image to uint8 prior to saving to suppress this warning.\n",
      "Lossy conversion from float64 to uint8. Range [0, 1]. Convert image to uint8 prior to saving to suppress this warning.\n"
     ]
    },
    {
     "name": "stdout",
     "output_type": "stream",
     "text": [
      "File path_read ./train/Banana_Healthy/133.png\n",
      "File path_read ./train/Banana_Healthy/134.png\n",
      "File path_read ./train/Banana_Healthy/135.png\n",
      "File path_read ./train/Banana_Healthy/136.png\n"
     ]
    },
    {
     "name": "stderr",
     "output_type": "stream",
     "text": [
      "Lossy conversion from float64 to uint8. Range [0, 1]. Convert image to uint8 prior to saving to suppress this warning.\n",
      "Lossy conversion from float64 to uint8. Range [0, 1]. Convert image to uint8 prior to saving to suppress this warning.\n",
      "Lossy conversion from float64 to uint8. Range [0, 1]. Convert image to uint8 prior to saving to suppress this warning.\n",
      "Lossy conversion from float64 to uint8. Range [0, 1]. Convert image to uint8 prior to saving to suppress this warning.\n",
      "Lossy conversion from float64 to uint8. Range [0, 1]. Convert image to uint8 prior to saving to suppress this warning.\n"
     ]
    },
    {
     "name": "stdout",
     "output_type": "stream",
     "text": [
      "File path_read ./train/Banana_Healthy/137.png\n",
      "File path_read ./train/Banana_Healthy/138.png\n",
      "File path_read ./train/Banana_Healthy/139.png\n",
      "File path_read ./train/Banana_Healthy/140.png\n",
      "File path_read ./train/Banana_Healthy/141.png\n",
      "File path_read ./train/Banana_Healthy/142.png\n"
     ]
    },
    {
     "name": "stderr",
     "output_type": "stream",
     "text": [
      "Lossy conversion from float64 to uint8. Range [0, 1]. Convert image to uint8 prior to saving to suppress this warning.\n",
      "Lossy conversion from float64 to uint8. Range [0, 1]. Convert image to uint8 prior to saving to suppress this warning.\n",
      "Lossy conversion from float64 to uint8. Range [0, 1]. Convert image to uint8 prior to saving to suppress this warning.\n",
      "Lossy conversion from float64 to uint8. Range [0, 1]. Convert image to uint8 prior to saving to suppress this warning.\n",
      "Lossy conversion from float64 to uint8. Range [0, 1]. Convert image to uint8 prior to saving to suppress this warning.\n",
      "Lossy conversion from float64 to uint8. Range [0, 1]. Convert image to uint8 prior to saving to suppress this warning.\n",
      "Lossy conversion from float64 to uint8. Range [0, 1]. Convert image to uint8 prior to saving to suppress this warning.\n"
     ]
    },
    {
     "name": "stdout",
     "output_type": "stream",
     "text": [
      "File path_read ./train/Banana_Healthy/143.png\n",
      "File path_read ./train/Banana_Healthy/144.png\n",
      "File path_read ./train/Banana_Healthy/145.png\n",
      "File path_read ./train/Banana_Healthy/146.png\n",
      "File path_read ./train/Banana_Healthy/147.png\n",
      "File path_read ./train/Banana_Healthy/148.png\n"
     ]
    },
    {
     "name": "stderr",
     "output_type": "stream",
     "text": [
      "Lossy conversion from float64 to uint8. Range [0, 1]. Convert image to uint8 prior to saving to suppress this warning.\n",
      "Lossy conversion from float64 to uint8. Range [0, 1]. Convert image to uint8 prior to saving to suppress this warning.\n",
      "Lossy conversion from float64 to uint8. Range [0, 1]. Convert image to uint8 prior to saving to suppress this warning.\n",
      "Lossy conversion from float64 to uint8. Range [0, 1]. Convert image to uint8 prior to saving to suppress this warning.\n"
     ]
    },
    {
     "name": "stdout",
     "output_type": "stream",
     "text": [
      "File path_read ./train/Banana_Healthy/149.png\n",
      "File path_read ./train/Banana_Healthy/150.png\n",
      "File path_read ./train/Banana_Healthy/151.png\n",
      "File path_read ./train/Banana_Healthy/152.png\n",
      "File path_read ./train/Banana_Healthy/153.png\n"
     ]
    },
    {
     "name": "stderr",
     "output_type": "stream",
     "text": [
      "Lossy conversion from float64 to uint8. Range [0, 1]. Convert image to uint8 prior to saving to suppress this warning.\n",
      "Lossy conversion from float64 to uint8. Range [0, 1]. Convert image to uint8 prior to saving to suppress this warning.\n",
      "Lossy conversion from float64 to uint8. Range [0, 1]. Convert image to uint8 prior to saving to suppress this warning.\n",
      "Lossy conversion from float64 to uint8. Range [0, 1]. Convert image to uint8 prior to saving to suppress this warning.\n",
      "Lossy conversion from float64 to uint8. Range [0, 1]. Convert image to uint8 prior to saving to suppress this warning.\n",
      "Lossy conversion from float64 to uint8. Range [0, 1]. Convert image to uint8 prior to saving to suppress this warning.\n"
     ]
    },
    {
     "name": "stdout",
     "output_type": "stream",
     "text": [
      "File path_read ./train/Banana_Healthy/154.png\n",
      "File path_read ./train/Banana_Healthy/155.png\n",
      "File path_read ./train/Banana_Healthy/156.png\n",
      "File path_read ./train/Banana_Healthy/157.png\n",
      "File path_read ./train/Banana_Healthy/158.png\n",
      "File path_read ./train/Banana_Healthy/159.png\n"
     ]
    },
    {
     "name": "stderr",
     "output_type": "stream",
     "text": [
      "Lossy conversion from float64 to uint8. Range [0, 1]. Convert image to uint8 prior to saving to suppress this warning.\n",
      "Lossy conversion from float64 to uint8. Range [0, 1]. Convert image to uint8 prior to saving to suppress this warning.\n",
      "Lossy conversion from float64 to uint8. Range [0, 1]. Convert image to uint8 prior to saving to suppress this warning.\n",
      "Lossy conversion from float64 to uint8. Range [0, 1]. Convert image to uint8 prior to saving to suppress this warning.\n",
      "Lossy conversion from float64 to uint8. Range [0, 1]. Convert image to uint8 prior to saving to suppress this warning.\n"
     ]
    },
    {
     "name": "stdout",
     "output_type": "stream",
     "text": [
      "File path_read ./train/Banana_Healthy/160.png\n",
      "File path_read ./train/Banana_Healthy/161.png\n",
      "File path_read ./train/Banana_Healthy/162.png\n",
      "File path_read ./train/Banana_Healthy/163.png\n",
      "File path_read ./train/Banana_Healthy/164.png\n"
     ]
    },
    {
     "name": "stderr",
     "output_type": "stream",
     "text": [
      "Lossy conversion from float64 to uint8. Range [0, 1]. Convert image to uint8 prior to saving to suppress this warning.\n",
      "Lossy conversion from float64 to uint8. Range [0, 1]. Convert image to uint8 prior to saving to suppress this warning.\n",
      "Lossy conversion from float64 to uint8. Range [0, 1]. Convert image to uint8 prior to saving to suppress this warning.\n",
      "Lossy conversion from float64 to uint8. Range [0, 1]. Convert image to uint8 prior to saving to suppress this warning.\n",
      "Lossy conversion from float64 to uint8. Range [0, 1]. Convert image to uint8 prior to saving to suppress this warning.\n",
      "Lossy conversion from float64 to uint8. Range [0, 1]. Convert image to uint8 prior to saving to suppress this warning.\n",
      "Lossy conversion from float64 to uint8. Range [0, 1]. Convert image to uint8 prior to saving to suppress this warning.\n",
      "Lossy conversion from float64 to uint8. Range [0, 1]. Convert image to uint8 prior to saving to suppress this warning.\n",
      "Lossy conversion from float64 to uint8. Range [0, 1]. Convert image to uint8 prior to saving to suppress this warning.\n"
     ]
    },
    {
     "name": "stdout",
     "output_type": "stream",
     "text": [
      "File path_read ./train/Banana_Healthy/165.png\n",
      "File path_read ./train/Banana_Healthy/166.png\n",
      "File path_read ./train/Banana_Healthy/167.png\n",
      "File path_read ./train/Banana_Healthy/168.png\n",
      "File path_read ./train/Banana_Healthy/169.png\n",
      "File path_read ./train/Banana_Healthy/170.png\n",
      "File path_read ./train/Banana_Healthy/171.png\n",
      "File path_read ./train/Banana_Healthy/172.png\n"
     ]
    },
    {
     "name": "stderr",
     "output_type": "stream",
     "text": [
      "Lossy conversion from float64 to uint8. Range [0, 1]. Convert image to uint8 prior to saving to suppress this warning.\n",
      "Lossy conversion from float64 to uint8. Range [0, 1]. Convert image to uint8 prior to saving to suppress this warning.\n",
      "Lossy conversion from float64 to uint8. Range [0, 1]. Convert image to uint8 prior to saving to suppress this warning.\n",
      "Lossy conversion from float64 to uint8. Range [0, 1]. Convert image to uint8 prior to saving to suppress this warning.\n",
      "Lossy conversion from float64 to uint8. Range [0, 1]. Convert image to uint8 prior to saving to suppress this warning.\n",
      "Lossy conversion from float64 to uint8. Range [0, 1]. Convert image to uint8 prior to saving to suppress this warning.\n",
      "Lossy conversion from float64 to uint8. Range [0, 1]. Convert image to uint8 prior to saving to suppress this warning.\n",
      "Lossy conversion from float64 to uint8. Range [0, 1]. Convert image to uint8 prior to saving to suppress this warning.\n"
     ]
    },
    {
     "name": "stdout",
     "output_type": "stream",
     "text": [
      "File path_read ./train/Banana_Healthy/173.png\n",
      "File path_read ./train/Banana_Healthy/174.png\n",
      "File path_read ./train/Banana_Healthy/175.png\n",
      "File path_read ./train/Banana_Healthy/176.png\n",
      "File path_read ./train/Banana_Healthy/177.png\n",
      "File path_read ./train/Banana_Healthy/178.png\n",
      "File path_read ./train/Banana_Healthy/179.png\n",
      "File path_read ./train/Banana_Healthy/180.png\n"
     ]
    },
    {
     "name": "stderr",
     "output_type": "stream",
     "text": [
      "Lossy conversion from float64 to uint8. Range [0, 1]. Convert image to uint8 prior to saving to suppress this warning.\n",
      "Lossy conversion from float64 to uint8. Range [0, 1]. Convert image to uint8 prior to saving to suppress this warning.\n",
      "Lossy conversion from float64 to uint8. Range [0, 1]. Convert image to uint8 prior to saving to suppress this warning.\n",
      "Lossy conversion from float64 to uint8. Range [0, 1]. Convert image to uint8 prior to saving to suppress this warning.\n",
      "Lossy conversion from float64 to uint8. Range [0, 1]. Convert image to uint8 prior to saving to suppress this warning.\n",
      "Lossy conversion from float64 to uint8. Range [0, 1]. Convert image to uint8 prior to saving to suppress this warning.\n"
     ]
    },
    {
     "name": "stdout",
     "output_type": "stream",
     "text": [
      "File path_read ./train/Banana_Healthy/181.png\n",
      "File path_read ./train/Banana_Healthy/182.png\n",
      "File path_read ./train/Banana_Healthy/183.png\n",
      "File path_read ./train/Banana_Healthy/184.png\n",
      "File path_read ./train/Banana_Healthy/185.png\n",
      "File path_read ./train/Banana_Healthy/186.png\n"
     ]
    },
    {
     "name": "stderr",
     "output_type": "stream",
     "text": [
      "Lossy conversion from float64 to uint8. Range [0, 1]. Convert image to uint8 prior to saving to suppress this warning.\n",
      "Lossy conversion from float64 to uint8. Range [0, 1]. Convert image to uint8 prior to saving to suppress this warning.\n",
      "Lossy conversion from float64 to uint8. Range [0, 1]. Convert image to uint8 prior to saving to suppress this warning.\n",
      "Lossy conversion from float64 to uint8. Range [0, 1]. Convert image to uint8 prior to saving to suppress this warning.\n",
      "Lossy conversion from float64 to uint8. Range [0, 1]. Convert image to uint8 prior to saving to suppress this warning.\n",
      "Lossy conversion from float64 to uint8. Range [0, 1]. Convert image to uint8 prior to saving to suppress this warning.\n",
      "Lossy conversion from float64 to uint8. Range [0, 1]. Convert image to uint8 prior to saving to suppress this warning.\n",
      "Lossy conversion from float64 to uint8. Range [0, 1]. Convert image to uint8 prior to saving to suppress this warning.\n"
     ]
    },
    {
     "name": "stdout",
     "output_type": "stream",
     "text": [
      "File path_read ./train/Banana_Healthy/187.png\n",
      "File path_read ./train/Banana_Healthy/188.png\n",
      "File path_read ./train/Banana_Healthy/189.png\n",
      "File path_read ./train/Banana_Healthy/190.png\n",
      "File path_read ./train/Banana_Healthy/191.png\n",
      "File path_read ./train/Banana_Healthy/192.png\n",
      "File path_read ./train/Banana_Healthy/193.png\n",
      "File path_read ./train/Banana_Healthy/194.png\n",
      "File path_read ./train/Banana_Healthy/195.png\n"
     ]
    },
    {
     "name": "stderr",
     "output_type": "stream",
     "text": [
      "Lossy conversion from float64 to uint8. Range [0, 1]. Convert image to uint8 prior to saving to suppress this warning.\n",
      "Lossy conversion from float64 to uint8. Range [0, 1]. Convert image to uint8 prior to saving to suppress this warning.\n",
      "Lossy conversion from float64 to uint8. Range [0, 1]. Convert image to uint8 prior to saving to suppress this warning.\n",
      "Lossy conversion from float64 to uint8. Range [0, 1]. Convert image to uint8 prior to saving to suppress this warning.\n",
      "Lossy conversion from float64 to uint8. Range [0, 1]. Convert image to uint8 prior to saving to suppress this warning.\n"
     ]
    },
    {
     "name": "stdout",
     "output_type": "stream",
     "text": [
      "File path_read ./train/Banana_Healthy/196.png\n",
      "File path_read ./train/Banana_Healthy/197.png\n",
      "File path_read ./train/Banana_Healthy/198.png\n",
      "File path_read ./train/Banana_Healthy/199.png\n"
     ]
    },
    {
     "name": "stderr",
     "output_type": "stream",
     "text": [
      "Lossy conversion from float64 to uint8. Range [0, 1]. Convert image to uint8 prior to saving to suppress this warning.\n",
      "Lossy conversion from float64 to uint8. Range [0, 1]. Convert image to uint8 prior to saving to suppress this warning.\n",
      "Lossy conversion from float64 to uint8. Range [0, 1]. Convert image to uint8 prior to saving to suppress this warning.\n"
     ]
    },
    {
     "name": "stdout",
     "output_type": "stream",
     "text": [
      "File path_read ./train/Banana_Healthy/200.png\n",
      "File path_read ./train/Banana_Healthy/201.png\n",
      "File path_read ./train/Banana_Healthy/202.png\n",
      "File path_read ./train/Banana_Healthy/203.png\n"
     ]
    },
    {
     "name": "stderr",
     "output_type": "stream",
     "text": [
      "Lossy conversion from float64 to uint8. Range [0, 1]. Convert image to uint8 prior to saving to suppress this warning.\n",
      "Lossy conversion from float64 to uint8. Range [0, 1]. Convert image to uint8 prior to saving to suppress this warning.\n",
      "Lossy conversion from float64 to uint8. Range [0, 1]. Convert image to uint8 prior to saving to suppress this warning.\n",
      "Lossy conversion from float64 to uint8. Range [0, 1]. Convert image to uint8 prior to saving to suppress this warning.\n",
      "Lossy conversion from float64 to uint8. Range [0, 1]. Convert image to uint8 prior to saving to suppress this warning.\n",
      "Lossy conversion from float64 to uint8. Range [0, 1]. Convert image to uint8 prior to saving to suppress this warning.\n",
      "Lossy conversion from float64 to uint8. Range [0, 1]. Convert image to uint8 prior to saving to suppress this warning.\n",
      "Lossy conversion from float64 to uint8. Range [0, 1]. Convert image to uint8 prior to saving to suppress this warning.\n"
     ]
    },
    {
     "name": "stdout",
     "output_type": "stream",
     "text": [
      "File path_read ./train/Banana_Healthy/204.png\n",
      "File path_read ./train/Banana_Healthy/205.png\n",
      "File path_read ./train/Banana_Healthy/206.png\n",
      "File path_read ./train/Banana_Healthy/207.png\n",
      "File path_read ./train/Banana_Healthy/208.png\n",
      "File path_read ./train/Banana_Healthy/209.png\n",
      "File path_read ./train/Banana_Healthy/210.png\n"
     ]
    },
    {
     "name": "stderr",
     "output_type": "stream",
     "text": [
      "Lossy conversion from float64 to uint8. Range [0, 1]. Convert image to uint8 prior to saving to suppress this warning.\n",
      "Lossy conversion from float64 to uint8. Range [0, 1]. Convert image to uint8 prior to saving to suppress this warning.\n",
      "Lossy conversion from float64 to uint8. Range [0, 1]. Convert image to uint8 prior to saving to suppress this warning.\n",
      "Lossy conversion from float64 to uint8. Range [0, 1]. Convert image to uint8 prior to saving to suppress this warning.\n",
      "Lossy conversion from float64 to uint8. Range [0, 1]. Convert image to uint8 prior to saving to suppress this warning.\n",
      "Lossy conversion from float64 to uint8. Range [0, 1]. Convert image to uint8 prior to saving to suppress this warning.\n",
      "Lossy conversion from float64 to uint8. Range [0, 1]. Convert image to uint8 prior to saving to suppress this warning.\n",
      "Lossy conversion from float64 to uint8. Range [0, 1]. Convert image to uint8 prior to saving to suppress this warning.\n",
      "Lossy conversion from float64 to uint8. Range [0, 1]. Convert image to uint8 prior to saving to suppress this warning.\n",
      "Lossy conversion from float64 to uint8. Range [0, 1]. Convert image to uint8 prior to saving to suppress this warning.\n",
      "Lossy conversion from float64 to uint8. Range [0, 1]. Convert image to uint8 prior to saving to suppress this warning.\n"
     ]
    },
    {
     "name": "stdout",
     "output_type": "stream",
     "text": [
      "File path_read ./train/Banana_Healthy/211.png\n",
      "File path_read ./train/Banana_Healthy/212.png\n",
      "File path_read ./train/Banana_Healthy/213.png\n",
      "File path_read ./train/Banana_Healthy/214.png\n",
      "File path_read ./train/Banana_Healthy/215.png\n",
      "File path_read ./train/Banana_Healthy/216.png\n",
      "File path_read ./train/Banana_Healthy/217.png\n",
      "File path_read ./train/Banana_Healthy/218.png\n",
      "File path_read ./train/Banana_Healthy/219.png\n",
      "File path_read ./train/Banana_Healthy/220.png\n",
      "File path_read ./train/Banana_Healthy/221.png\n"
     ]
    },
    {
     "name": "stderr",
     "output_type": "stream",
     "text": [
      "Lossy conversion from float64 to uint8. Range [0, 1]. Convert image to uint8 prior to saving to suppress this warning.\n",
      "Lossy conversion from float64 to uint8. Range [0, 1]. Convert image to uint8 prior to saving to suppress this warning.\n",
      "Lossy conversion from float64 to uint8. Range [0, 1]. Convert image to uint8 prior to saving to suppress this warning.\n",
      "Lossy conversion from float64 to uint8. Range [0, 1]. Convert image to uint8 prior to saving to suppress this warning.\n",
      "Lossy conversion from float64 to uint8. Range [0, 1]. Convert image to uint8 prior to saving to suppress this warning.\n"
     ]
    },
    {
     "name": "stdout",
     "output_type": "stream",
     "text": [
      "File path_read ./train/Banana_Healthy/222 (1).png\n",
      "File path_read ./train/Banana_Healthy/222.png\n",
      "File path_read ./train/Banana_Healthy/223.png\n",
      "File path_read ./train/Banana_Healthy/224.png\n",
      "File path_read ./train/Banana_Healthy/225.png\n"
     ]
    },
    {
     "name": "stderr",
     "output_type": "stream",
     "text": [
      "Lossy conversion from float64 to uint8. Range [0, 1]. Convert image to uint8 prior to saving to suppress this warning.\n",
      "Lossy conversion from float64 to uint8. Range [0, 1]. Convert image to uint8 prior to saving to suppress this warning.\n",
      "Lossy conversion from float64 to uint8. Range [0, 1]. Convert image to uint8 prior to saving to suppress this warning.\n",
      "Lossy conversion from float64 to uint8. Range [0, 1]. Convert image to uint8 prior to saving to suppress this warning.\n",
      "Lossy conversion from float64 to uint8. Range [0, 1]. Convert image to uint8 prior to saving to suppress this warning.\n",
      "Lossy conversion from float64 to uint8. Range [0, 1]. Convert image to uint8 prior to saving to suppress this warning.\n"
     ]
    },
    {
     "name": "stdout",
     "output_type": "stream",
     "text": [
      "File path_read ./train/Banana_Healthy/226.png\n",
      "File path_read ./train/Banana_Healthy/227.png\n",
      "File path_read ./train/Banana_Healthy/228.png\n",
      "File path_read ./train/Banana_Healthy/229.png\n",
      "File path_read ./train/Banana_Healthy/230.png\n",
      "File path_read ./train/Banana_Healthy/231.png\n",
      "File path_read ./train/Banana_Healthy/232.png\n"
     ]
    },
    {
     "name": "stderr",
     "output_type": "stream",
     "text": [
      "Lossy conversion from float64 to uint8. Range [0, 1]. Convert image to uint8 prior to saving to suppress this warning.\n",
      "Lossy conversion from float64 to uint8. Range [0, 1]. Convert image to uint8 prior to saving to suppress this warning.\n",
      "Lossy conversion from float64 to uint8. Range [0, 1]. Convert image to uint8 prior to saving to suppress this warning.\n",
      "Lossy conversion from float64 to uint8. Range [0, 1]. Convert image to uint8 prior to saving to suppress this warning.\n",
      "Lossy conversion from float64 to uint8. Range [0, 1]. Convert image to uint8 prior to saving to suppress this warning.\n"
     ]
    },
    {
     "name": "stdout",
     "output_type": "stream",
     "text": [
      "File path_read ./train/Banana_Healthy/233.png\n",
      "File path_read ./train/Banana_Healthy/234.png\n",
      "File path_read ./train/Banana_Healthy/235.png\n",
      "File path_read ./train/Banana_Healthy/236.png\n"
     ]
    },
    {
     "name": "stderr",
     "output_type": "stream",
     "text": [
      "Lossy conversion from float64 to uint8. Range [0, 1]. Convert image to uint8 prior to saving to suppress this warning.\n",
      "Lossy conversion from float64 to uint8. Range [0, 1]. Convert image to uint8 prior to saving to suppress this warning.\n",
      "Lossy conversion from float64 to uint8. Range [0, 1]. Convert image to uint8 prior to saving to suppress this warning.\n"
     ]
    },
    {
     "name": "stdout",
     "output_type": "stream",
     "text": [
      "File path_read ./train/Banana_Healthy/237.png\n",
      "File path_read ./train/Banana_Healthy/238.png\n",
      "File path_read ./train/Banana_Healthy/239.png\n",
      "File path_read ./train/Banana_Healthy/240.png\n"
     ]
    },
    {
     "name": "stderr",
     "output_type": "stream",
     "text": [
      "Lossy conversion from float64 to uint8. Range [0, 1]. Convert image to uint8 prior to saving to suppress this warning.\n",
      "Lossy conversion from float64 to uint8. Range [0, 1]. Convert image to uint8 prior to saving to suppress this warning.\n",
      "Lossy conversion from float64 to uint8. Range [0, 1]. Convert image to uint8 prior to saving to suppress this warning.\n"
     ]
    },
    {
     "name": "stdout",
     "output_type": "stream",
     "text": [
      "File path_read ./train/Banana_Healthy/241.png\n",
      "File path_read ./train/Banana_Healthy/242.png\n"
     ]
    },
    {
     "name": "stderr",
     "output_type": "stream",
     "text": [
      "Lossy conversion from float64 to uint8. Range [0, 1]. Convert image to uint8 prior to saving to suppress this warning.\n",
      "Lossy conversion from float64 to uint8. Range [0, 1]. Convert image to uint8 prior to saving to suppress this warning.\n",
      "Lossy conversion from float64 to uint8. Range [0, 1]. Convert image to uint8 prior to saving to suppress this warning.\n"
     ]
    },
    {
     "name": "stdout",
     "output_type": "stream",
     "text": [
      "File path_read ./train/Banana_Healthy/243.png\n",
      "File path_read ./train/Banana_Healthy/244.png\n",
      "File path_read ./train/Banana_Healthy/245.png\n",
      "File path_read ./train/Banana_Healthy/246.png\n"
     ]
    },
    {
     "name": "stderr",
     "output_type": "stream",
     "text": [
      "Lossy conversion from float64 to uint8. Range [0, 1]. Convert image to uint8 prior to saving to suppress this warning.\n",
      "Lossy conversion from float64 to uint8. Range [0, 1]. Convert image to uint8 prior to saving to suppress this warning.\n",
      "Lossy conversion from float64 to uint8. Range [0, 1]. Convert image to uint8 prior to saving to suppress this warning.\n",
      "Lossy conversion from float64 to uint8. Range [0, 1]. Convert image to uint8 prior to saving to suppress this warning.\n",
      "Lossy conversion from float64 to uint8. Range [0, 1]. Convert image to uint8 prior to saving to suppress this warning.\n",
      "Lossy conversion from float64 to uint8. Range [0, 1]. Convert image to uint8 prior to saving to suppress this warning.\n",
      "Lossy conversion from float64 to uint8. Range [0, 1]. Convert image to uint8 prior to saving to suppress this warning.\n"
     ]
    },
    {
     "name": "stdout",
     "output_type": "stream",
     "text": [
      "File path_read ./train/Banana_Healthy/247.png\n",
      "File path_read ./train/Banana_Healthy/248.png\n",
      "File path_read ./train/Banana_Healthy/249.png\n",
      "File path_read ./train/Banana_Healthy/250.png\n",
      "File path_read ./train/Banana_Healthy/251.png\n",
      "File path_read ./train/Banana_Healthy/252.png\n",
      "File path_read ./train/Banana_Healthy/253.png\n"
     ]
    },
    {
     "name": "stderr",
     "output_type": "stream",
     "text": [
      "Lossy conversion from float64 to uint8. Range [0, 1]. Convert image to uint8 prior to saving to suppress this warning.\n",
      "Lossy conversion from float64 to uint8. Range [0, 1]. Convert image to uint8 prior to saving to suppress this warning.\n",
      "Lossy conversion from float64 to uint8. Range [0, 1]. Convert image to uint8 prior to saving to suppress this warning.\n",
      "Lossy conversion from float64 to uint8. Range [0, 1]. Convert image to uint8 prior to saving to suppress this warning.\n",
      "Lossy conversion from float64 to uint8. Range [0, 1]. Convert image to uint8 prior to saving to suppress this warning.\n"
     ]
    },
    {
     "name": "stdout",
     "output_type": "stream",
     "text": [
      "File path_read ./train/Banana_Healthy/254.png\n",
      "File path_read ./train/Banana_Healthy/255.png\n",
      "File path_read ./train/Banana_Healthy/256.png\n",
      "File path_read ./train/Banana_Healthy/257.png\n",
      "File path_read ./train/Banana_Healthy/258.png\n"
     ]
    },
    {
     "name": "stderr",
     "output_type": "stream",
     "text": [
      "Lossy conversion from float64 to uint8. Range [0, 1]. Convert image to uint8 prior to saving to suppress this warning.\n",
      "Lossy conversion from float64 to uint8. Range [0, 1]. Convert image to uint8 prior to saving to suppress this warning.\n",
      "Lossy conversion from float64 to uint8. Range [0, 1]. Convert image to uint8 prior to saving to suppress this warning.\n",
      "Lossy conversion from float64 to uint8. Range [0, 1]. Convert image to uint8 prior to saving to suppress this warning.\n",
      "Lossy conversion from float64 to uint8. Range [0, 1]. Convert image to uint8 prior to saving to suppress this warning.\n",
      "Lossy conversion from float64 to uint8. Range [0, 1]. Convert image to uint8 prior to saving to suppress this warning.\n",
      "Lossy conversion from float64 to uint8. Range [0, 1]. Convert image to uint8 prior to saving to suppress this warning.\n"
     ]
    },
    {
     "name": "stdout",
     "output_type": "stream",
     "text": [
      "File path_read ./train/Banana_Healthy/259.png\n",
      "File path_read ./train/Banana_Healthy/260.png\n",
      "File path_read ./train/Banana_Healthy/261.png\n",
      "File path_read ./train/Banana_Healthy/262.png\n",
      "File path_read ./train/Banana_Healthy/263.png\n",
      "File path_read ./train/Banana_Healthy/264.png\n",
      "File path_read ./train/Banana_Healthy/265.png\n"
     ]
    },
    {
     "name": "stderr",
     "output_type": "stream",
     "text": [
      "Lossy conversion from float64 to uint8. Range [0, 1]. Convert image to uint8 prior to saving to suppress this warning.\n",
      "Lossy conversion from float64 to uint8. Range [0, 1]. Convert image to uint8 prior to saving to suppress this warning.\n",
      "Lossy conversion from float64 to uint8. Range [0, 1]. Convert image to uint8 prior to saving to suppress this warning.\n",
      "Lossy conversion from float64 to uint8. Range [0, 1]. Convert image to uint8 prior to saving to suppress this warning.\n",
      "Lossy conversion from float64 to uint8. Range [0, 1]. Convert image to uint8 prior to saving to suppress this warning.\n",
      "Lossy conversion from float64 to uint8. Range [0, 1]. Convert image to uint8 prior to saving to suppress this warning.\n",
      "Lossy conversion from float64 to uint8. Range [0, 1]. Convert image to uint8 prior to saving to suppress this warning.\n",
      "Lossy conversion from float64 to uint8. Range [0, 1]. Convert image to uint8 prior to saving to suppress this warning.\n",
      "Lossy conversion from float64 to uint8. Range [0, 1]. Convert image to uint8 prior to saving to suppress this warning.\n"
     ]
    },
    {
     "name": "stdout",
     "output_type": "stream",
     "text": [
      "File path_read ./train/Banana_Healthy/266.png\n",
      "File path_read ./train/Banana_Healthy/267.png\n",
      "File path_read ./train/Banana_Healthy/268.png\n",
      "File path_read ./train/Banana_Healthy/269.png\n",
      "File path_read ./train/Banana_Healthy/270.png\n",
      "File path_read ./train/Banana_Healthy/271.png\n",
      "File path_read ./train/Banana_Healthy/272.png\n",
      "File path_read ./train/Banana_Healthy/273.png\n"
     ]
    },
    {
     "name": "stderr",
     "output_type": "stream",
     "text": [
      "Lossy conversion from float64 to uint8. Range [0, 1]. Convert image to uint8 prior to saving to suppress this warning.\n",
      "Lossy conversion from float64 to uint8. Range [0, 1]. Convert image to uint8 prior to saving to suppress this warning.\n",
      "Lossy conversion from float64 to uint8. Range [0, 1]. Convert image to uint8 prior to saving to suppress this warning.\n",
      "Lossy conversion from float64 to uint8. Range [0, 1]. Convert image to uint8 prior to saving to suppress this warning.\n",
      "Lossy conversion from float64 to uint8. Range [0, 1]. Convert image to uint8 prior to saving to suppress this warning.\n",
      "Lossy conversion from float64 to uint8. Range [0, 1]. Convert image to uint8 prior to saving to suppress this warning.\n"
     ]
    },
    {
     "name": "stdout",
     "output_type": "stream",
     "text": [
      "File path_read ./train/Banana_Healthy/274.png\n",
      "File path_read ./train/Banana_Healthy/275.png\n",
      "File path_read ./train/Banana_Healthy/276.png\n",
      "File path_read ./train/Banana_Healthy/277.png\n",
      "File path_read ./train/Banana_Healthy/278.png\n",
      "File path_read ./train/Banana_Healthy/279.png\n"
     ]
    },
    {
     "name": "stderr",
     "output_type": "stream",
     "text": [
      "Lossy conversion from float64 to uint8. Range [0, 1]. Convert image to uint8 prior to saving to suppress this warning.\n",
      "Lossy conversion from float64 to uint8. Range [0, 1]. Convert image to uint8 prior to saving to suppress this warning.\n",
      "Lossy conversion from float64 to uint8. Range [0, 1]. Convert image to uint8 prior to saving to suppress this warning.\n",
      "Lossy conversion from float64 to uint8. Range [0, 1]. Convert image to uint8 prior to saving to suppress this warning.\n",
      "Lossy conversion from float64 to uint8. Range [0, 1]. Convert image to uint8 prior to saving to suppress this warning.\n",
      "Lossy conversion from float64 to uint8. Range [0, 1]. Convert image to uint8 prior to saving to suppress this warning.\n",
      "Lossy conversion from float64 to uint8. Range [0, 1]. Convert image to uint8 prior to saving to suppress this warning.\n",
      "Lossy conversion from float64 to uint8. Range [0, 1]. Convert image to uint8 prior to saving to suppress this warning.\n"
     ]
    },
    {
     "name": "stdout",
     "output_type": "stream",
     "text": [
      "File path_read ./train/Banana_Healthy/280.png\n",
      "File path_read ./train/Banana_Healthy/281.png\n",
      "File path_read ./train/Banana_Healthy/282.png\n",
      "File path_read ./train/Banana_Healthy/283.png\n",
      "File path_read ./train/Banana_Healthy/284.png\n",
      "File path_read ./train/Banana_Healthy/285.png\n",
      "File path_read ./train/Banana_Healthy/286.png\n",
      "File path_read ./train/Banana_Healthy/287.png\n"
     ]
    },
    {
     "name": "stderr",
     "output_type": "stream",
     "text": [
      "Lossy conversion from float64 to uint8. Range [0, 1]. Convert image to uint8 prior to saving to suppress this warning.\n",
      "Lossy conversion from float64 to uint8. Range [0, 1]. Convert image to uint8 prior to saving to suppress this warning.\n",
      "Lossy conversion from float64 to uint8. Range [0, 1]. Convert image to uint8 prior to saving to suppress this warning.\n",
      "Lossy conversion from float64 to uint8. Range [0, 1]. Convert image to uint8 prior to saving to suppress this warning.\n",
      "Lossy conversion from float64 to uint8. Range [0, 1]. Convert image to uint8 prior to saving to suppress this warning.\n",
      "Lossy conversion from float64 to uint8. Range [0, 1]. Convert image to uint8 prior to saving to suppress this warning.\n",
      "Lossy conversion from float64 to uint8. Range [0, 1]. Convert image to uint8 prior to saving to suppress this warning.\n"
     ]
    },
    {
     "name": "stdout",
     "output_type": "stream",
     "text": [
      "File path_read ./train/Banana_Healthy/288.png\n",
      "File path_read ./train/Banana_Healthy/289.png\n",
      "File path_read ./train/Banana_Healthy/290.png\n",
      "File path_read ./train/Banana_Healthy/291.png\n",
      "File path_read ./train/Banana_Healthy/292.png\n",
      "File path_read ./train/Banana_Healthy/294.png\n",
      "File path_read ./train/Banana_Healthy/295.png\n"
     ]
    },
    {
     "name": "stderr",
     "output_type": "stream",
     "text": [
      "Lossy conversion from float64 to uint8. Range [0, 1]. Convert image to uint8 prior to saving to suppress this warning.\n",
      "Lossy conversion from float64 to uint8. Range [0, 1]. Convert image to uint8 prior to saving to suppress this warning.\n",
      "Lossy conversion from float64 to uint8. Range [0, 1]. Convert image to uint8 prior to saving to suppress this warning.\n",
      "Lossy conversion from float64 to uint8. Range [0, 1]. Convert image to uint8 prior to saving to suppress this warning.\n",
      "Lossy conversion from float64 to uint8. Range [0, 1]. Convert image to uint8 prior to saving to suppress this warning.\n",
      "Lossy conversion from float64 to uint8. Range [0, 1]. Convert image to uint8 prior to saving to suppress this warning.\n",
      "Lossy conversion from float64 to uint8. Range [0, 1]. Convert image to uint8 prior to saving to suppress this warning.\n",
      "Lossy conversion from float64 to uint8. Range [0, 1]. Convert image to uint8 prior to saving to suppress this warning.\n"
     ]
    },
    {
     "name": "stdout",
     "output_type": "stream",
     "text": [
      "File path_read ./train/Banana_Healthy/296.png\n",
      "File path_read ./train/Banana_Healthy/297.png\n",
      "File path_read ./train/Banana_Healthy/298.png\n",
      "File path_read ./train/Banana_Healthy/299.png\n",
      "File path_read ./train/Banana_Healthy/300.png\n",
      "File path_read ./train/Banana_Healthy/301.png\n",
      "File path_read ./train/Banana_Healthy/302.png\n",
      "File path_read ./train/Banana_Healthy/303.png\n"
     ]
    },
    {
     "name": "stderr",
     "output_type": "stream",
     "text": [
      "Lossy conversion from float64 to uint8. Range [0, 1]. Convert image to uint8 prior to saving to suppress this warning.\n",
      "Lossy conversion from float64 to uint8. Range [0, 1]. Convert image to uint8 prior to saving to suppress this warning.\n",
      "Lossy conversion from float64 to uint8. Range [0, 1]. Convert image to uint8 prior to saving to suppress this warning.\n",
      "Lossy conversion from float64 to uint8. Range [0, 1]. Convert image to uint8 prior to saving to suppress this warning.\n",
      "Lossy conversion from float64 to uint8. Range [0, 1]. Convert image to uint8 prior to saving to suppress this warning.\n",
      "Lossy conversion from float64 to uint8. Range [0, 1]. Convert image to uint8 prior to saving to suppress this warning.\n",
      "Lossy conversion from float64 to uint8. Range [0, 1]. Convert image to uint8 prior to saving to suppress this warning.\n",
      "Lossy conversion from float64 to uint8. Range [0, 1]. Convert image to uint8 prior to saving to suppress this warning.\n"
     ]
    },
    {
     "name": "stdout",
     "output_type": "stream",
     "text": [
      "File path_read ./train/Banana_Healthy/304.png\n",
      "File path_read ./train/Banana_Healthy/305.png\n",
      "File path_read ./train/Banana_Healthy/306.png\n",
      "File path_read ./train/Banana_Healthy/307.png\n",
      "File path_read ./train/Banana_Healthy/308.png\n",
      "File path_read ./train/Banana_Healthy/309.png\n",
      "File path_read ./train/Banana_Healthy/310.png\n",
      "File path_read ./train/Banana_Healthy/311.png\n"
     ]
    },
    {
     "name": "stderr",
     "output_type": "stream",
     "text": [
      "Lossy conversion from float64 to uint8. Range [0, 1]. Convert image to uint8 prior to saving to suppress this warning.\n",
      "Lossy conversion from float64 to uint8. Range [0, 1]. Convert image to uint8 prior to saving to suppress this warning.\n",
      "Lossy conversion from float64 to uint8. Range [0, 1]. Convert image to uint8 prior to saving to suppress this warning.\n",
      "Lossy conversion from float64 to uint8. Range [0, 1]. Convert image to uint8 prior to saving to suppress this warning.\n",
      "Lossy conversion from float64 to uint8. Range [0, 1]. Convert image to uint8 prior to saving to suppress this warning.\n",
      "Lossy conversion from float64 to uint8. Range [0, 1]. Convert image to uint8 prior to saving to suppress this warning.\n",
      "Lossy conversion from float64 to uint8. Range [0, 1]. Convert image to uint8 prior to saving to suppress this warning.\n",
      "Lossy conversion from float64 to uint8. Range [0, 1]. Convert image to uint8 prior to saving to suppress this warning.\n",
      "Lossy conversion from float64 to uint8. Range [0, 1]. Convert image to uint8 prior to saving to suppress this warning.\n"
     ]
    },
    {
     "name": "stdout",
     "output_type": "stream",
     "text": [
      "File path_read ./train/Banana_Healthy/312.png\n",
      "File path_read ./train/Banana_Healthy/313.png\n",
      "File path_read ./train/Banana_Healthy/314.png\n",
      "File path_read ./train/Banana_Healthy/315.png\n",
      "File path_read ./train/Banana_Healthy/316.png\n",
      "File path_read ./train/Banana_Healthy/317.png\n",
      "File path_read ./train/Banana_Healthy/318.png\n",
      "File path_read ./train/Banana_Healthy/319.png\n",
      "File path_read ./train/Banana_Healthy/320.png\n"
     ]
    },
    {
     "name": "stderr",
     "output_type": "stream",
     "text": [
      "Lossy conversion from float64 to uint8. Range [0, 1]. Convert image to uint8 prior to saving to suppress this warning.\n",
      "Lossy conversion from float64 to uint8. Range [0, 1]. Convert image to uint8 prior to saving to suppress this warning.\n",
      "Lossy conversion from float64 to uint8. Range [0, 1]. Convert image to uint8 prior to saving to suppress this warning.\n",
      "Lossy conversion from float64 to uint8. Range [0, 1]. Convert image to uint8 prior to saving to suppress this warning.\n",
      "Lossy conversion from float64 to uint8. Range [0, 1]. Convert image to uint8 prior to saving to suppress this warning.\n"
     ]
    },
    {
     "name": "stdout",
     "output_type": "stream",
     "text": [
      "File path_read ./train/Banana_Healthy/321.png\n",
      "File path_read ./train/Banana_Healthy/322.png\n",
      "File path_read ./train/Banana_Healthy/323.png\n",
      "File path_read ./train/Banana_Healthy/324.png\n",
      "File path_read ./train/Banana_Healthy/325.png\n"
     ]
    },
    {
     "name": "stderr",
     "output_type": "stream",
     "text": [
      "Lossy conversion from float64 to uint8. Range [0, 1]. Convert image to uint8 prior to saving to suppress this warning.\n",
      "Lossy conversion from float64 to uint8. Range [0, 1]. Convert image to uint8 prior to saving to suppress this warning.\n",
      "Lossy conversion from float64 to uint8. Range [0, 1]. Convert image to uint8 prior to saving to suppress this warning.\n",
      "Lossy conversion from float64 to uint8. Range [0, 1]. Convert image to uint8 prior to saving to suppress this warning.\n",
      "Lossy conversion from float64 to uint8. Range [0, 1]. Convert image to uint8 prior to saving to suppress this warning.\n",
      "Lossy conversion from float64 to uint8. Range [0, 1]. Convert image to uint8 prior to saving to suppress this warning.\n",
      "Lossy conversion from float64 to uint8. Range [0, 1]. Convert image to uint8 prior to saving to suppress this warning.\n",
      "Lossy conversion from float64 to uint8. Range [0, 1]. Convert image to uint8 prior to saving to suppress this warning.\n"
     ]
    },
    {
     "name": "stdout",
     "output_type": "stream",
     "text": [
      "File path_read ./train/Banana_Healthy/326.png\n",
      "File path_read ./train/Banana_Healthy/327.png\n",
      "File path_read ./train/Banana_Healthy/328.png\n",
      "File path_read ./train/Banana_Healthy/329.png\n",
      "File path_read ./train/Banana_Healthy/330.png\n",
      "File path_read ./train/Banana_Healthy/331.png\n",
      "File path_read ./train/Banana_Healthy/332.png\n",
      "File path_read ./train/Banana_Healthy/333.png\n",
      "File path_read ./train/Banana_Healthy/334.png\n"
     ]
    },
    {
     "name": "stderr",
     "output_type": "stream",
     "text": [
      "Lossy conversion from float64 to uint8. Range [0, 1]. Convert image to uint8 prior to saving to suppress this warning.\n",
      "Lossy conversion from float64 to uint8. Range [0, 1]. Convert image to uint8 prior to saving to suppress this warning.\n",
      "Lossy conversion from float64 to uint8. Range [0, 1]. Convert image to uint8 prior to saving to suppress this warning.\n",
      "Lossy conversion from float64 to uint8. Range [0, 1]. Convert image to uint8 prior to saving to suppress this warning.\n",
      "Lossy conversion from float64 to uint8. Range [0, 1]. Convert image to uint8 prior to saving to suppress this warning.\n",
      "Lossy conversion from float64 to uint8. Range [0, 1]. Convert image to uint8 prior to saving to suppress this warning.\n",
      "Lossy conversion from float64 to uint8. Range [0, 1]. Convert image to uint8 prior to saving to suppress this warning.\n",
      "Lossy conversion from float64 to uint8. Range [0, 1]. Convert image to uint8 prior to saving to suppress this warning.\n"
     ]
    },
    {
     "name": "stdout",
     "output_type": "stream",
     "text": [
      "File path_read ./train/Banana_Healthy/335.png\n",
      "File path_read ./train/Banana_Healthy/336.png\n",
      "File path_read ./train/Banana_Healthy/337.png\n",
      "File path_read ./train/Banana_Healthy/338.png\n",
      "File path_read ./train/Banana_Healthy/339.png\n",
      "File path_read ./train/Banana_Healthy/340.png\n",
      "File path_read ./train/Banana_Healthy/341.png\n"
     ]
    },
    {
     "name": "stderr",
     "output_type": "stream",
     "text": [
      "Lossy conversion from float64 to uint8. Range [0, 1]. Convert image to uint8 prior to saving to suppress this warning.\n",
      "Lossy conversion from float64 to uint8. Range [0, 1]. Convert image to uint8 prior to saving to suppress this warning.\n",
      "Lossy conversion from float64 to uint8. Range [0, 1]. Convert image to uint8 prior to saving to suppress this warning.\n",
      "Lossy conversion from float64 to uint8. Range [0, 1]. Convert image to uint8 prior to saving to suppress this warning.\n",
      "Lossy conversion from float64 to uint8. Range [0, 1]. Convert image to uint8 prior to saving to suppress this warning.\n"
     ]
    },
    {
     "name": "stdout",
     "output_type": "stream",
     "text": [
      "File path_read ./train/Banana_Healthy/342.png\n",
      "File path_read ./train/Banana_Healthy/343.png\n",
      "File path_read ./train/Banana_Healthy/344.png\n",
      "File path_read ./train/Banana_Healthy/345.png\n",
      "File path_read ./train/Banana_Healthy/346.png\n"
     ]
    },
    {
     "name": "stderr",
     "output_type": "stream",
     "text": [
      "Lossy conversion from float64 to uint8. Range [0, 1]. Convert image to uint8 prior to saving to suppress this warning.\n",
      "Lossy conversion from float64 to uint8. Range [0, 1]. Convert image to uint8 prior to saving to suppress this warning.\n",
      "Lossy conversion from float64 to uint8. Range [0, 1]. Convert image to uint8 prior to saving to suppress this warning.\n",
      "Lossy conversion from float64 to uint8. Range [0, 1]. Convert image to uint8 prior to saving to suppress this warning.\n",
      "Lossy conversion from float64 to uint8. Range [0, 1]. Convert image to uint8 prior to saving to suppress this warning.\n"
     ]
    },
    {
     "name": "stdout",
     "output_type": "stream",
     "text": [
      "File path_read ./train/Banana_Healthy/347.png\n",
      "File path_read ./train/Banana_Healthy/348.png\n",
      "File path_read ./train/Banana_Healthy/349.png\n",
      "File path_read ./train/Banana_Healthy/350.png\n",
      "File path_read ./train/Banana_Healthy/351.png\n"
     ]
    },
    {
     "name": "stderr",
     "output_type": "stream",
     "text": [
      "Lossy conversion from float64 to uint8. Range [0, 1]. Convert image to uint8 prior to saving to suppress this warning.\n",
      "Lossy conversion from float64 to uint8. Range [0, 1]. Convert image to uint8 prior to saving to suppress this warning.\n",
      "Lossy conversion from float64 to uint8. Range [0, 1]. Convert image to uint8 prior to saving to suppress this warning.\n",
      "Lossy conversion from float64 to uint8. Range [0, 1]. Convert image to uint8 prior to saving to suppress this warning.\n"
     ]
    },
    {
     "name": "stdout",
     "output_type": "stream",
     "text": [
      "File path_read ./train/Banana_Healthy/352.png\n",
      "File path_read ./train/Banana_Healthy/353.png\n",
      "File path_read ./train/Banana_Healthy/354.png\n",
      "File path_read ./train/Banana_Healthy/355.png\n",
      "File path_read ./train/Banana_Healthy/356.png\n"
     ]
    },
    {
     "name": "stderr",
     "output_type": "stream",
     "text": [
      "Lossy conversion from float64 to uint8. Range [0, 1]. Convert image to uint8 prior to saving to suppress this warning.\n",
      "Lossy conversion from float64 to uint8. Range [0, 1]. Convert image to uint8 prior to saving to suppress this warning.\n",
      "Lossy conversion from float64 to uint8. Range [0, 1]. Convert image to uint8 prior to saving to suppress this warning.\n",
      "Lossy conversion from float64 to uint8. Range [0, 1]. Convert image to uint8 prior to saving to suppress this warning.\n",
      "Lossy conversion from float64 to uint8. Range [0, 1]. Convert image to uint8 prior to saving to suppress this warning.\n"
     ]
    },
    {
     "name": "stdout",
     "output_type": "stream",
     "text": [
      "File path_read ./train/Banana_Healthy/357.png\n",
      "File path_read ./train/Banana_Healthy/358.png\n",
      "File path_read ./train/Banana_Healthy/359.png\n",
      "File path_read ./train/Banana_Healthy/360.png\n",
      "File path_read ./train/Banana_Healthy/70.png\n"
     ]
    },
    {
     "name": "stderr",
     "output_type": "stream",
     "text": [
      "Lossy conversion from float64 to uint8. Range [0, 1]. Convert image to uint8 prior to saving to suppress this warning.\n",
      "Lossy conversion from float64 to uint8. Range [0, 1]. Convert image to uint8 prior to saving to suppress this warning.\n",
      "Lossy conversion from float64 to uint8. Range [0, 1]. Convert image to uint8 prior to saving to suppress this warning.\n",
      "Lossy conversion from float64 to uint8. Range [0, 1]. Convert image to uint8 prior to saving to suppress this warning.\n",
      "Lossy conversion from float64 to uint8. Range [0, 1]. Convert image to uint8 prior to saving to suppress this warning.\n"
     ]
    },
    {
     "name": "stdout",
     "output_type": "stream",
     "text": [
      "File path_read ./train/Banana_Healthy/71.png\n",
      "File path_read ./train/Banana_Healthy/72.png\n",
      "File path_read ./train/Banana_Healthy/73.png\n",
      "File path_read ./train/Banana_Healthy/74.png\n",
      "File path_read ./train/Banana_Healthy/75.png\n"
     ]
    },
    {
     "name": "stderr",
     "output_type": "stream",
     "text": [
      "Lossy conversion from float64 to uint8. Range [0, 1]. Convert image to uint8 prior to saving to suppress this warning.\n",
      "Lossy conversion from float64 to uint8. Range [0, 1]. Convert image to uint8 prior to saving to suppress this warning.\n",
      "Lossy conversion from float64 to uint8. Range [0, 1]. Convert image to uint8 prior to saving to suppress this warning.\n",
      "Lossy conversion from float64 to uint8. Range [0, 1]. Convert image to uint8 prior to saving to suppress this warning.\n",
      "Lossy conversion from float64 to uint8. Range [0, 1]. Convert image to uint8 prior to saving to suppress this warning.\n",
      "Lossy conversion from float64 to uint8. Range [0, 1]. Convert image to uint8 prior to saving to suppress this warning.\n",
      "Lossy conversion from float64 to uint8. Range [0, 1]. Convert image to uint8 prior to saving to suppress this warning.\n"
     ]
    },
    {
     "name": "stdout",
     "output_type": "stream",
     "text": [
      "File path_read ./train/Banana_Healthy/76.png\n",
      "File path_read ./train/Banana_Healthy/77.png\n",
      "File path_read ./train/Banana_Healthy/78.png\n",
      "File path_read ./train/Banana_Healthy/79.png\n",
      "File path_read ./train/Banana_Healthy/80.png\n",
      "File path_read ./train/Banana_Healthy/81.png\n"
     ]
    },
    {
     "name": "stderr",
     "output_type": "stream",
     "text": [
      "Lossy conversion from float64 to uint8. Range [0, 1]. Convert image to uint8 prior to saving to suppress this warning.\n",
      "Lossy conversion from float64 to uint8. Range [0, 1]. Convert image to uint8 prior to saving to suppress this warning.\n",
      "Lossy conversion from float64 to uint8. Range [0, 1]. Convert image to uint8 prior to saving to suppress this warning.\n",
      "Lossy conversion from float64 to uint8. Range [0, 1]. Convert image to uint8 prior to saving to suppress this warning.\n",
      "Lossy conversion from float64 to uint8. Range [0, 1]. Convert image to uint8 prior to saving to suppress this warning.\n",
      "Lossy conversion from float64 to uint8. Range [0, 1]. Convert image to uint8 prior to saving to suppress this warning.\n",
      "Lossy conversion from float64 to uint8. Range [0, 1]. Convert image to uint8 prior to saving to suppress this warning.\n"
     ]
    },
    {
     "name": "stdout",
     "output_type": "stream",
     "text": [
      "File path_read ./train/Banana_Healthy/82.png\n",
      "File path_read ./train/Banana_Healthy/83.png\n",
      "File path_read ./train/Banana_Healthy/84.png\n",
      "File path_read ./train/Banana_Healthy/85.png\n",
      "File path_read ./train/Banana_Healthy/86.png\n",
      "File path_read ./train/Banana_Healthy/87.png\n",
      "File path_read ./train/Banana_Healthy/88.png\n"
     ]
    },
    {
     "name": "stderr",
     "output_type": "stream",
     "text": [
      "Lossy conversion from float64 to uint8. Range [0, 1]. Convert image to uint8 prior to saving to suppress this warning.\n",
      "Lossy conversion from float64 to uint8. Range [0, 1]. Convert image to uint8 prior to saving to suppress this warning.\n",
      "Lossy conversion from float64 to uint8. Range [0, 1]. Convert image to uint8 prior to saving to suppress this warning.\n",
      "Lossy conversion from float64 to uint8. Range [0, 1]. Convert image to uint8 prior to saving to suppress this warning.\n",
      "Lossy conversion from float64 to uint8. Range [0, 1]. Convert image to uint8 prior to saving to suppress this warning.\n",
      "Lossy conversion from float64 to uint8. Range [0, 1]. Convert image to uint8 prior to saving to suppress this warning.\n"
     ]
    },
    {
     "name": "stdout",
     "output_type": "stream",
     "text": [
      "File path_read ./train/Banana_Healthy/89.png\n",
      "File path_read ./train/Banana_Healthy/90.png\n",
      "File path_read ./train/Banana_Healthy/91.png\n",
      "File path_read ./train/Banana_Healthy/92.png\n",
      "File path_read ./train/Banana_Healthy/93.png\n",
      "File path_read ./train/Banana_Healthy/94.png\n"
     ]
    },
    {
     "name": "stderr",
     "output_type": "stream",
     "text": [
      "Lossy conversion from float64 to uint8. Range [0, 1]. Convert image to uint8 prior to saving to suppress this warning.\n",
      "Lossy conversion from float64 to uint8. Range [0, 1]. Convert image to uint8 prior to saving to suppress this warning.\n",
      "Lossy conversion from float64 to uint8. Range [0, 1]. Convert image to uint8 prior to saving to suppress this warning.\n",
      "Lossy conversion from float64 to uint8. Range [0, 1]. Convert image to uint8 prior to saving to suppress this warning.\n"
     ]
    },
    {
     "name": "stdout",
     "output_type": "stream",
     "text": [
      "File path_read ./train/Banana_Healthy/95.png\n",
      "File path_read ./train/Banana_Healthy/96.png\n",
      "File path_read ./train/Banana_Healthy/97.png\n",
      "File path_read ./train/Banana_Healthy/98.png\n",
      "File path_read ./train/Banana_Healthy/99.png\n"
     ]
    },
    {
     "name": "stderr",
     "output_type": "stream",
     "text": [
      "Lossy conversion from float64 to uint8. Range [0, 1]. Convert image to uint8 prior to saving to suppress this warning.\n"
     ]
    },
    {
     "name": "stdout",
     "output_type": "stream",
     "text": [
      "File path_read ./train/Banana_Healthy/aug_100_1087900.png\n",
      "File path_read ./train/Banana_Healthy/aug_101_1948473.png\n",
      "File path_read ./train/Banana_Healthy/aug_101_4119542.png\n",
      "File path_read ./train/Banana_Healthy/aug_102_230447.png\n",
      "File path_read ./train/Banana_Healthy/aug_102_6379807.png\n",
      "File path_read ./train/Banana_Healthy/aug_103_1742679.png\n",
      "File path_read ./train/Banana_Healthy/aug_103_263047.png\n",
      "File path_read ./train/Banana_Healthy/aug_104_4612267.png\n",
      "File path_read ./train/Banana_Healthy/aug_105_2408158.png\n",
      "File path_read ./train/Banana_Healthy/aug_106_9114729.png\n",
      "File path_read ./train/Banana_Healthy/aug_107_5776250.png\n",
      "File path_read ./train/Banana_Healthy/aug_107_6743359.png\n",
      "File path_read ./train/Banana_Healthy/aug_108_2275690.png\n",
      "File path_read ./train/Banana_Healthy/aug_109_6109509.png\n",
      "File path_read ./train/Banana_Healthy/aug_110_4616328.png\n",
      "File path_read ./train/Banana_Healthy/aug_111_2550616.png\n",
      "File path_read ./train/Banana_Healthy/aug_112_6712335.png\n",
      "File path_read ./train/Banana_Healthy/aug_113_7490582.png\n",
      "File path_read ./train/Banana_Healthy/aug_114_1135149.png\n",
      "File path_read ./train/Banana_Healthy/aug_114_4401703.png\n",
      "File path_read ./train/Banana_Healthy/aug_115_5686335.png\n",
      "File path_read ./train/Banana_Healthy/aug_115_7633175.png\n",
      "File path_read ./train/Banana_Healthy/aug_116_9147221.png\n",
      "File path_read ./train/Banana_Healthy/aug_117_3383539.png\n",
      "File path_read ./train/Banana_Healthy/aug_118_2019077.png\n",
      "File path_read ./train/Banana_Healthy/aug_118_5357211.png\n",
      "File path_read ./train/Banana_Healthy/aug_119_5685678.png\n",
      "File path_read ./train/Banana_Healthy/aug_119_7909077.png\n",
      "File path_read ./train/Banana_Healthy/aug_120_6580722.png\n",
      "File path_read ./train/Banana_Healthy/aug_121_6695380.png\n",
      "File path_read ./train/Banana_Healthy/aug_121_9773346.png\n",
      "File path_read ./train/Banana_Healthy/aug_122_1939733.png\n",
      "File path_read ./train/Banana_Healthy/aug_122_6836624.png\n",
      "File path_read ./train/Banana_Healthy/aug_123_1492231.png\n",
      "File path_read ./train/Banana_Healthy/aug_124_1322274.png\n",
      "File path_read ./train/Banana_Healthy/aug_124_4866767.png\n",
      "File path_read ./train/Banana_Healthy/aug_125_2890070.png\n",
      "File path_read ./train/Banana_Healthy/aug_126_4473454.png\n",
      "File path_read ./train/Banana_Healthy/aug_126_7369348.png\n",
      "File path_read ./train/Banana_Healthy/aug_127_2497858.png\n",
      "File path_read ./train/Banana_Healthy/aug_127_3987710.png\n",
      "File path_read ./train/Banana_Healthy/aug_128_5074815.png\n",
      "File path_read ./train/Banana_Healthy/aug_129_4379065.png\n",
      "File path_read ./train/Banana_Healthy/aug_130_4963842.png\n",
      "File path_read ./train/Banana_Healthy/aug_130_7000015.png\n",
      "File path_read ./train/Banana_Healthy/aug_131_4170872.png\n",
      "File path_read ./train/Banana_Healthy/aug_132_2172960.png\n",
      "File path_read ./train/Banana_Healthy/aug_133_8940237.png\n",
      "File path_read ./train/Banana_Healthy/aug_133_9832102.png\n",
      "File path_read ./train/Banana_Healthy/aug_134_7700569.png\n",
      "File path_read ./train/Banana_Healthy/aug_135_2394684.png\n",
      "File path_read ./train/Banana_Healthy/aug_135_3396951.png\n",
      "File path_read ./train/Banana_Healthy/aug_136_1964113.png\n",
      "File path_read ./train/Banana_Healthy/aug_136_2198596.png\n",
      "File path_read ./train/Banana_Healthy/aug_137_2013950.png\n",
      "File path_read ./train/Banana_Healthy/aug_137_3853665.png\n",
      "File path_read ./train/Banana_Healthy/aug_138_4451257.png\n",
      "File path_read ./train/Banana_Healthy/aug_139_1105468.png\n",
      "File path_read ./train/Banana_Healthy/aug_139_1612700.png\n",
      "File path_read ./train/Banana_Healthy/aug_140_8500796.png\n",
      "File path_read ./train/Banana_Healthy/aug_141_1004289.png\n",
      "File path_read ./train/Banana_Healthy/aug_141_4613718.png\n",
      "File path_read ./train/Banana_Healthy/aug_142_3200721.png\n",
      "File path_read ./train/Banana_Healthy/aug_142_7503795.png\n",
      "File path_read ./train/Banana_Healthy/aug_143_20386.png\n",
      "File path_read ./train/Banana_Healthy/aug_143_3987526.png\n",
      "File path_read ./train/Banana_Healthy/aug_144_4785780.png\n",
      "File path_read ./train/Banana_Healthy/aug_145_5433323.png\n",
      "File path_read ./train/Banana_Healthy/aug_145_6063614.png\n",
      "File path_read ./train/Banana_Healthy/aug_146_1938624.png\n",
      "File path_read ./train/Banana_Healthy/aug_146_5649469.png\n",
      "File path_read ./train/Banana_Healthy/aug_147_3942824.png\n",
      "File path_read ./train/Banana_Healthy/aug_147_560507.png\n",
      "File path_read ./train/Banana_Healthy/aug_148_1629069.png\n",
      "File path_read ./train/Banana_Healthy/aug_148_185570.png\n",
      "File path_read ./train/Banana_Healthy/aug_149_2300933.png\n",
      "File path_read ./train/Banana_Healthy/aug_149_7636273.png\n",
      "File path_read ./train/Banana_Healthy/aug_150_165911.png\n",
      "File path_read ./train/Banana_Healthy/aug_150_267938.png\n",
      "File path_read ./train/Banana_Healthy/aug_151_9588562.png\n",
      "File path_read ./train/Banana_Healthy/aug_152_8830780.png\n",
      "File path_read ./train/Banana_Healthy/aug_153_987691.png\n",
      "File path_read ./train/Banana_Healthy/aug_154_3887560.png\n",
      "File path_read ./train/Banana_Healthy/aug_154_7414976.png\n",
      "File path_read ./train/Banana_Healthy/aug_155_474062.png\n",
      "File path_read ./train/Banana_Healthy/aug_155_5894248.png\n",
      "File path_read ./train/Banana_Healthy/aug_156_7088572.png\n",
      "File path_read ./train/Banana_Healthy/aug_156_8735884.png\n",
      "File path_read ./train/Banana_Healthy/aug_157_1868643.png\n",
      "File path_read ./train/Banana_Healthy/aug_157_3034377.png\n",
      "File path_read ./train/Banana_Healthy/aug_158_2891594.png\n",
      "File path_read ./train/Banana_Healthy/aug_159_3766077.png\n",
      "File path_read ./train/Banana_Healthy/aug_159_6929946.png\n",
      "File path_read ./train/Banana_Healthy/aug_160_3920342.png\n",
      "File path_read ./train/Banana_Healthy/aug_161_186792.png\n",
      "File path_read ./train/Banana_Healthy/aug_162_7014599.png\n",
      "File path_read ./train/Banana_Healthy/aug_162_8657154.png\n",
      "File path_read ./train/Banana_Healthy/aug_163_3354860.png\n",
      "File path_read ./train/Banana_Healthy/aug_163_5221696.png\n",
      "File path_read ./train/Banana_Healthy/aug_164_9383114.png\n",
      "File path_read ./train/Banana_Healthy/aug_165_2167370.png\n",
      "File path_read ./train/Banana_Healthy/aug_165_8682607.png\n",
      "File path_read ./train/Banana_Healthy/aug_166_4161587.png\n",
      "File path_read ./train/Banana_Healthy/aug_167_1813791.png\n",
      "File path_read ./train/Banana_Healthy/aug_167_4332029.png\n",
      "File path_read ./train/Banana_Healthy/aug_168_6695797.png\n",
      "File path_read ./train/Banana_Healthy/aug_168_7230403.png\n",
      "File path_read ./train/Banana_Healthy/aug_169_3491418.png\n",
      "File path_read ./train/Banana_Healthy/aug_170_8294910.png\n",
      "File path_read ./train/Banana_Healthy/aug_170_9850583.png\n",
      "File path_read ./train/Banana_Healthy/aug_171_1387758.png\n",
      "File path_read ./train/Banana_Healthy/aug_171_3649848.png\n",
      "File path_read ./train/Banana_Healthy/aug_172_3723303.png\n",
      "File path_read ./train/Banana_Healthy/aug_173_5023757.png\n",
      "File path_read ./train/Banana_Healthy/aug_173_9759782.png\n",
      "File path_read ./train/Banana_Healthy/aug_174_4711100.png\n",
      "File path_read ./train/Banana_Healthy/aug_174_5644819.png\n",
      "File path_read ./train/Banana_Healthy/aug_175_4673317.png\n",
      "File path_read ./train/Banana_Healthy/aug_175_6995129.png\n",
      "File path_read ./train/Banana_Healthy/aug_176_6104504.png\n",
      "File path_read ./train/Banana_Healthy/aug_177_4579788.png\n",
      "File path_read ./train/Banana_Healthy/aug_177_476411.png\n",
      "File path_read ./train/Banana_Healthy/aug_178_1322579.png\n",
      "File path_read ./train/Banana_Healthy/aug_179_8818451.png\n",
      "File path_read ./train/Banana_Healthy/aug_179_9299509.png\n",
      "File path_read ./train/Banana_Healthy/aug_180_4796550.png\n",
      "File path_read ./train/Banana_Healthy/aug_180_6522567.png\n",
      "File path_read ./train/Banana_Healthy/aug_181_8196148.png\n",
      "File path_read ./train/Banana_Healthy/aug_182_181819.png\n",
      "File path_read ./train/Banana_Healthy/aug_183_4052245.png\n",
      "File path_read ./train/Banana_Healthy/aug_184_1089509.png\n",
      "File path_read ./train/Banana_Healthy/aug_184_4115188.png\n",
      "File path_read ./train/Banana_Healthy/aug_185_2064370.png\n",
      "File path_read ./train/Banana_Healthy/aug_185_5431287.png\n",
      "File path_read ./train/Banana_Healthy/aug_186_2551802.png\n",
      "File path_read ./train/Banana_Healthy/aug_187_1390232.png\n",
      "File path_read ./train/Banana_Healthy/aug_187_8635572.png\n",
      "File path_read ./train/Banana_Healthy/aug_188_4163178.png\n",
      "File path_read ./train/Banana_Healthy/aug_189_6802910.png\n",
      "File path_read ./train/Banana_Healthy/aug_18_1728177.png\n",
      "File path_read ./train/Banana_Healthy/aug_18_6316958.png\n",
      "File path_read ./train/Banana_Healthy/aug_190_7579143.png\n",
      "File path_read ./train/Banana_Healthy/aug_190_8033724.png\n",
      "File path_read ./train/Banana_Healthy/aug_191_5552310.png\n",
      "File path_read ./train/Banana_Healthy/aug_191_6308663.png\n",
      "File path_read ./train/Banana_Healthy/aug_192_6001203.png\n",
      "File path_read ./train/Banana_Healthy/aug_192_7979448.png\n",
      "File path_read ./train/Banana_Healthy/aug_193_5009011.png\n",
      "File path_read ./train/Banana_Healthy/aug_193_6130726.png\n",
      "File path_read ./train/Banana_Healthy/aug_194_2278808.png\n",
      "File path_read ./train/Banana_Healthy/aug_194_3932971.png\n",
      "File path_read ./train/Banana_Healthy/aug_195_1368314.png\n",
      "File path_read ./train/Banana_Healthy/aug_195_8594851.png\n",
      "File path_read ./train/Banana_Healthy/aug_196_1683799.png\n",
      "File path_read ./train/Banana_Healthy/aug_197_6139838.png\n",
      "File path_read ./train/Banana_Healthy/aug_198_1541110.png\n",
      "File path_read ./train/Banana_Healthy/aug_198_1670277.png\n",
      "File path_read ./train/Banana_Healthy/aug_199_3620924.png\n",
      "File path_read ./train/Banana_Healthy/aug_19_2010935.png\n",
      "File path_read ./train/Banana_Healthy/aug_200_9798642.png\n",
      "File path_read ./train/Banana_Healthy/aug_201_4109061.png\n",
      "File path_read ./train/Banana_Healthy/aug_201_7107215.png\n",
      "File path_read ./train/Banana_Healthy/aug_202_353768.png\n",
      "File path_read ./train/Banana_Healthy/aug_203_3286779.png\n",
      "File path_read ./train/Banana_Healthy/aug_203_534952.png\n",
      "File path_read ./train/Banana_Healthy/aug_204_2882866.png\n",
      "File path_read ./train/Banana_Healthy/aug_205_195105.png\n",
      "File path_read ./train/Banana_Healthy/aug_205_6199973.png\n",
      "File path_read ./train/Banana_Healthy/aug_206_6170469.png\n",
      "File path_read ./train/Banana_Healthy/aug_207_1073854.png\n",
      "File path_read ./train/Banana_Healthy/aug_207_4902960.png\n",
      "File path_read ./train/Banana_Healthy/aug_208_1781696.png\n",
      "File path_read ./train/Banana_Healthy/aug_208_8283494.png\n",
      "File path_read ./train/Banana_Healthy/aug_209_4032262.png\n",
      "File path_read ./train/Banana_Healthy/aug_209_8446033.png\n",
      "File path_read ./train/Banana_Healthy/aug_20_2764232.png\n",
      "File path_read ./train/Banana_Healthy/aug_20_3010555.png\n",
      "File path_read ./train/Banana_Healthy/aug_210_6222320.png\n",
      "File path_read ./train/Banana_Healthy/aug_211_2013251.png\n",
      "File path_read ./train/Banana_Healthy/aug_211_4268202.png\n",
      "File path_read ./train/Banana_Healthy/aug_212_8636177.png\n",
      "File path_read ./train/Banana_Healthy/aug_213_214655.png\n",
      "File path_read ./train/Banana_Healthy/aug_213_7630989.png\n",
      "File path_read ./train/Banana_Healthy/aug_214_5603763.png\n",
      "File path_read ./train/Banana_Healthy/aug_21_9688058.png\n",
      "File path_read ./train/Banana_Healthy/aug_22_2549515.png\n",
      "File path_read ./train/Banana_Healthy/aug_22_8782846.png\n",
      "File path_read ./train/Banana_Healthy/aug_23_7722345.png\n",
      "File path_read ./train/Banana_Healthy/aug_248_6893011.png\n",
      "File path_read ./train/Banana_Healthy/aug_249_5173762.png\n",
      "File path_read ./train/Banana_Healthy/aug_249_7578461.png\n",
      "File path_read ./train/Banana_Healthy/aug_24_7524252.png\n",
      "File path_read ./train/Banana_Healthy/aug_250_1566217.png\n",
      "File path_read ./train/Banana_Healthy/aug_250_3633354.png\n",
      "File path_read ./train/Banana_Healthy/aug_251_1140116.png\n",
      "File path_read ./train/Banana_Healthy/aug_252_1050672.png\n",
      "File path_read ./train/Banana_Healthy/aug_252_9724924.png\n",
      "File path_read ./train/Banana_Healthy/aug_253_2980252.png\n",
      "File path_read ./train/Banana_Healthy/aug_253_4955722.png\n",
      "File path_read ./train/Banana_Healthy/aug_258_5629134.png\n",
      "File path_read ./train/Banana_Healthy/aug_259_3999730.png\n",
      "File path_read ./train/Banana_Healthy/aug_259_8243150.png\n",
      "File path_read ./train/Banana_Healthy/aug_25_1533770.png\n",
      "File path_read ./train/Banana_Healthy/aug_25_8127780.png\n",
      "File path_read ./train/Banana_Healthy/aug_260_2894032.png\n",
      "File path_read ./train/Banana_Healthy/aug_261_4969037.png\n",
      "File path_read ./train/Banana_Healthy/aug_262_4090827.png\n",
      "File path_read ./train/Banana_Healthy/aug_263_4822859.png\n",
      "File path_read ./train/Banana_Healthy/aug_26_6920955.png\n",
      "File path_read ./train/Banana_Healthy/aug_26_7103913.png\n",
      "File path_read ./train/Banana_Healthy/aug_27_3774576.png\n",
      "File path_read ./train/Banana_Healthy/aug_27_4731845.png\n",
      "File path_read ./train/Banana_Healthy/aug_28_2338552.png\n",
      "File path_read ./train/Banana_Healthy/aug_28_6422385.png\n",
      "File path_read ./train/Banana_Healthy/aug_29_3395612.png\n",
      "File path_read ./train/Banana_Healthy/aug_30_1499190.png\n",
      "File path_read ./train/Banana_Healthy/aug_30_8821478.png\n",
      "File path_read ./train/Banana_Healthy/aug_31_141139.png\n",
      "File path_read ./train/Banana_Healthy/aug_32_6125810.png\n",
      "File path_read ./train/Banana_Healthy/aug_33_6235269.png\n",
      "File path_read ./train/Banana_Healthy/aug_34_2322270.png\n",
      "File path_read ./train/Banana_Healthy/aug_34_4538815.png\n",
      "File path_read ./train/Banana_Healthy/aug_35_6071114.png\n",
      "File path_read ./train/Banana_Healthy/aug_36_2373155.png\n",
      "File path_read ./train/Banana_Healthy/aug_36_7779139.png\n",
      "File path_read ./train/Banana_Healthy/aug_37_2375219.png\n",
      "File path_read ./train/Banana_Healthy/aug_38_4960465.png\n",
      "File path_read ./train/Banana_Healthy/aug_38_7825474.png\n",
      "File path_read ./train/Banana_Healthy/aug_39_2915164.png\n",
      "File path_read ./train/Banana_Healthy/aug_40_3291244.png\n",
      "File path_read ./train/Banana_Healthy/aug_40_4288109.png\n",
      "File path_read ./train/Banana_Healthy/aug_41_3181462.png\n",
      "File path_read ./train/Banana_Healthy/aug_41_4146631.png\n",
      "File path_read ./train/Banana_Healthy/aug_42_2362363.png\n",
      "File path_read ./train/Banana_Healthy/aug_42_3216520.png\n",
      "File path_read ./train/Banana_Healthy/aug_43_2456626.png\n",
      "File path_read ./train/Banana_Healthy/aug_43_6181423.png\n",
      "File path_read ./train/Banana_Healthy/aug_44_7748697.png\n",
      "File path_read ./train/Banana_Healthy/aug_45_621895.png\n",
      "File path_read ./train/Banana_Healthy/aug_45_7422181.png\n",
      "File path_read ./train/Banana_Healthy/aug_46_1980804.png\n",
      "File path_read ./train/Banana_Healthy/aug_47_735940.png\n",
      "File path_read ./train/Banana_Healthy/aug_47_988546.png\n",
      "File path_read ./train/Banana_Healthy/aug_48_7113102.png\n",
      "File path_read ./train/Banana_Healthy/aug_49_2725066.png\n",
      "File path_read ./train/Banana_Healthy/aug_49_7203862.png\n",
      "File path_read ./train/Banana_Healthy/aug_50_9537324.png\n",
      "File path_read ./train/Banana_Healthy/aug_51_1107924.png\n",
      "File path_read ./train/Banana_Healthy/aug_51_6327404.png\n",
      "File path_read ./train/Banana_Healthy/aug_52_3038491.png\n",
      "File path_read ./train/Banana_Healthy/aug_52_5847652.png\n",
      "File path_read ./train/Banana_Healthy/aug_53_228994.png\n",
      "File path_read ./train/Banana_Healthy/aug_53_4089170.png\n",
      "File path_read ./train/Banana_Healthy/aug_54_4974080.png\n",
      "File path_read ./train/Banana_Healthy/aug_55_5645328.png\n",
      "File path_read ./train/Banana_Healthy/aug_55_9698303.png\n",
      "File path_read ./train/Banana_Healthy/aug_56_716898.png\n",
      "File path_read ./train/Banana_Healthy/aug_57_288580.png\n",
      "File path_read ./train/Banana_Healthy/aug_57_8715299.png\n",
      "File path_read ./train/Banana_Healthy/aug_58_8784666.png\n",
      "File path_read ./train/Banana_Healthy/aug_59_9001739.png\n",
      "File path_read ./train/Banana_Healthy/aug_60_6793267.png\n",
      "File path_read ./train/Banana_Healthy/aug_61_394842.png\n",
      "File path_read ./train/Banana_Healthy/aug_61_7906658.png\n",
      "File path_read ./train/Banana_Healthy/aug_62_669624.png\n",
      "File path_read ./train/Banana_Healthy/aug_62_9005803.png\n",
      "File path_read ./train/Banana_Healthy/aug_63_8598330.png\n",
      "File path_read ./train/Banana_Healthy/aug_64_365789.png\n",
      "File path_read ./train/Banana_Healthy/aug_64_837542.png\n",
      "File path_read ./train/Banana_Healthy/aug_65_2811520.png\n",
      "File path_read ./train/Banana_Healthy/aug_65_9946754.png\n",
      "File path_read ./train/Banana_Healthy/aug_66_7203238.png\n",
      "File path_read ./train/Banana_Healthy/aug_67_4171379.png\n",
      "File path_read ./train/Banana_Healthy/aug_67_8365828.png\n",
      "File path_read ./train/Banana_Healthy/aug_68_9948723.png\n",
      "File path_read ./train/Banana_Healthy/aug_69_6623375.png\n",
      "File path_read ./train/Banana_Healthy/aug_69_8154163.png\n",
      "File path_read ./train/Banana_Healthy/aug_70_4277191.png\n",
      "File path_read ./train/Banana_Healthy/aug_70_7994101.png\n",
      "File path_read ./train/Banana_Healthy/aug_71_1889055.png\n",
      "File path_read ./train/Banana_Healthy/aug_71_2005467.png\n",
      "File path_read ./train/Banana_Healthy/aug_72_5675338.png\n",
      "File path_read ./train/Banana_Healthy/aug_72_7429241.png\n",
      "File path_read ./train/Banana_Healthy/aug_73_5374019.png\n",
      "File path_read ./train/Banana_Healthy/aug_73_8471697.png\n",
      "File path_read ./train/Banana_Healthy/aug_74_1229451.png\n",
      "File path_read ./train/Banana_Healthy/aug_75_9491234.png\n",
      "File path_read ./train/Banana_Healthy/aug_76_4476013.png\n",
      "File path_read ./train/Banana_Healthy/aug_76_5215903.png\n",
      "File path_read ./train/Banana_Healthy/aug_77_8336257.png\n",
      "File path_read ./train/Banana_Healthy/aug_78_7882482.png\n",
      "File path_read ./train/Banana_Healthy/aug_78_8699254.png\n",
      "File path_read ./train/Banana_Healthy/aug_79_1988196.png\n",
      "File path_read ./train/Banana_Healthy/aug_79_8690908.png\n",
      "File path_read ./train/Banana_Healthy/aug_80_4317638.png\n",
      "File path_read ./train/Banana_Healthy/aug_80_8066651.png\n",
      "File path_read ./train/Banana_Healthy/aug_81_4910277.png\n",
      "File path_read ./train/Banana_Healthy/aug_81_6746272.png\n",
      "File path_read ./train/Banana_Healthy/aug_82_3647592.png\n",
      "File path_read ./train/Banana_Healthy/aug_83_1118039.png\n",
      "File path_read ./train/Banana_Healthy/aug_83_1434939.png\n",
      "File path_read ./train/Banana_Healthy/aug_84_9899072.png\n",
      "File path_read ./train/Banana_Healthy/aug_85_2009756.png\n",
      "File path_read ./train/Banana_Healthy/aug_86_6823254.png\n",
      "File path_read ./train/Banana_Healthy/aug_87_6411998.png\n",
      "File path_read ./train/Banana_Healthy/aug_88_7431740.png\n",
      "File path_read ./train/Banana_Healthy/aug_89_2285746.png\n",
      "File path_read ./train/Banana_Healthy/aug_89_4284566.png\n",
      "File path_read ./train/Banana_Healthy/aug_8_4140317.png\n",
      "File path_read ./train/Banana_Healthy/aug_8_8264700.png\n",
      "File path_read ./train/Banana_Healthy/aug_90_6384480.png\n",
      "File path_read ./train/Banana_Healthy/aug_91_4183171.png\n",
      "File path_read ./train/Banana_Healthy/aug_91_8233314.png\n",
      "File path_read ./train/Banana_Healthy/aug_92_8373415.png\n",
      "File path_read ./train/Banana_Healthy/aug_92_9811752.png\n",
      "File path_read ./train/Banana_Healthy/aug_93_2216160.png\n",
      "File path_read ./train/Banana_Healthy/aug_94_9673161.png\n",
      "File path_read ./train/Banana_Healthy/aug_95_3173566.png\n",
      "File path_read ./train/Banana_Healthy/aug_96_1483856.png\n",
      "File path_read ./train/Banana_Healthy/aug_96_7481809.png\n",
      "File path_read ./train/Banana_Healthy/aug_97_6667156.png\n",
      "File path_read ./train/Banana_Healthy/aug_98_2100865.png\n",
      "File path_read ./train/Banana_Healthy/aug_98_6046809.png\n",
      "File path_read ./train/Banana_Healthy/aug_99_8173445.png\n",
      "File path_read ./train/Banana_Healthy/aug_99_8568724.png\n",
      "File path_read ./train/Banana_Healthy/aug_9_1135126.png\n",
      "File path_read ./train/Banana_Healthy/aug_9_3187419.png\n",
      "\n",
      "./valid/Banana__Bacterial_Wilt\n"
     ]
    },
    {
     "name": "stderr",
     "output_type": "stream",
     "text": [
      "Lossy conversion from float64 to uint8. Range [0, 1]. Convert image to uint8 prior to saving to suppress this warning.\n",
      "Lossy conversion from float64 to uint8. Range [0, 1]. Convert image to uint8 prior to saving to suppress this warning.\n",
      "Lossy conversion from float64 to uint8. Range [0, 1]. Convert image to uint8 prior to saving to suppress this warning.\n"
     ]
    },
    {
     "name": "stdout",
     "output_type": "stream",
     "text": [
      "File path_read ./valid/Banana__Bacterial_Wilt/10.png\n",
      "File path_read ./valid/Banana__Bacterial_Wilt/11.png\n",
      "File path_read ./valid/Banana__Bacterial_Wilt/12.png\n",
      "File path_read ./valid/Banana__Bacterial_Wilt/13.png\n"
     ]
    },
    {
     "name": "stderr",
     "output_type": "stream",
     "text": [
      "Lossy conversion from float64 to uint8. Range [0, 1]. Convert image to uint8 prior to saving to suppress this warning.\n",
      "Lossy conversion from float64 to uint8. Range [0, 1]. Convert image to uint8 prior to saving to suppress this warning.\n",
      "Lossy conversion from float64 to uint8. Range [0, 1]. Convert image to uint8 prior to saving to suppress this warning.\n"
     ]
    },
    {
     "name": "stdout",
     "output_type": "stream",
     "text": [
      "File path_read ./valid/Banana__Bacterial_Wilt/14.png\n",
      "File path_read ./valid/Banana__Bacterial_Wilt/15.png\n",
      "File path_read ./valid/Banana__Bacterial_Wilt/16.png\n"
     ]
    },
    {
     "name": "stderr",
     "output_type": "stream",
     "text": [
      "Lossy conversion from float64 to uint8. Range [0, 1]. Convert image to uint8 prior to saving to suppress this warning.\n",
      "Lossy conversion from float64 to uint8. Range [0, 1]. Convert image to uint8 prior to saving to suppress this warning.\n",
      "Lossy conversion from float64 to uint8. Range [0, 1]. Convert image to uint8 prior to saving to suppress this warning.\n"
     ]
    },
    {
     "name": "stdout",
     "output_type": "stream",
     "text": [
      "File path_read ./valid/Banana__Bacterial_Wilt/17.png\n",
      "File path_read ./valid/Banana__Bacterial_Wilt/18.png\n",
      "File path_read ./valid/Banana__Bacterial_Wilt/19.png\n"
     ]
    },
    {
     "name": "stderr",
     "output_type": "stream",
     "text": [
      "Lossy conversion from float64 to uint8. Range [0, 1]. Convert image to uint8 prior to saving to suppress this warning.\n",
      "Lossy conversion from float64 to uint8. Range [0, 1]. Convert image to uint8 prior to saving to suppress this warning.\n",
      "Lossy conversion from float64 to uint8. Range [0, 1]. Convert image to uint8 prior to saving to suppress this warning.\n"
     ]
    },
    {
     "name": "stdout",
     "output_type": "stream",
     "text": [
      "File path_read ./valid/Banana__Bacterial_Wilt/2.png\n",
      "File path_read ./valid/Banana__Bacterial_Wilt/20.png\n",
      "File path_read ./valid/Banana__Bacterial_Wilt/21.png\n"
     ]
    },
    {
     "name": "stderr",
     "output_type": "stream",
     "text": [
      "Lossy conversion from float64 to uint8. Range [0, 1]. Convert image to uint8 prior to saving to suppress this warning.\n",
      "Lossy conversion from float64 to uint8. Range [0, 1]. Convert image to uint8 prior to saving to suppress this warning.\n",
      "Lossy conversion from float64 to uint8. Range [0, 1]. Convert image to uint8 prior to saving to suppress this warning.\n"
     ]
    },
    {
     "name": "stdout",
     "output_type": "stream",
     "text": [
      "File path_read ./valid/Banana__Bacterial_Wilt/23.png\n",
      "File path_read ./valid/Banana__Bacterial_Wilt/24.png\n",
      "File path_read ./valid/Banana__Bacterial_Wilt/25.png\n"
     ]
    },
    {
     "name": "stderr",
     "output_type": "stream",
     "text": [
      "Lossy conversion from float64 to uint8. Range [0, 1]. Convert image to uint8 prior to saving to suppress this warning.\n",
      "Lossy conversion from float64 to uint8. Range [0, 1]. Convert image to uint8 prior to saving to suppress this warning.\n",
      "Lossy conversion from float64 to uint8. Range [0, 1]. Convert image to uint8 prior to saving to suppress this warning.\n",
      "Lossy conversion from float64 to uint8. Range [0, 1]. Convert image to uint8 prior to saving to suppress this warning.\n",
      "Lossy conversion from float64 to uint8. Range [0, 1]. Convert image to uint8 prior to saving to suppress this warning.\n"
     ]
    },
    {
     "name": "stdout",
     "output_type": "stream",
     "text": [
      "File path_read ./valid/Banana__Bacterial_Wilt/26.png\n",
      "File path_read ./valid/Banana__Bacterial_Wilt/27.png\n",
      "File path_read ./valid/Banana__Bacterial_Wilt/28.png\n",
      "File path_read ./valid/Banana__Bacterial_Wilt/29.png\n"
     ]
    },
    {
     "name": "stderr",
     "output_type": "stream",
     "text": [
      "Lossy conversion from float64 to uint8. Range [0, 1]. Convert image to uint8 prior to saving to suppress this warning.\n"
     ]
    },
    {
     "name": "stdout",
     "output_type": "stream",
     "text": [
      "File path_read ./valid/Banana__Bacterial_Wilt/30.png\n",
      "File path_read ./valid/Banana__Bacterial_Wilt/31.png\n"
     ]
    },
    {
     "name": "stderr",
     "output_type": "stream",
     "text": [
      "Lossy conversion from float64 to uint8. Range [0, 1]. Convert image to uint8 prior to saving to suppress this warning.\n",
      "Lossy conversion from float64 to uint8. Range [0, 1]. Convert image to uint8 prior to saving to suppress this warning.\n"
     ]
    },
    {
     "name": "stdout",
     "output_type": "stream",
     "text": [
      "File path_read ./valid/Banana__Bacterial_Wilt/32.png\n",
      "File path_read ./valid/Banana__Bacterial_Wilt/33.png\n"
     ]
    },
    {
     "name": "stderr",
     "output_type": "stream",
     "text": [
      "Lossy conversion from float64 to uint8. Range [0, 1]. Convert image to uint8 prior to saving to suppress this warning.\n",
      "Lossy conversion from float64 to uint8. Range [0, 1]. Convert image to uint8 prior to saving to suppress this warning.\n",
      "Lossy conversion from float64 to uint8. Range [0, 1]. Convert image to uint8 prior to saving to suppress this warning.\n"
     ]
    },
    {
     "name": "stdout",
     "output_type": "stream",
     "text": [
      "File path_read ./valid/Banana__Bacterial_Wilt/34.png\n",
      "File path_read ./valid/Banana__Bacterial_Wilt/35.png\n",
      "File path_read ./valid/Banana__Bacterial_Wilt/36.png\n"
     ]
    },
    {
     "name": "stderr",
     "output_type": "stream",
     "text": [
      "Lossy conversion from float64 to uint8. Range [0, 1]. Convert image to uint8 prior to saving to suppress this warning.\n",
      "Lossy conversion from float64 to uint8. Range [0, 1]. Convert image to uint8 prior to saving to suppress this warning.\n",
      "Lossy conversion from float64 to uint8. Range [0, 1]. Convert image to uint8 prior to saving to suppress this warning.\n"
     ]
    },
    {
     "name": "stdout",
     "output_type": "stream",
     "text": [
      "File path_read ./valid/Banana__Bacterial_Wilt/37.png\n",
      "File path_read ./valid/Banana__Bacterial_Wilt/38.png\n",
      "File path_read ./valid/Banana__Bacterial_Wilt/39.png\n"
     ]
    },
    {
     "name": "stderr",
     "output_type": "stream",
     "text": [
      "Lossy conversion from float64 to uint8. Range [0, 1]. Convert image to uint8 prior to saving to suppress this warning.\n",
      "Lossy conversion from float64 to uint8. Range [0, 1]. Convert image to uint8 prior to saving to suppress this warning.\n",
      "Lossy conversion from float64 to uint8. Range [0, 1]. Convert image to uint8 prior to saving to suppress this warning.\n",
      "Lossy conversion from float64 to uint8. Range [0, 1]. Convert image to uint8 prior to saving to suppress this warning.\n",
      "Lossy conversion from float64 to uint8. Range [0, 1]. Convert image to uint8 prior to saving to suppress this warning.\n",
      "Lossy conversion from float64 to uint8. Range [0, 1]. Convert image to uint8 prior to saving to suppress this warning.\n"
     ]
    },
    {
     "name": "stdout",
     "output_type": "stream",
     "text": [
      "File path_read ./valid/Banana__Bacterial_Wilt/4.png\n",
      "File path_read ./valid/Banana__Bacterial_Wilt/40.png\n",
      "File path_read ./valid/Banana__Bacterial_Wilt/41.png\n",
      "File path_read ./valid/Banana__Bacterial_Wilt/42.png\n",
      "File path_read ./valid/Banana__Bacterial_Wilt/43.png\n"
     ]
    },
    {
     "name": "stderr",
     "output_type": "stream",
     "text": [
      "Lossy conversion from float64 to uint8. Range [0, 1]. Convert image to uint8 prior to saving to suppress this warning.\n",
      "Lossy conversion from float64 to uint8. Range [0, 1]. Convert image to uint8 prior to saving to suppress this warning.\n",
      "Lossy conversion from float64 to uint8. Range [0, 1]. Convert image to uint8 prior to saving to suppress this warning.\n",
      "Lossy conversion from float64 to uint8. Range [0, 1]. Convert image to uint8 prior to saving to suppress this warning.\n"
     ]
    },
    {
     "name": "stdout",
     "output_type": "stream",
     "text": [
      "File path_read ./valid/Banana__Bacterial_Wilt/44.png\n",
      "File path_read ./valid/Banana__Bacterial_Wilt/45.png\n",
      "File path_read ./valid/Banana__Bacterial_Wilt/46.png\n",
      "File path_read ./valid/Banana__Bacterial_Wilt/47.png\n",
      "File path_read ./valid/Banana__Bacterial_Wilt/48.png\n"
     ]
    },
    {
     "name": "stderr",
     "output_type": "stream",
     "text": [
      "Lossy conversion from float64 to uint8. Range [0, 1]. Convert image to uint8 prior to saving to suppress this warning.\n",
      "Lossy conversion from float64 to uint8. Range [0, 1]. Convert image to uint8 prior to saving to suppress this warning.\n",
      "Lossy conversion from float64 to uint8. Range [0, 1]. Convert image to uint8 prior to saving to suppress this warning.\n",
      "Lossy conversion from float64 to uint8. Range [0, 1]. Convert image to uint8 prior to saving to suppress this warning.\n"
     ]
    },
    {
     "name": "stdout",
     "output_type": "stream",
     "text": [
      "File path_read ./valid/Banana__Bacterial_Wilt/49.png\n",
      "File path_read ./valid/Banana__Bacterial_Wilt/5.png\n",
      "File path_read ./valid/Banana__Bacterial_Wilt/50.png\n",
      "File path_read ./valid/Banana__Bacterial_Wilt/51.png\n"
     ]
    },
    {
     "name": "stderr",
     "output_type": "stream",
     "text": [
      "Lossy conversion from float64 to uint8. Range [0, 1]. Convert image to uint8 prior to saving to suppress this warning.\n",
      "Lossy conversion from float64 to uint8. Range [0, 1]. Convert image to uint8 prior to saving to suppress this warning.\n",
      "Lossy conversion from float64 to uint8. Range [0, 1]. Convert image to uint8 prior to saving to suppress this warning.\n",
      "Lossy conversion from float64 to uint8. Range [0, 1]. Convert image to uint8 prior to saving to suppress this warning.\n",
      "Lossy conversion from float64 to uint8. Range [0, 1]. Convert image to uint8 prior to saving to suppress this warning.\n"
     ]
    },
    {
     "name": "stdout",
     "output_type": "stream",
     "text": [
      "File path_read ./valid/Banana__Bacterial_Wilt/6.png\n",
      "File path_read ./valid/Banana__Bacterial_Wilt/7.png\n",
      "File path_read ./valid/Banana__Bacterial_Wilt/8.png\n",
      "File path_read ./valid/Banana__Bacterial_Wilt/9.png\n",
      "File path_read ./valid/Banana__Bacterial_Wilt/aug_0_6549111.png\n",
      "File path_read ./valid/Banana__Bacterial_Wilt/aug_0_6889213.png\n",
      "File path_read ./valid/Banana__Bacterial_Wilt/aug_10_2104013.png\n",
      "File path_read ./valid/Banana__Bacterial_Wilt/aug_10_313282.png\n",
      "File path_read ./valid/Banana__Bacterial_Wilt/aug_11_5633111.png\n",
      "File path_read ./valid/Banana__Bacterial_Wilt/aug_11_8206086.png\n",
      "File path_read ./valid/Banana__Bacterial_Wilt/aug_12_2342264.png\n",
      "File path_read ./valid/Banana__Bacterial_Wilt/aug_12_2854829.png\n",
      "File path_read ./valid/Banana__Bacterial_Wilt/aug_12_4431124.png\n",
      "File path_read ./valid/Banana__Bacterial_Wilt/aug_13_6058621.png\n",
      "File path_read ./valid/Banana__Bacterial_Wilt/aug_13_633701.png\n",
      "File path_read ./valid/Banana__Bacterial_Wilt/aug_14_6444967.png\n",
      "File path_read ./valid/Banana__Bacterial_Wilt/aug_14_7666738.png\n",
      "File path_read ./valid/Banana__Bacterial_Wilt/aug_15_4599373.png\n",
      "File path_read ./valid/Banana__Bacterial_Wilt/aug_15_8046504.png\n",
      "File path_read ./valid/Banana__Bacterial_Wilt/aug_16_3505098.png\n",
      "File path_read ./valid/Banana__Bacterial_Wilt/aug_16_7680536.png\n",
      "File path_read ./valid/Banana__Bacterial_Wilt/aug_17_706602.png\n",
      "File path_read ./valid/Banana__Bacterial_Wilt/aug_17_8333259.png\n",
      "File path_read ./valid/Banana__Bacterial_Wilt/aug_18_2289784.png\n",
      "File path_read ./valid/Banana__Bacterial_Wilt/aug_18_2874975.png\n",
      "File path_read ./valid/Banana__Bacterial_Wilt/aug_19_2347707.png\n",
      "File path_read ./valid/Banana__Bacterial_Wilt/aug_19_4381165.png\n",
      "File path_read ./valid/Banana__Bacterial_Wilt/aug_19_5794324.png\n",
      "File path_read ./valid/Banana__Bacterial_Wilt/aug_1_281036.png\n",
      "File path_read ./valid/Banana__Bacterial_Wilt/aug_1_6464104.png\n",
      "File path_read ./valid/Banana__Bacterial_Wilt/aug_1_8833393.png\n",
      "File path_read ./valid/Banana__Bacterial_Wilt/aug_20_6987296.png\n",
      "File path_read ./valid/Banana__Bacterial_Wilt/aug_20_7946254.png\n",
      "File path_read ./valid/Banana__Bacterial_Wilt/aug_20_9285001.png\n",
      "File path_read ./valid/Banana__Bacterial_Wilt/aug_21_3328949.png\n",
      "File path_read ./valid/Banana__Bacterial_Wilt/aug_21_4309804.png\n",
      "File path_read ./valid/Banana__Bacterial_Wilt/aug_22_7619863.png\n",
      "File path_read ./valid/Banana__Bacterial_Wilt/aug_22_8064604.png\n",
      "File path_read ./valid/Banana__Bacterial_Wilt/aug_23_6093235.png\n",
      "File path_read ./valid/Banana__Bacterial_Wilt/aug_23_82629.png\n",
      "File path_read ./valid/Banana__Bacterial_Wilt/aug_24_1034813.png\n",
      "File path_read ./valid/Banana__Bacterial_Wilt/aug_24_1763927.png\n",
      "File path_read ./valid/Banana__Bacterial_Wilt/aug_253_5562037.png\n",
      "File path_read ./valid/Banana__Bacterial_Wilt/aug_254_1580848.png\n",
      "File path_read ./valid/Banana__Bacterial_Wilt/aug_254_1820479.png\n",
      "File path_read ./valid/Banana__Bacterial_Wilt/aug_254_9827584.png\n",
      "File path_read ./valid/Banana__Bacterial_Wilt/aug_255_3170182.png\n",
      "File path_read ./valid/Banana__Bacterial_Wilt/aug_255_4692949.png\n",
      "File path_read ./valid/Banana__Bacterial_Wilt/aug_255_942611.png\n",
      "File path_read ./valid/Banana__Bacterial_Wilt/aug_256_3921587.png\n",
      "File path_read ./valid/Banana__Bacterial_Wilt/aug_256_5401469.png\n",
      "File path_read ./valid/Banana__Bacterial_Wilt/aug_256_9294266.png\n",
      "File path_read ./valid/Banana__Bacterial_Wilt/aug_257_3502137.png\n",
      "File path_read ./valid/Banana__Bacterial_Wilt/aug_257_5153452.png\n",
      "File path_read ./valid/Banana__Bacterial_Wilt/aug_258_5777182.png\n",
      "File path_read ./valid/Banana__Bacterial_Wilt/aug_258_6324493.png\n",
      "File path_read ./valid/Banana__Bacterial_Wilt/aug_259_5391368.png\n",
      "File path_read ./valid/Banana__Bacterial_Wilt/aug_259_7834797.png\n",
      "File path_read ./valid/Banana__Bacterial_Wilt/aug_25_6279165.png\n",
      "File path_read ./valid/Banana__Bacterial_Wilt/aug_25_9355472.png\n",
      "File path_read ./valid/Banana__Bacterial_Wilt/aug_260_7381766.png\n",
      "File path_read ./valid/Banana__Bacterial_Wilt/aug_260_9217021.png\n",
      "File path_read ./valid/Banana__Bacterial_Wilt/aug_261_2817433.png\n",
      "File path_read ./valid/Banana__Bacterial_Wilt/aug_261_621386.png\n",
      "File path_read ./valid/Banana__Bacterial_Wilt/aug_261_9160108.png\n",
      "File path_read ./valid/Banana__Bacterial_Wilt/aug_262_6123021.png\n",
      "File path_read ./valid/Banana__Bacterial_Wilt/aug_262_9342105.png\n",
      "File path_read ./valid/Banana__Bacterial_Wilt/aug_263_3383333.png\n",
      "File path_read ./valid/Banana__Bacterial_Wilt/aug_263_5828155.png\n",
      "File path_read ./valid/Banana__Bacterial_Wilt/aug_264_8542891.png\n",
      "File path_read ./valid/Banana__Bacterial_Wilt/aug_264_9570401.png\n",
      "File path_read ./valid/Banana__Bacterial_Wilt/aug_265_1147974.png\n",
      "File path_read ./valid/Banana__Bacterial_Wilt/aug_265_9182777.png\n",
      "File path_read ./valid/Banana__Bacterial_Wilt/aug_266_1624171.png\n",
      "File path_read ./valid/Banana__Bacterial_Wilt/aug_266_8245900.png\n",
      "File path_read ./valid/Banana__Bacterial_Wilt/aug_266_9013044.png\n",
      "File path_read ./valid/Banana__Bacterial_Wilt/aug_267_2420674.png\n",
      "File path_read ./valid/Banana__Bacterial_Wilt/aug_267_7156783.png\n",
      "File path_read ./valid/Banana__Bacterial_Wilt/aug_268_456249.png\n",
      "File path_read ./valid/Banana__Bacterial_Wilt/aug_268_4998351.png\n",
      "File path_read ./valid/Banana__Bacterial_Wilt/aug_269_4978371.png\n",
      "File path_read ./valid/Banana__Bacterial_Wilt/aug_269_937966.png\n",
      "File path_read ./valid/Banana__Bacterial_Wilt/aug_26_4679950.png\n",
      "File path_read ./valid/Banana__Bacterial_Wilt/aug_26_9638928.png\n",
      "File path_read ./valid/Banana__Bacterial_Wilt/aug_270_1364754.png\n",
      "File path_read ./valid/Banana__Bacterial_Wilt/aug_270_7079320.png\n",
      "File path_read ./valid/Banana__Bacterial_Wilt/aug_271_2041793.png\n",
      "File path_read ./valid/Banana__Bacterial_Wilt/aug_271_3924431.png\n",
      "File path_read ./valid/Banana__Bacterial_Wilt/aug_272_2964972.png\n",
      "File path_read ./valid/Banana__Bacterial_Wilt/aug_272_3119403.png\n",
      "File path_read ./valid/Banana__Bacterial_Wilt/aug_273_302035.png\n",
      "File path_read ./valid/Banana__Bacterial_Wilt/aug_273_4546108.png\n",
      "File path_read ./valid/Banana__Bacterial_Wilt/aug_274_5687145.png\n",
      "File path_read ./valid/Banana__Bacterial_Wilt/aug_274_8552362.png\n",
      "File path_read ./valid/Banana__Bacterial_Wilt/aug_275_9568873.png\n",
      "File path_read ./valid/Banana__Bacterial_Wilt/aug_275_9961730.png\n",
      "File path_read ./valid/Banana__Bacterial_Wilt/aug_276_2767427.png\n",
      "File path_read ./valid/Banana__Bacterial_Wilt/aug_276_3437176.png\n",
      "File path_read ./valid/Banana__Bacterial_Wilt/aug_277_2139839.png\n",
      "File path_read ./valid/Banana__Bacterial_Wilt/aug_277_834190.png\n",
      "File path_read ./valid/Banana__Bacterial_Wilt/aug_27_6330051.png\n",
      "File path_read ./valid/Banana__Bacterial_Wilt/aug_27_6331541.png\n",
      "File path_read ./valid/Banana__Bacterial_Wilt/aug_28_5344683.png\n",
      "File path_read ./valid/Banana__Bacterial_Wilt/aug_28_6220082.png\n",
      "File path_read ./valid/Banana__Bacterial_Wilt/aug_29_3726538.png\n",
      "File path_read ./valid/Banana__Bacterial_Wilt/aug_2_2062502.png\n",
      "File path_read ./valid/Banana__Bacterial_Wilt/aug_2_6479100.png\n",
      "File path_read ./valid/Banana__Bacterial_Wilt/aug_2_7221584.png\n",
      "File path_read ./valid/Banana__Bacterial_Wilt/aug_3_4591124.png\n",
      "File path_read ./valid/Banana__Bacterial_Wilt/aug_3_7459759.png\n",
      "File path_read ./valid/Banana__Bacterial_Wilt/aug_4_1686153.png\n",
      "File path_read ./valid/Banana__Bacterial_Wilt/aug_4_5394056.png\n",
      "File path_read ./valid/Banana__Bacterial_Wilt/aug_4_7158038.png\n",
      "File path_read ./valid/Banana__Bacterial_Wilt/aug_5_3658595.png\n",
      "File path_read ./valid/Banana__Bacterial_Wilt/aug_5_7364655.png\n",
      "File path_read ./valid/Banana__Bacterial_Wilt/aug_6_6788873.png\n",
      "File path_read ./valid/Banana__Bacterial_Wilt/aug_6_7430709.png\n",
      "File path_read ./valid/Banana__Bacterial_Wilt/aug_7_5681760.png\n",
      "File path_read ./valid/Banana__Bacterial_Wilt/aug_7_9519661.png\n",
      "File path_read ./valid/Banana__Bacterial_Wilt/aug_7_9718328.png\n",
      "File path_read ./valid/Banana__Bacterial_Wilt/aug_8_450517.png\n"
     ]
    },
    {
     "name": "stderr",
     "output_type": "stream",
     "text": [
      "Lossy conversion from float64 to uint8. Range [0, 1]. Convert image to uint8 prior to saving to suppress this warning.\n"
     ]
    },
    {
     "name": "stdout",
     "output_type": "stream",
     "text": [
      "File path_read ./valid/Banana__Bacterial_Wilt/aug_8_8318672.png\n",
      "File path_read ./valid/Banana__Bacterial_Wilt/aug_9_5661250.png\n",
      "File path_read ./valid/Banana__Bacterial_Wilt/aug_9_6809834.png\n",
      "\n",
      "./valid/Banana__Black_sigatoka_disease\n",
      "File path_read ./valid/Banana__Black_sigatoka_disease/1.png\n"
     ]
    },
    {
     "name": "stderr",
     "output_type": "stream",
     "text": [
      "Lossy conversion from float64 to uint8. Range [0, 1]. Convert image to uint8 prior to saving to suppress this warning.\n",
      "Lossy conversion from float64 to uint8. Range [0, 1]. Convert image to uint8 prior to saving to suppress this warning.\n",
      "Lossy conversion from float64 to uint8. Range [0, 1]. Convert image to uint8 prior to saving to suppress this warning.\n",
      "Lossy conversion from float64 to uint8. Range [0, 1]. Convert image to uint8 prior to saving to suppress this warning.\n",
      "Lossy conversion from float64 to uint8. Range [0, 1]. Convert image to uint8 prior to saving to suppress this warning.\n"
     ]
    },
    {
     "name": "stdout",
     "output_type": "stream",
     "text": [
      "File path_read ./valid/Banana__Black_sigatoka_disease/10.png\n",
      "File path_read ./valid/Banana__Black_sigatoka_disease/11.png\n",
      "File path_read ./valid/Banana__Black_sigatoka_disease/12.png\n",
      "File path_read ./valid/Banana__Black_sigatoka_disease/13.png\n",
      "File path_read ./valid/Banana__Black_sigatoka_disease/14.png\n"
     ]
    },
    {
     "name": "stderr",
     "output_type": "stream",
     "text": [
      "Lossy conversion from float64 to uint8. Range [0, 1]. Convert image to uint8 prior to saving to suppress this warning.\n",
      "Lossy conversion from float64 to uint8. Range [0, 1]. Convert image to uint8 prior to saving to suppress this warning.\n",
      "Lossy conversion from float64 to uint8. Range [0, 1]. Convert image to uint8 prior to saving to suppress this warning.\n",
      "Lossy conversion from float64 to uint8. Range [0, 1]. Convert image to uint8 prior to saving to suppress this warning.\n",
      "Lossy conversion from float64 to uint8. Range [0, 1]. Convert image to uint8 prior to saving to suppress this warning.\n",
      "Lossy conversion from float64 to uint8. Range [0, 1]. Convert image to uint8 prior to saving to suppress this warning.\n"
     ]
    },
    {
     "name": "stdout",
     "output_type": "stream",
     "text": [
      "File path_read ./valid/Banana__Black_sigatoka_disease/15.png\n",
      "File path_read ./valid/Banana__Black_sigatoka_disease/16.png\n",
      "File path_read ./valid/Banana__Black_sigatoka_disease/17.png\n",
      "File path_read ./valid/Banana__Black_sigatoka_disease/18.png\n",
      "File path_read ./valid/Banana__Black_sigatoka_disease/19.png\n",
      "File path_read ./valid/Banana__Black_sigatoka_disease/2.png\n",
      "File path_read ./valid/Banana__Black_sigatoka_disease/20.png\n"
     ]
    },
    {
     "name": "stderr",
     "output_type": "stream",
     "text": [
      "Lossy conversion from float64 to uint8. Range [0, 1]. Convert image to uint8 prior to saving to suppress this warning.\n",
      "Lossy conversion from float64 to uint8. Range [0, 1]. Convert image to uint8 prior to saving to suppress this warning.\n",
      "Lossy conversion from float64 to uint8. Range [0, 1]. Convert image to uint8 prior to saving to suppress this warning.\n",
      "Lossy conversion from float64 to uint8. Range [0, 1]. Convert image to uint8 prior to saving to suppress this warning.\n",
      "Lossy conversion from float64 to uint8. Range [0, 1]. Convert image to uint8 prior to saving to suppress this warning.\n"
     ]
    },
    {
     "name": "stdout",
     "output_type": "stream",
     "text": [
      "File path_read ./valid/Banana__Black_sigatoka_disease/21.png\n",
      "File path_read ./valid/Banana__Black_sigatoka_disease/22.png\n",
      "File path_read ./valid/Banana__Black_sigatoka_disease/23.png\n",
      "File path_read ./valid/Banana__Black_sigatoka_disease/24.png\n",
      "File path_read ./valid/Banana__Black_sigatoka_disease/25.png\n"
     ]
    },
    {
     "name": "stderr",
     "output_type": "stream",
     "text": [
      "Lossy conversion from float64 to uint8. Range [0, 1]. Convert image to uint8 prior to saving to suppress this warning.\n",
      "Lossy conversion from float64 to uint8. Range [0, 1]. Convert image to uint8 prior to saving to suppress this warning.\n",
      "Lossy conversion from float64 to uint8. Range [0, 1]. Convert image to uint8 prior to saving to suppress this warning.\n",
      "Lossy conversion from float64 to uint8. Range [0, 1]. Convert image to uint8 prior to saving to suppress this warning.\n",
      "Lossy conversion from float64 to uint8. Range [0, 1]. Convert image to uint8 prior to saving to suppress this warning.\n",
      "Lossy conversion from float64 to uint8. Range [0, 1]. Convert image to uint8 prior to saving to suppress this warning.\n"
     ]
    },
    {
     "name": "stdout",
     "output_type": "stream",
     "text": [
      "File path_read ./valid/Banana__Black_sigatoka_disease/26.png\n",
      "File path_read ./valid/Banana__Black_sigatoka_disease/27.png\n",
      "File path_read ./valid/Banana__Black_sigatoka_disease/28.png\n",
      "File path_read ./valid/Banana__Black_sigatoka_disease/29.png\n",
      "File path_read ./valid/Banana__Black_sigatoka_disease/3.png\n",
      "File path_read ./valid/Banana__Black_sigatoka_disease/30.png\n"
     ]
    },
    {
     "name": "stderr",
     "output_type": "stream",
     "text": [
      "Lossy conversion from float64 to uint8. Range [0, 1]. Convert image to uint8 prior to saving to suppress this warning.\n",
      "Lossy conversion from float64 to uint8. Range [0, 1]. Convert image to uint8 prior to saving to suppress this warning.\n",
      "Lossy conversion from float64 to uint8. Range [0, 1]. Convert image to uint8 prior to saving to suppress this warning.\n",
      "Lossy conversion from float64 to uint8. Range [0, 1]. Convert image to uint8 prior to saving to suppress this warning.\n",
      "Lossy conversion from float64 to uint8. Range [0, 1]. Convert image to uint8 prior to saving to suppress this warning.\n",
      "Lossy conversion from float64 to uint8. Range [0, 1]. Convert image to uint8 prior to saving to suppress this warning.\n"
     ]
    },
    {
     "name": "stdout",
     "output_type": "stream",
     "text": [
      "File path_read ./valid/Banana__Black_sigatoka_disease/31.png\n",
      "File path_read ./valid/Banana__Black_sigatoka_disease/4.png\n",
      "File path_read ./valid/Banana__Black_sigatoka_disease/5.png\n",
      "File path_read ./valid/Banana__Black_sigatoka_disease/6.png\n",
      "File path_read ./valid/Banana__Black_sigatoka_disease/7.png\n"
     ]
    },
    {
     "name": "stderr",
     "output_type": "stream",
     "text": [
      "Lossy conversion from float64 to uint8. Range [0, 1]. Convert image to uint8 prior to saving to suppress this warning.\n",
      "Lossy conversion from float64 to uint8. Range [0, 1]. Convert image to uint8 prior to saving to suppress this warning.\n"
     ]
    },
    {
     "name": "stdout",
     "output_type": "stream",
     "text": [
      "File path_read ./valid/Banana__Black_sigatoka_disease/8.png\n",
      "File path_read ./valid/Banana__Black_sigatoka_disease/9.png\n",
      "File path_read ./valid/Banana__Black_sigatoka_disease/aug_0_2611934.png\n",
      "File path_read ./valid/Banana__Black_sigatoka_disease/aug_0_4285439.png\n",
      "File path_read ./valid/Banana__Black_sigatoka_disease/aug_0_4639334.png\n",
      "File path_read ./valid/Banana__Black_sigatoka_disease/aug_0_6117924.png\n",
      "File path_read ./valid/Banana__Black_sigatoka_disease/aug_0_9396894.png\n",
      "File path_read ./valid/Banana__Black_sigatoka_disease/aug_101_861907.png\n",
      "File path_read ./valid/Banana__Black_sigatoka_disease/aug_101_9491741.png\n",
      "File path_read ./valid/Banana__Black_sigatoka_disease/aug_102_3169655.png\n",
      "File path_read ./valid/Banana__Black_sigatoka_disease/aug_102_4189184.png\n",
      "File path_read ./valid/Banana__Black_sigatoka_disease/aug_102_588674.png\n",
      "File path_read ./valid/Banana__Black_sigatoka_disease/aug_102_6584085.png\n",
      "File path_read ./valid/Banana__Black_sigatoka_disease/aug_102_6658874.png\n",
      "File path_read ./valid/Banana__Black_sigatoka_disease/aug_103_3111655.png\n",
      "File path_read ./valid/Banana__Black_sigatoka_disease/aug_103_4383176.png\n",
      "File path_read ./valid/Banana__Black_sigatoka_disease/aug_103_4691069.png\n",
      "File path_read ./valid/Banana__Black_sigatoka_disease/aug_103_8640148.png\n",
      "File path_read ./valid/Banana__Black_sigatoka_disease/aug_103_8775582.png\n",
      "File path_read ./valid/Banana__Black_sigatoka_disease/aug_104_170551.png\n",
      "File path_read ./valid/Banana__Black_sigatoka_disease/aug_104_1919675.png\n",
      "File path_read ./valid/Banana__Black_sigatoka_disease/aug_104_5312404.png\n",
      "File path_read ./valid/Banana__Black_sigatoka_disease/aug_104_7581077.png\n",
      "File path_read ./valid/Banana__Black_sigatoka_disease/aug_104_9151487.png\n",
      "File path_read ./valid/Banana__Black_sigatoka_disease/aug_105_2955032.png\n",
      "File path_read ./valid/Banana__Black_sigatoka_disease/aug_105_3803617.png\n",
      "File path_read ./valid/Banana__Black_sigatoka_disease/aug_105_4710007.png\n",
      "File path_read ./valid/Banana__Black_sigatoka_disease/aug_105_5449691.png\n",
      "File path_read ./valid/Banana__Black_sigatoka_disease/aug_105_5819394.png\n",
      "File path_read ./valid/Banana__Black_sigatoka_disease/aug_107_3706831.png\n",
      "File path_read ./valid/Banana__Black_sigatoka_disease/aug_107_6788032.png\n",
      "File path_read ./valid/Banana__Black_sigatoka_disease/aug_107_6998798.png\n",
      "File path_read ./valid/Banana__Black_sigatoka_disease/aug_107_773569.png\n",
      "File path_read ./valid/Banana__Black_sigatoka_disease/aug_107_9194100.png\n",
      "File path_read ./valid/Banana__Black_sigatoka_disease/aug_10_8864187.png\n",
      "File path_read ./valid/Banana__Black_sigatoka_disease/aug_11_2654414.png\n",
      "File path_read ./valid/Banana__Black_sigatoka_disease/aug_11_275023.png\n",
      "File path_read ./valid/Banana__Black_sigatoka_disease/aug_11_6829337.png\n",
      "File path_read ./valid/Banana__Black_sigatoka_disease/aug_11_8334619.png\n",
      "File path_read ./valid/Banana__Black_sigatoka_disease/aug_11_9306293.png\n",
      "File path_read ./valid/Banana__Black_sigatoka_disease/aug_12_4181742.png\n",
      "File path_read ./valid/Banana__Black_sigatoka_disease/aug_12_5508952.png\n",
      "File path_read ./valid/Banana__Black_sigatoka_disease/aug_12_6102466.png\n",
      "File path_read ./valid/Banana__Black_sigatoka_disease/aug_1_4006700.png\n",
      "File path_read ./valid/Banana__Black_sigatoka_disease/aug_1_6891712.png\n",
      "File path_read ./valid/Banana__Black_sigatoka_disease/aug_1_7237951.png\n",
      "File path_read ./valid/Banana__Black_sigatoka_disease/aug_1_7719418.png\n",
      "File path_read ./valid/Banana__Black_sigatoka_disease/aug_1_9597881.png\n",
      "File path_read ./valid/Banana__Black_sigatoka_disease/aug_2_5253228.png\n",
      "File path_read ./valid/Banana__Black_sigatoka_disease/aug_2_7954733.png\n",
      "File path_read ./valid/Banana__Black_sigatoka_disease/aug_2_8132659.png\n",
      "File path_read ./valid/Banana__Black_sigatoka_disease/aug_2_8288568.png\n",
      "File path_read ./valid/Banana__Black_sigatoka_disease/aug_2_9743621.png\n",
      "File path_read ./valid/Banana__Black_sigatoka_disease/aug_3_131673.png\n",
      "File path_read ./valid/Banana__Black_sigatoka_disease/aug_3_2093332.png\n",
      "File path_read ./valid/Banana__Black_sigatoka_disease/aug_3_5381897.png\n",
      "File path_read ./valid/Banana__Black_sigatoka_disease/aug_3_6951708.png\n",
      "File path_read ./valid/Banana__Black_sigatoka_disease/aug_3_699261.png\n",
      "File path_read ./valid/Banana__Black_sigatoka_disease/aug_4_1738916.png\n",
      "File path_read ./valid/Banana__Black_sigatoka_disease/aug_4_1843421.png\n",
      "File path_read ./valid/Banana__Black_sigatoka_disease/aug_4_5943586.png\n",
      "File path_read ./valid/Banana__Black_sigatoka_disease/aug_4_7558153.png\n",
      "File path_read ./valid/Banana__Black_sigatoka_disease/aug_4_9920651.png\n",
      "File path_read ./valid/Banana__Black_sigatoka_disease/aug_5_2253927.png\n",
      "File path_read ./valid/Banana__Black_sigatoka_disease/aug_5_4358327.png\n",
      "File path_read ./valid/Banana__Black_sigatoka_disease/aug_5_4460234.png\n",
      "File path_read ./valid/Banana__Black_sigatoka_disease/aug_5_4837368.png\n",
      "File path_read ./valid/Banana__Black_sigatoka_disease/aug_7_2768596.png\n",
      "File path_read ./valid/Banana__Black_sigatoka_disease/aug_7_6980485.png\n",
      "File path_read ./valid/Banana__Black_sigatoka_disease/aug_7_7320866.png\n",
      "File path_read ./valid/Banana__Black_sigatoka_disease/aug_7_9358945.png\n",
      "File path_read ./valid/Banana__Black_sigatoka_disease/aug_8_2462175.png\n",
      "File path_read ./valid/Banana__Black_sigatoka_disease/aug_8_2989966.png\n",
      "File path_read ./valid/Banana__Black_sigatoka_disease/aug_8_3739686.png\n",
      "File path_read ./valid/Banana__Black_sigatoka_disease/aug_8_8609153.png\n",
      "File path_read ./valid/Banana__Black_sigatoka_disease/aug_8_9507675.png\n",
      "File path_read ./valid/Banana__Black_sigatoka_disease/aug_97_5342667.png\n",
      "File path_read ./valid/Banana__Black_sigatoka_disease/aug_97_8684549.png\n",
      "File path_read ./valid/Banana__Black_sigatoka_disease/aug_98_238091.png\n",
      "File path_read ./valid/Banana__Black_sigatoka_disease/aug_98_76631.png\n",
      "File path_read ./valid/Banana__Black_sigatoka_disease/aug_99_1892398.png\n"
     ]
    },
    {
     "name": "stderr",
     "output_type": "stream",
     "text": [
      "Lossy conversion from float64 to uint8. Range [0, 1]. Convert image to uint8 prior to saving to suppress this warning.\n"
     ]
    },
    {
     "name": "stdout",
     "output_type": "stream",
     "text": [
      "File path_read ./valid/Banana__Black_sigatoka_disease/aug_99_5537438.png\n",
      "File path_read ./valid/Banana__Black_sigatoka_disease/aug_99_5744907.png\n",
      "File path_read ./valid/Banana__Black_sigatoka_disease/aug_99_9923893.png\n",
      "File path_read ./valid/Banana__Black_sigatoka_disease/aug_9_2838649.png\n",
      "\n",
      "./valid/Banana_Healthy\n",
      "File path_read ./valid/Banana_Healthy/1.png\n"
     ]
    },
    {
     "name": "stderr",
     "output_type": "stream",
     "text": [
      "Lossy conversion from float64 to uint8. Range [0, 1]. Convert image to uint8 prior to saving to suppress this warning.\n",
      "Lossy conversion from float64 to uint8. Range [0, 1]. Convert image to uint8 prior to saving to suppress this warning.\n",
      "Lossy conversion from float64 to uint8. Range [0, 1]. Convert image to uint8 prior to saving to suppress this warning.\n"
     ]
    },
    {
     "name": "stdout",
     "output_type": "stream",
     "text": [
      "File path_read ./valid/Banana_Healthy/10.png\n",
      "File path_read ./valid/Banana_Healthy/11.png\n",
      "File path_read ./valid/Banana_Healthy/12.png\n",
      "File path_read ./valid/Banana_Healthy/13.png\n"
     ]
    },
    {
     "name": "stderr",
     "output_type": "stream",
     "text": [
      "Lossy conversion from float64 to uint8. Range [0, 1]. Convert image to uint8 prior to saving to suppress this warning.\n",
      "Lossy conversion from float64 to uint8. Range [0, 1]. Convert image to uint8 prior to saving to suppress this warning.\n",
      "Lossy conversion from float64 to uint8. Range [0, 1]. Convert image to uint8 prior to saving to suppress this warning.\n",
      "Lossy conversion from float64 to uint8. Range [0, 1]. Convert image to uint8 prior to saving to suppress this warning.\n",
      "Lossy conversion from float64 to uint8. Range [0, 1]. Convert image to uint8 prior to saving to suppress this warning.\n",
      "Lossy conversion from float64 to uint8. Range [0, 1]. Convert image to uint8 prior to saving to suppress this warning.\n"
     ]
    },
    {
     "name": "stdout",
     "output_type": "stream",
     "text": [
      "File path_read ./valid/Banana_Healthy/14.png\n",
      "File path_read ./valid/Banana_Healthy/15.png\n",
      "File path_read ./valid/Banana_Healthy/16.png\n",
      "File path_read ./valid/Banana_Healthy/17.png\n",
      "File path_read ./valid/Banana_Healthy/18.png\n"
     ]
    },
    {
     "name": "stderr",
     "output_type": "stream",
     "text": [
      "Lossy conversion from float64 to uint8. Range [0, 1]. Convert image to uint8 prior to saving to suppress this warning.\n",
      "Lossy conversion from float64 to uint8. Range [0, 1]. Convert image to uint8 prior to saving to suppress this warning.\n",
      "Lossy conversion from float64 to uint8. Range [0, 1]. Convert image to uint8 prior to saving to suppress this warning.\n"
     ]
    },
    {
     "name": "stdout",
     "output_type": "stream",
     "text": [
      "File path_read ./valid/Banana_Healthy/19.png\n",
      "File path_read ./valid/Banana_Healthy/2.png\n",
      "File path_read ./valid/Banana_Healthy/20.png\n",
      "File path_read ./valid/Banana_Healthy/21.png\n"
     ]
    },
    {
     "name": "stderr",
     "output_type": "stream",
     "text": [
      "Lossy conversion from float64 to uint8. Range [0, 1]. Convert image to uint8 prior to saving to suppress this warning.\n",
      "Lossy conversion from float64 to uint8. Range [0, 1]. Convert image to uint8 prior to saving to suppress this warning.\n",
      "Lossy conversion from float64 to uint8. Range [0, 1]. Convert image to uint8 prior to saving to suppress this warning.\n",
      "Lossy conversion from float64 to uint8. Range [0, 1]. Convert image to uint8 prior to saving to suppress this warning.\n",
      "Lossy conversion from float64 to uint8. Range [0, 1]. Convert image to uint8 prior to saving to suppress this warning.\n"
     ]
    },
    {
     "name": "stdout",
     "output_type": "stream",
     "text": [
      "File path_read ./valid/Banana_Healthy/22.png\n",
      "File path_read ./valid/Banana_Healthy/23.png\n",
      "File path_read ./valid/Banana_Healthy/24.png\n",
      "File path_read ./valid/Banana_Healthy/25.png\n",
      "File path_read ./valid/Banana_Healthy/27.png\n"
     ]
    },
    {
     "name": "stderr",
     "output_type": "stream",
     "text": [
      "Lossy conversion from float64 to uint8. Range [0, 1]. Convert image to uint8 prior to saving to suppress this warning.\n",
      "Lossy conversion from float64 to uint8. Range [0, 1]. Convert image to uint8 prior to saving to suppress this warning.\n",
      "Lossy conversion from float64 to uint8. Range [0, 1]. Convert image to uint8 prior to saving to suppress this warning.\n",
      "Lossy conversion from float64 to uint8. Range [0, 1]. Convert image to uint8 prior to saving to suppress this warning.\n",
      "Lossy conversion from float64 to uint8. Range [0, 1]. Convert image to uint8 prior to saving to suppress this warning.\n",
      "Lossy conversion from float64 to uint8. Range [0, 1]. Convert image to uint8 prior to saving to suppress this warning.\n"
     ]
    },
    {
     "name": "stdout",
     "output_type": "stream",
     "text": [
      "File path_read ./valid/Banana_Healthy/29.png\n",
      "File path_read ./valid/Banana_Healthy/3.png\n",
      "File path_read ./valid/Banana_Healthy/30.png\n",
      "File path_read ./valid/Banana_Healthy/31.png\n",
      "File path_read ./valid/Banana_Healthy/32.png\n",
      "File path_read ./valid/Banana_Healthy/33.png\n"
     ]
    },
    {
     "name": "stderr",
     "output_type": "stream",
     "text": [
      "Lossy conversion from float64 to uint8. Range [0, 1]. Convert image to uint8 prior to saving to suppress this warning.\n",
      "Lossy conversion from float64 to uint8. Range [0, 1]. Convert image to uint8 prior to saving to suppress this warning.\n",
      "Lossy conversion from float64 to uint8. Range [0, 1]. Convert image to uint8 prior to saving to suppress this warning.\n",
      "Lossy conversion from float64 to uint8. Range [0, 1]. Convert image to uint8 prior to saving to suppress this warning.\n",
      "Lossy conversion from float64 to uint8. Range [0, 1]. Convert image to uint8 prior to saving to suppress this warning.\n",
      "Lossy conversion from float64 to uint8. Range [0, 1]. Convert image to uint8 prior to saving to suppress this warning.\n",
      "Lossy conversion from float64 to uint8. Range [0, 1]. Convert image to uint8 prior to saving to suppress this warning.\n"
     ]
    },
    {
     "name": "stdout",
     "output_type": "stream",
     "text": [
      "File path_read ./valid/Banana_Healthy/34.png\n",
      "File path_read ./valid/Banana_Healthy/35.png\n",
      "File path_read ./valid/Banana_Healthy/36.png\n",
      "File path_read ./valid/Banana_Healthy/37.png\n",
      "File path_read ./valid/Banana_Healthy/38.png\n",
      "File path_read ./valid/Banana_Healthy/39.png\n"
     ]
    },
    {
     "name": "stderr",
     "output_type": "stream",
     "text": [
      "Lossy conversion from float64 to uint8. Range [0, 1]. Convert image to uint8 prior to saving to suppress this warning.\n",
      "Lossy conversion from float64 to uint8. Range [0, 1]. Convert image to uint8 prior to saving to suppress this warning.\n",
      "Lossy conversion from float64 to uint8. Range [0, 1]. Convert image to uint8 prior to saving to suppress this warning.\n",
      "Lossy conversion from float64 to uint8. Range [0, 1]. Convert image to uint8 prior to saving to suppress this warning.\n",
      "Lossy conversion from float64 to uint8. Range [0, 1]. Convert image to uint8 prior to saving to suppress this warning.\n"
     ]
    },
    {
     "name": "stdout",
     "output_type": "stream",
     "text": [
      "File path_read ./valid/Banana_Healthy/4.png\n",
      "File path_read ./valid/Banana_Healthy/41.png\n",
      "File path_read ./valid/Banana_Healthy/42.png\n",
      "File path_read ./valid/Banana_Healthy/43.png\n",
      "File path_read ./valid/Banana_Healthy/44.png\n",
      "File path_read ./valid/Banana_Healthy/45.png\n"
     ]
    },
    {
     "name": "stderr",
     "output_type": "stream",
     "text": [
      "Lossy conversion from float64 to uint8. Range [0, 1]. Convert image to uint8 prior to saving to suppress this warning.\n",
      "Lossy conversion from float64 to uint8. Range [0, 1]. Convert image to uint8 prior to saving to suppress this warning.\n",
      "Lossy conversion from float64 to uint8. Range [0, 1]. Convert image to uint8 prior to saving to suppress this warning.\n",
      "Lossy conversion from float64 to uint8. Range [0, 1]. Convert image to uint8 prior to saving to suppress this warning.\n",
      "Lossy conversion from float64 to uint8. Range [0, 1]. Convert image to uint8 prior to saving to suppress this warning.\n",
      "Lossy conversion from float64 to uint8. Range [0, 1]. Convert image to uint8 prior to saving to suppress this warning.\n"
     ]
    },
    {
     "name": "stdout",
     "output_type": "stream",
     "text": [
      "File path_read ./valid/Banana_Healthy/46.png\n",
      "File path_read ./valid/Banana_Healthy/47.png\n",
      "File path_read ./valid/Banana_Healthy/48.png\n",
      "File path_read ./valid/Banana_Healthy/49.png\n",
      "File path_read ./valid/Banana_Healthy/5.png\n"
     ]
    },
    {
     "name": "stderr",
     "output_type": "stream",
     "text": [
      "Lossy conversion from float64 to uint8. Range [0, 1]. Convert image to uint8 prior to saving to suppress this warning.\n",
      "Lossy conversion from float64 to uint8. Range [0, 1]. Convert image to uint8 prior to saving to suppress this warning.\n",
      "Lossy conversion from float64 to uint8. Range [0, 1]. Convert image to uint8 prior to saving to suppress this warning.\n",
      "Lossy conversion from float64 to uint8. Range [0, 1]. Convert image to uint8 prior to saving to suppress this warning.\n",
      "Lossy conversion from float64 to uint8. Range [0, 1]. Convert image to uint8 prior to saving to suppress this warning.\n",
      "Lossy conversion from float64 to uint8. Range [0, 1]. Convert image to uint8 prior to saving to suppress this warning.\n",
      "Lossy conversion from float64 to uint8. Range [0, 1]. Convert image to uint8 prior to saving to suppress this warning.\n",
      "Lossy conversion from float64 to uint8. Range [0, 1]. Convert image to uint8 prior to saving to suppress this warning.\n"
     ]
    },
    {
     "name": "stdout",
     "output_type": "stream",
     "text": [
      "File path_read ./valid/Banana_Healthy/50.png\n",
      "File path_read ./valid/Banana_Healthy/51.png\n",
      "File path_read ./valid/Banana_Healthy/52.png\n",
      "File path_read ./valid/Banana_Healthy/53.png\n",
      "File path_read ./valid/Banana_Healthy/54.png\n",
      "File path_read ./valid/Banana_Healthy/55.png\n",
      "File path_read ./valid/Banana_Healthy/56.png\n",
      "File path_read ./valid/Banana_Healthy/57.png\n"
     ]
    },
    {
     "name": "stderr",
     "output_type": "stream",
     "text": [
      "Lossy conversion from float64 to uint8. Range [0, 1]. Convert image to uint8 prior to saving to suppress this warning.\n",
      "Lossy conversion from float64 to uint8. Range [0, 1]. Convert image to uint8 prior to saving to suppress this warning.\n",
      "Lossy conversion from float64 to uint8. Range [0, 1]. Convert image to uint8 prior to saving to suppress this warning.\n",
      "Lossy conversion from float64 to uint8. Range [0, 1]. Convert image to uint8 prior to saving to suppress this warning.\n",
      "Lossy conversion from float64 to uint8. Range [0, 1]. Convert image to uint8 prior to saving to suppress this warning.\n"
     ]
    },
    {
     "name": "stdout",
     "output_type": "stream",
     "text": [
      "File path_read ./valid/Banana_Healthy/58.png\n",
      "File path_read ./valid/Banana_Healthy/59.png\n",
      "File path_read ./valid/Banana_Healthy/60.png\n",
      "File path_read ./valid/Banana_Healthy/61.png\n",
      "File path_read ./valid/Banana_Healthy/62.png\n",
      "File path_read ./valid/Banana_Healthy/63.png\n"
     ]
    },
    {
     "name": "stderr",
     "output_type": "stream",
     "text": [
      "Lossy conversion from float64 to uint8. Range [0, 1]. Convert image to uint8 prior to saving to suppress this warning.\n",
      "Lossy conversion from float64 to uint8. Range [0, 1]. Convert image to uint8 prior to saving to suppress this warning.\n",
      "Lossy conversion from float64 to uint8. Range [0, 1]. Convert image to uint8 prior to saving to suppress this warning.\n",
      "Lossy conversion from float64 to uint8. Range [0, 1]. Convert image to uint8 prior to saving to suppress this warning.\n",
      "Lossy conversion from float64 to uint8. Range [0, 1]. Convert image to uint8 prior to saving to suppress this warning.\n",
      "Lossy conversion from float64 to uint8. Range [0, 1]. Convert image to uint8 prior to saving to suppress this warning.\n"
     ]
    },
    {
     "name": "stdout",
     "output_type": "stream",
     "text": [
      "File path_read ./valid/Banana_Healthy/64.png\n",
      "File path_read ./valid/Banana_Healthy/65.png\n",
      "File path_read ./valid/Banana_Healthy/66.png\n",
      "File path_read ./valid/Banana_Healthy/67.png\n",
      "File path_read ./valid/Banana_Healthy/68.png\n",
      "File path_read ./valid/Banana_Healthy/69.png\n"
     ]
    },
    {
     "name": "stderr",
     "output_type": "stream",
     "text": [
      "Lossy conversion from float64 to uint8. Range [0, 1]. Convert image to uint8 prior to saving to suppress this warning.\n",
      "Lossy conversion from float64 to uint8. Range [0, 1]. Convert image to uint8 prior to saving to suppress this warning.\n",
      "Lossy conversion from float64 to uint8. Range [0, 1]. Convert image to uint8 prior to saving to suppress this warning.\n",
      "Lossy conversion from float64 to uint8. Range [0, 1]. Convert image to uint8 prior to saving to suppress this warning.\n"
     ]
    },
    {
     "name": "stdout",
     "output_type": "stream",
     "text": [
      "File path_read ./valid/Banana_Healthy/7.png\n",
      "File path_read ./valid/Banana_Healthy/8.png\n",
      "File path_read ./valid/Banana_Healthy/9.png\n",
      "File path_read ./valid/Banana_Healthy/aug_0_6752255.png\n",
      "File path_read ./valid/Banana_Healthy/aug_10_2706387.png\n",
      "File path_read ./valid/Banana_Healthy/aug_10_412099.png\n",
      "File path_read ./valid/Banana_Healthy/aug_11_6086617.png\n",
      "File path_read ./valid/Banana_Healthy/aug_11_6952469.png\n",
      "File path_read ./valid/Banana_Healthy/aug_12_1112150.png\n",
      "File path_read ./valid/Banana_Healthy/aug_12_6998195.png\n",
      "File path_read ./valid/Banana_Healthy/aug_13_9640626.png\n",
      "File path_read ./valid/Banana_Healthy/aug_14_1996641.png\n",
      "File path_read ./valid/Banana_Healthy/aug_14_8571454.png\n",
      "File path_read ./valid/Banana_Healthy/aug_15_1394911.png\n",
      "File path_read ./valid/Banana_Healthy/aug_16_1405362.png\n",
      "File path_read ./valid/Banana_Healthy/aug_16_730884.png\n",
      "File path_read ./valid/Banana_Healthy/aug_17_6328690.png\n",
      "File path_read ./valid/Banana_Healthy/aug_1_5405571.png\n",
      "File path_read ./valid/Banana_Healthy/aug_214_9909287.png\n",
      "File path_read ./valid/Banana_Healthy/aug_215_3546082.png\n",
      "File path_read ./valid/Banana_Healthy/aug_216_8737505.png\n",
      "File path_read ./valid/Banana_Healthy/aug_217_2440131.png\n",
      "File path_read ./valid/Banana_Healthy/aug_217_7178149.png\n",
      "File path_read ./valid/Banana_Healthy/aug_218_3963523.png\n",
      "File path_read ./valid/Banana_Healthy/aug_218_6729063.png\n",
      "File path_read ./valid/Banana_Healthy/aug_219_5498691.png\n",
      "File path_read ./valid/Banana_Healthy/aug_220_2788335.png\n",
      "File path_read ./valid/Banana_Healthy/aug_220_4172153.png\n",
      "File path_read ./valid/Banana_Healthy/aug_221_19739.png\n",
      "File path_read ./valid/Banana_Healthy/aug_222_6320913.png\n",
      "File path_read ./valid/Banana_Healthy/aug_223_5576202.png\n",
      "File path_read ./valid/Banana_Healthy/aug_223_7015180.png\n",
      "File path_read ./valid/Banana_Healthy/aug_224_15956.png\n",
      "File path_read ./valid/Banana_Healthy/aug_224_7074308.png\n",
      "File path_read ./valid/Banana_Healthy/aug_225_8548420.png\n",
      "File path_read ./valid/Banana_Healthy/aug_225_8973391.png\n",
      "File path_read ./valid/Banana_Healthy/aug_226_6225359.png\n",
      "File path_read ./valid/Banana_Healthy/aug_227_7417965.png\n",
      "File path_read ./valid/Banana_Healthy/aug_228_823641.png\n",
      "File path_read ./valid/Banana_Healthy/aug_228_9576775.png\n",
      "File path_read ./valid/Banana_Healthy/aug_229_2355917.png\n",
      "File path_read ./valid/Banana_Healthy/aug_230_7221570.png\n",
      "File path_read ./valid/Banana_Healthy/aug_230_800863.png\n",
      "File path_read ./valid/Banana_Healthy/aug_231_4074997.png\n",
      "File path_read ./valid/Banana_Healthy/aug_231_4218558.png\n",
      "File path_read ./valid/Banana_Healthy/aug_232_475240.png\n",
      "File path_read ./valid/Banana_Healthy/aug_232_8452683.png\n",
      "File path_read ./valid/Banana_Healthy/aug_233_5599066.png\n",
      "File path_read ./valid/Banana_Healthy/aug_233_6256769.png\n",
      "File path_read ./valid/Banana_Healthy/aug_234_1077657.png\n",
      "File path_read ./valid/Banana_Healthy/aug_234_7246319.png\n",
      "File path_read ./valid/Banana_Healthy/aug_235_6736901.png\n",
      "File path_read ./valid/Banana_Healthy/aug_236_2597795.png\n",
      "File path_read ./valid/Banana_Healthy/aug_236_8674448.png\n",
      "File path_read ./valid/Banana_Healthy/aug_237_6137904.png\n",
      "File path_read ./valid/Banana_Healthy/aug_237_7033171.png\n",
      "File path_read ./valid/Banana_Healthy/aug_238_3198178.png\n",
      "File path_read ./valid/Banana_Healthy/aug_239_3664249.png\n",
      "File path_read ./valid/Banana_Healthy/aug_240_6542754.png\n",
      "File path_read ./valid/Banana_Healthy/aug_240_718346.png\n",
      "File path_read ./valid/Banana_Healthy/aug_241_2189688.png\n",
      "File path_read ./valid/Banana_Healthy/aug_241_4015513.png\n",
      "File path_read ./valid/Banana_Healthy/aug_242_1999703.png\n",
      "File path_read ./valid/Banana_Healthy/aug_242_4014019.png\n",
      "File path_read ./valid/Banana_Healthy/aug_243_2583387.png\n",
      "File path_read ./valid/Banana_Healthy/aug_243_2886758.png\n",
      "File path_read ./valid/Banana_Healthy/aug_244_2281620.png\n",
      "File path_read ./valid/Banana_Healthy/aug_244_530309.png\n",
      "File path_read ./valid/Banana_Healthy/aug_245_6831933.png\n",
      "File path_read ./valid/Banana_Healthy/aug_245_9625387.png\n",
      "File path_read ./valid/Banana_Healthy/aug_246_226218.png\n",
      "File path_read ./valid/Banana_Healthy/aug_246_5728656.png\n",
      "File path_read ./valid/Banana_Healthy/aug_247_3791317.png\n",
      "File path_read ./valid/Banana_Healthy/aug_248_569835.png\n",
      "File path_read ./valid/Banana_Healthy/aug_254_4869768.png\n",
      "File path_read ./valid/Banana_Healthy/aug_255_2612887.png\n",
      "File path_read ./valid/Banana_Healthy/aug_256_3377880.png\n",
      "File path_read ./valid/Banana_Healthy/aug_256_5721646.png\n",
      "File path_read ./valid/Banana_Healthy/aug_257_3108357.png\n",
      "File path_read ./valid/Banana_Healthy/aug_257_6300671.png\n",
      "File path_read ./valid/Banana_Healthy/aug_258_5394171.png\n",
      "File path_read ./valid/Banana_Healthy/aug_2_2146266.png\n",
      "File path_read ./valid/Banana_Healthy/aug_2_7424065.png\n",
      "File path_read ./valid/Banana_Healthy/aug_3_1094744.png\n",
      "File path_read ./valid/Banana_Healthy/aug_3_5298675.png\n",
      "File path_read ./valid/Banana_Healthy/aug_4_1286752.png\n",
      "File path_read ./valid/Banana_Healthy/aug_4_5693089.png\n"
     ]
    },
    {
     "name": "stderr",
     "output_type": "stream",
     "text": [
      "Lossy conversion from float64 to uint8. Range [0, 1]. Convert image to uint8 prior to saving to suppress this warning.\n"
     ]
    },
    {
     "name": "stdout",
     "output_type": "stream",
     "text": [
      "File path_read ./valid/Banana_Healthy/aug_5_5312387.png\n",
      "File path_read ./valid/Banana_Healthy/aug_6_1743001.png\n",
      "File path_read ./valid/Banana_Healthy/aug_6_4303811.png\n",
      "File path_read ./valid/Banana_Healthy/aug_7_1062156.png\n",
      "File path_read ./valid/Banana_Healthy/aug_7_3696243.png\n",
      "\n",
      "./test_act/Banana__Bacterial_Wilt\n",
      "File path_read ./test_act/Banana__Bacterial_Wilt/Banana__Bacterial_Wilt1.png\n"
     ]
    },
    {
     "name": "stderr",
     "output_type": "stream",
     "text": [
      "Lossy conversion from float64 to uint8. Range [0, 1]. Convert image to uint8 prior to saving to suppress this warning.\n",
      "Lossy conversion from float64 to uint8. Range [0, 1]. Convert image to uint8 prior to saving to suppress this warning.\n",
      "Lossy conversion from float64 to uint8. Range [0, 1]. Convert image to uint8 prior to saving to suppress this warning.\n",
      "Lossy conversion from float64 to uint8. Range [0, 1]. Convert image to uint8 prior to saving to suppress this warning.\n",
      "Lossy conversion from float64 to uint8. Range [0, 1]. Convert image to uint8 prior to saving to suppress this warning.\n",
      "Lossy conversion from float64 to uint8. Range [0, 1]. Convert image to uint8 prior to saving to suppress this warning.\n"
     ]
    },
    {
     "name": "stdout",
     "output_type": "stream",
     "text": [
      "File path_read ./test_act/Banana__Bacterial_Wilt/Banana__Bacterial_Wilt3.png\n",
      "\n",
      "./test_act/Banana__Black_sigatoka_disease\n",
      "\n",
      "./test_act/Banana_Healthy\n",
      "File path_read ./test_act/Banana_Healthy/Banana_Healthy26.png\n",
      "File path_read ./test_act/Banana_Healthy/Banana_Healthy40.png\n",
      "File path_read ./test_act/Banana_Healthy/Banana_Healthy6.png\n",
      "\n",
      "./test\n",
      "File path_read ./test/Banana_Healthy26.png\n",
      "File path_read ./test/Banana_Healthy40.png\n"
     ]
    },
    {
     "name": "stderr",
     "output_type": "stream",
     "text": [
      "Lossy conversion from float64 to uint8. Range [0, 1]. Convert image to uint8 prior to saving to suppress this warning.\n",
      "Lossy conversion from float64 to uint8. Range [0, 1]. Convert image to uint8 prior to saving to suppress this warning.\n",
      "Lossy conversion from float64 to uint8. Range [0, 1]. Convert image to uint8 prior to saving to suppress this warning.\n"
     ]
    },
    {
     "name": "stdout",
     "output_type": "stream",
     "text": [
      "File path_read ./test/Banana_Healthy6.png\n",
      "File path_read ./test/Banana__Bacterial_Wilt1.png\n",
      "File path_read ./test/Banana__Bacterial_Wilt3.png\n",
      "\n",
      "./self_tests\n",
      "\n"
     ]
    }
   ],
   "source": [
    "import cv2\n",
    "import os\n",
    "from skimage.color import rgba2rgb\n",
    "from skimage import io\n",
    "import numpy as np\n",
    "\n",
    "directory = ['./train/Banana__Bacterial_Wilt','./train/Banana__Black_sigatoka_disease','./train/Banana_Healthy',\n",
    "'./valid/Banana__Bacterial_Wilt','./valid/Banana__Black_sigatoka_disease','./valid/Banana_Healthy',\n",
    "'./test_act/Banana__Bacterial_Wilt','./test_act/Banana__Black_sigatoka_disease','./test_act/Banana_Healthy','./test','./self_tests']\n",
    "\n",
    "for dir_ in directory:\n",
    "    print(dir_)\n",
    "    for filename in os.listdir(dir_):\n",
    "        if filename.endswith(\".png\"):\n",
    "            # Load .png image\n",
    "            png_file_path = dir_+'/'+filename\n",
    "            print(\"File path_read \"+png_file_path)\n",
    "            img = io.imread(png_file_path)\n",
    "            \n",
    "            # Save as.jpg image\n",
    "            if(img.shape[2]==4):\n",
    "                img = rgba2rgb(img)\n",
    "            io.imsave(png_file_path[:-3] + 'JPG', img)\n",
    "            \n",
    "            \n",
    "            # remove the png file\n",
    "            os.remove(png_file_path)\n",
    "            \n",
    "            continue\n",
    "        else:\n",
    "            continue\n",
    "    print('')"
   ]
  },
  {
   "cell_type": "markdown",
   "id": "32f2d1d4-897e-45fe-9354-f90fb9be48cf",
   "metadata": {},
   "source": [
    "# References\n",
    "1)https://github.com/godliver/source-code-BBW-BBS/<br>\n",
    "2)https://github.com/SibaPrasad2221/Detection-and-Prevention-of-Banana-Leaf-Disease"
   ]
  }
 ],
 "metadata": {
  "kernelspec": {
   "display_name": "Python 3",
   "language": "python",
   "name": "python3"
  },
  "language_info": {
   "codemirror_mode": {
    "name": "ipython",
    "version": 3
   },
   "file_extension": ".py",
   "mimetype": "text/x-python",
   "name": "python",
   "nbconvert_exporter": "python",
   "pygments_lexer": "ipython3",
   "version": "3.8.5"
  }
 },
 "nbformat": 4,
 "nbformat_minor": 5
}
