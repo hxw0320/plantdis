{
 "cells": [
  {
   "cell_type": "markdown",
   "metadata": {},
   "source": [
    "# DenseNet201 Transfer Learning"
   ]
  },
  {
   "cell_type": "code",
   "execution_count": null,
   "metadata": {
    "id": "jqjRYCNnZh1D"
   },
   "outputs": [],
   "source": [
    "import warnings\n",
    "warnings.filterwarnings(\"ignore\")\n",
    "import tensorflow as tf\n",
    "import matplotlib.pyplot as plt\n",
    "tf.compat.v1.set_random_seed(0)\n",
    "from tensorflow import keras\n",
    "import numpy as np\n",
    "np.random.seed(0)\n",
    "import itertools\n",
    "from keras.preprocessing.image import image_dataset_from_directory\n",
    "from tensorflow.keras.layers.experimental.preprocessing import Rescaling\n",
    "from sklearn.metrics import precision_score, accuracy_score, recall_score, confusion_matrix, ConfusionMatrixDisplay"
   ]
  },
  {
   "cell_type": "code",
   "execution_count": null,
   "metadata": {
    "colab": {
     "base_uri": "https://localhost:8080/"
    },
    "id": "AVN__hXR7lpO",
    "outputId": "96538791-946d-402d-9ab2-7fd0c71a6e08"
   },
   "outputs": [
    {
     "name": "stdout",
     "output_type": "stream",
     "text": [
      "2.8.0\n"
     ]
    }
   ],
   "source": [
    "print(tf. __version__)"
   ]
  },
  {
   "cell_type": "code",
   "execution_count": null,
   "metadata": {
    "colab": {
     "base_uri": "https://localhost:8080/"
    },
    "id": "liF4RqBhJjxn",
    "outputId": "638a8d46-3c8d-40b7-8f85-fbde410e49c4"
   },
   "outputs": [
    {
     "name": "stdout",
     "output_type": "stream",
     "text": [
      "Mounted at /content/drive\n"
     ]
    }
   ],
   "source": [
    "from google.colab import drive\n",
    "drive.mount('/content/drive')"
   ]
  },
  {
   "cell_type": "code",
   "execution_count": null,
   "metadata": {
    "colab": {
     "base_uri": "https://localhost:8080/"
    },
    "id": "soEBJ_VmZmmV",
    "outputId": "514642f0-841c-49e7-bb9f-a784995d498d"
   },
   "outputs": [
    {
     "name": "stdout",
     "output_type": "stream",
     "text": [
      "Found 39134 files belonging to 21 classes.\n",
      "Found 9783 files belonging to 21 classes.\n"
     ]
    }
   ],
   "source": [
    "train_gen = image_dataset_from_directory(directory=\"/content/drive/MyDrive/PlantDiseaseDataset/train\",\n",
    "                                         image_size=(256, 256))\n",
    "test_gen = image_dataset_from_directory(directory=\"/content/drive/MyDrive/PlantDiseaseDataset/valid\",\n",
    "                                        image_size=(256, 256))\n",
    "\n",
    "rescale = Rescaling(scale=1.0/255)\n",
    "train_gen = train_gen.map(lambda image,label:(rescale(image),label))\n",
    "test_gen  = test_gen.map(lambda image,label:(rescale(image),label))"
   ]
  },
  {
   "cell_type": "code",
   "execution_count": null,
   "metadata": {
    "colab": {
     "base_uri": "https://localhost:8080/"
    },
    "id": "XS0mrY5v59nF",
    "outputId": "d176fd8c-7d4e-43f1-dbb4-5c576f86714f"
   },
   "outputs": [
    {
     "name": "stdout",
     "output_type": "stream",
     "text": [
      "Downloading data from https://storage.googleapis.com/tensorflow/keras-applications/densenet/densenet201_weights_tf_dim_ordering_tf_kernels_notop.h5\n",
      "74842112/74836368 [==============================] - 1s 0us/step\n",
      "74850304/74836368 [==============================] - 1s 0us/step\n"
     ]
    }
   ],
   "source": [
    "from tensorflow.keras.applications.densenet import DenseNet201\n",
    "densenet = DenseNet201(weights='imagenet', include_top=False, input_shape=(256, 256, 3)) "
   ]
  },
  {
   "cell_type": "code",
   "execution_count": null,
   "metadata": {
    "colab": {
     "base_uri": "https://localhost:8080/"
    },
    "id": "siDUDY5TaQNZ",
    "outputId": "06c5bad0-63d9-4270-c83e-bd7fc7d0b90d"
   },
   "outputs": [
    {
     "name": "stdout",
     "output_type": "stream",
     "text": [
      "Model: \"sequential\"\n",
      "_________________________________________________________________\n",
      " Layer (type)                Output Shape              Param #   \n",
      "=================================================================\n",
      " densenet201 (Functional)    (None, 8, 8, 1920)        18321984  \n",
      "                                                                 \n",
      " flatten (Flatten)           (None, 122880)            0         \n",
      "                                                                 \n",
      " batch_normalization (BatchN  (None, 122880)           491520    \n",
      " ormalization)                                                   \n",
      "                                                                 \n",
      " dropout (Dropout)           (None, 122880)            0         \n",
      "                                                                 \n",
      " batch_normalization_1 (Batc  (None, 122880)           491520    \n",
      " hNormalization)                                                 \n",
      "                                                                 \n",
      " dropout_1 (Dropout)         (None, 122880)            0         \n",
      "                                                                 \n",
      " dense (Dense)               (None, 21)                2580501   \n",
      "                                                                 \n",
      "=================================================================\n",
      "Total params: 21,885,525\n",
      "Trainable params: 21,164,949\n",
      "Non-trainable params: 720,576\n",
      "_________________________________________________________________\n",
      "Model: \"sequential\"\n",
      "_________________________________________________________________\n",
      " Layer (type)                Output Shape              Param #   \n",
      "=================================================================\n",
      " densenet201 (Functional)    (None, 8, 8, 1920)        18321984  \n",
      "                                                                 \n",
      " flatten (Flatten)           (None, 122880)            0         \n",
      "                                                                 \n",
      " batch_normalization (BatchN  (None, 122880)           491520    \n",
      " ormalization)                                                   \n",
      "                                                                 \n",
      " dropout (Dropout)           (None, 122880)            0         \n",
      "                                                                 \n",
      " batch_normalization_1 (Batc  (None, 122880)           491520    \n",
      " hNormalization)                                                 \n",
      "                                                                 \n",
      " dropout_1 (Dropout)         (None, 122880)            0         \n",
      "                                                                 \n",
      " dense (Dense)               (None, 21)                2580501   \n",
      "                                                                 \n",
      "=================================================================\n",
      "Total params: 21,885,525\n",
      "Trainable params: 21,164,949\n",
      "Non-trainable params: 720,576\n",
      "_________________________________________________________________\n"
     ]
    }
   ],
   "source": [
    "model = keras.Sequential()\n",
    "\n",
    "model.add(densenet)\n",
    "\n",
    "\n",
    "# Add new layers\n",
    "model.add(keras.layers.Flatten())\n",
    "model.add(keras.layers.BatchNormalization())\n",
    "model.add(keras.layers.Dropout(0.5))\n",
    "\n",
    "model.add(keras.layers.BatchNormalization())\n",
    "model.add(keras.layers.Dropout(0.5))\n",
    "\n",
    "model.add(keras.layers.Dense(21, activation='softmax'))\n",
    "model.summary()\n",
    "\n",
    "opt = keras.optimizers.Adam(learning_rate=0.0001)\n",
    "model.compile(optimizer=opt,loss=\"sparse_categorical_crossentropy\",metrics=['accuracy'])\n",
    "model.summary()"
   ]
  },
  {
   "cell_type": "markdown",
   "metadata": {
    "id": "OhP5lJ9o75Es"
   },
   "source": [
    "# **Training the model**"
   ]
  },
  {
   "cell_type": "markdown",
   "metadata": {
    "id": "t6MYvr8D_ugJ"
   },
   "source": [
    "The model has been trained by splitting the epochs into three different sets."
   ]
  },
  {
   "cell_type": "code",
   "execution_count": null,
   "metadata": {
    "colab": {
     "base_uri": "https://localhost:8080/"
    },
    "id": "DlaRKxpwac_t",
    "outputId": "99fd0a17-ddfa-4c27-af51-dbf48d065494"
   },
   "outputs": [
    {
     "name": "stdout",
     "output_type": "stream",
     "text": [
      "1223/1223 [==============================] - 4196s 3s/step - loss: 0.2369 - accuracy: 0.9295 - val_loss: 0.0992 - val_accuracy: 0.9734\n"
     ]
    }
   ],
   "source": [
    "ep = 1\n",
    "history = model.fit_generator(train_gen,\n",
    "          validation_data=test_gen,\n",
    "          epochs = ep)"
   ]
  },
  {
   "cell_type": "code",
   "execution_count": null,
   "metadata": {
    "id": "aXzgCDTBI5qt"
   },
   "outputs": [],
   "source": [
    "model.save('/content/drive/MyDrive/pd_h5/pd_densenet201_1.h5')"
   ]
  },
  {
   "cell_type": "code",
   "execution_count": null,
   "metadata": {
    "id": "9htfQuqI55w9"
   },
   "outputs": [],
   "source": [
    "# If want to train more\n",
    "model = keras.models.load_model('/content/drive/MyDrive/pd_h5/pd_densenet201_1.h5')"
   ]
  },
  {
   "cell_type": "markdown",
   "metadata": {
    "id": "ja2R9P447xbW"
   },
   "source": [
    "# **2e - 3e**"
   ]
  },
  {
   "cell_type": "code",
   "execution_count": null,
   "metadata": {
    "colab": {
     "base_uri": "https://localhost:8080/"
    },
    "id": "oM7LvyJKJfhF",
    "outputId": "24b25fc0-68cb-4ed7-844d-15efe3392471"
   },
   "outputs": [
    {
     "name": "stdout",
     "output_type": "stream",
     "text": [
      "Epoch 1/2\n",
      "1223/1223 [==============================] - 1978s 2s/step - loss: 0.0870 - accuracy: 0.9767 - val_loss: 0.1604 - val_accuracy: 0.9656\n",
      "Epoch 2/2\n",
      "1223/1223 [==============================] - 1945s 2s/step - loss: 0.0923 - accuracy: 0.9783 - val_loss: 0.0914 - val_accuracy: 0.9780\n"
     ]
    }
   ],
   "source": [
    "ep = 2\n",
    "history = model.fit_generator(train_gen,\n",
    "          validation_data=test_gen,\n",
    "          epochs = ep)"
   ]
  },
  {
   "cell_type": "code",
   "execution_count": null,
   "metadata": {
    "id": "0YbvW21iJtng"
   },
   "outputs": [],
   "source": [
    "model.save('/content/drive/My Drive/pd_h5/pd_densenet201_3.h5')"
   ]
  },
  {
   "cell_type": "code",
   "execution_count": null,
   "metadata": {
    "colab": {
     "base_uri": "https://localhost:8080/",
     "height": 295
    },
    "id": "1cal2eaAaovE",
    "outputId": "45b330ca-c77c-484d-995b-87e666ac35e8"
   },
   "outputs": [
    {
     "data": {
      "image/png": "[encoded data removed]",
      "text/plain": [
       "<Figure size 432x288 with 1 Axes>"
      ]
     },
     "metadata": {
      "needs_background": "light"
     },
     "output_type": "display_data"
    }
   ],
   "source": [
    "# training and loss value\n",
    "plt.plot(history.history['loss'])\n",
    "plt.plot(history.history['val_loss'])\n",
    "plt.title('Loss Comparision')\n",
    "plt.legend(['train','val'],loc='upper left')\n",
    "plt.xlabel('No. of Epoch')\n",
    "plt.ylabel('loss')\n",
    "plt.show()"
   ]
  },
  {
   "cell_type": "code",
   "execution_count": null,
   "metadata": {
    "colab": {
     "base_uri": "https://localhost:8080/",
     "height": 295
    },
    "id": "CbPxWwXTLfm0",
    "outputId": "b122c007-718c-44eb-d572-67732a6c69a0"
   },
   "outputs": [
    {
     "data": {
      "image/png": "[encoded data removed]",
      "text/plain": [
       "<Figure size 432x288 with 1 Axes>"
      ]
     },
     "metadata": {
      "needs_background": "light"
     },
     "output_type": "display_data"
    }
   ],
   "source": [
    "# training and accuracy value\n",
    "plt.plot(history.history['accuracy'])\n",
    "plt.plot(history.history['val_accuracy'])\n",
    "plt.title('Accuracy Comparision')\n",
    "plt.legend(['train','val'],loc='upper left')\n",
    "plt.xlabel('No. of Epoch')\n",
    "plt.ylabel('Accuracy')\n",
    "plt.show()\n",
    "\n"
   ]
  },
  {
   "cell_type": "markdown",
   "metadata": {
    "id": "oStwcJWvbOnO"
   },
   "source": [
    "# **4e - 6e**"
   ]
  },
  {
   "cell_type": "code",
   "execution_count": null,
   "metadata": {
    "id": "iUitdzxtda9s"
   },
   "outputs": [],
   "source": [
    "model = keras.models.load_model('/content/drive/MyDrive/pd_h5/pd_densenet201_3.h5')"
   ]
  },
  {
   "cell_type": "code",
   "execution_count": null,
   "metadata": {
    "colab": {
     "base_uri": "https://localhost:8080/"
    },
    "id": "jeJCXVpAnC-g",
    "outputId": "ffe6eb7c-fb96-4828-df66-b634e834da3b"
   },
   "outputs": [
    {
     "name": "stdout",
     "output_type": "stream",
     "text": [
      "Epoch 1/3\n",
      "1223/1223 [==============================] - 5111s 4s/step - loss: 0.0363 - accuracy: 0.9905 - val_loss: 0.0927 - val_accuracy: 0.9832\n",
      "Epoch 2/3\n",
      "1223/1223 [==============================] - 1901s 2s/step - loss: 0.0949 - accuracy: 0.9814 - val_loss: 0.1730 - val_accuracy: 0.9727\n",
      "Epoch 3/3\n",
      "1223/1223 [==============================] - 1898s 2s/step - loss: 0.0653 - accuracy: 0.9869 - val_loss: 0.1336 - val_accuracy: 0.9797\n"
     ]
    }
   ],
   "source": [
    "ep = 3\n",
    "history = model.fit_generator(train_gen,\n",
    "          validation_data=test_gen,\n",
    "          epochs = ep)"
   ]
  },
  {
   "cell_type": "code",
   "execution_count": null,
   "metadata": {
    "id": "XpfAD_KknRlC"
   },
   "outputs": [],
   "source": [
    "model.save('/content/drive/My Drive/pd_h5/pd_densenet201_6.h5')"
   ]
  },
  {
   "cell_type": "code",
   "execution_count": null,
   "metadata": {
    "colab": {
     "base_uri": "https://localhost:8080/",
     "height": 295
    },
    "id": "PySel84nnvgI",
    "outputId": "cf29a7af-26ef-400b-ec8e-8992848d5cd1"
   },
   "outputs": [
    {
     "data": {
      "image/png": "[encoded data removed]",
      "text/plain": [
       "<Figure size 432x288 with 1 Axes>"
      ]
     },
     "metadata": {
      "needs_background": "light"
     },
     "output_type": "display_data"
    }
   ],
   "source": [
    "# training and loss value\n",
    "plt.plot(history.history['loss'])\n",
    "plt.plot(history.history['val_loss'])\n",
    "plt.title('Loss Comparision')\n",
    "plt.legend(['train','val'],loc='upper left')\n",
    "plt.xlabel('No. of Epoch')\n",
    "plt.ylabel('loss')\n",
    "plt.show()"
   ]
  },
  {
   "cell_type": "code",
   "execution_count": null,
   "metadata": {
    "colab": {
     "base_uri": "https://localhost:8080/",
     "height": 295
    },
    "id": "rbbDal47n0jp",
    "outputId": "eea54720-5201-4f37-dfc9-9c9013211fda"
   },
   "outputs": [
    {
     "data": {
      "image/png": "[encoded data removed]",
      "text/plain": [
       "<Figure size 432x288 with 1 Axes>"
      ]
     },
     "metadata": {
      "needs_background": "light"
     },
     "output_type": "display_data"
    }
   ],
   "source": [
    "# training and accuracy value\n",
    "plt.plot(history.history['accuracy'])\n",
    "plt.plot(history.history['val_accuracy'])\n",
    "plt.title('Accuracy Comparision')\n",
    "plt.legend(['train','val'],loc='upper left')\n",
    "plt.xlabel('No. of Epoch')\n",
    "plt.ylabel('Accuracy')\n",
    "plt.show()\n",
    "\n"
   ]
  },
  {
   "cell_type": "markdown",
   "metadata": {
    "id": "ez30cTjbbnAQ"
   },
   "source": [
    "# **Model Testing**"
   ]
  },
  {
   "cell_type": "code",
   "execution_count": null,
   "metadata": {
    "id": "YosFV_8MASJN"
   },
   "outputs": [],
   "source": [
    "model = keras.models.load_model('/content/drive/MyDrive/pd_h5/pd_densenet201_6.h5')"
   ]
  },
  {
   "cell_type": "code",
   "execution_count": null,
   "metadata": {
    "id": "Bt7mBqKOcczc"
   },
   "outputs": [],
   "source": [
    "labels = []\n",
    "predictions = []\n",
    "for x,y in test_gen:\n",
    "    labels.append(list(y.numpy()))\n",
    "    predictions.append(tf.argmax(model.predict(x),1).numpy())"
   ]
  },
  {
   "cell_type": "code",
   "execution_count": null,
   "metadata": {
    "id": "nNF681mhcgef"
   },
   "outputs": [],
   "source": [
    "predictions = list(itertools.chain.from_iterable(predictions))\n",
    "labels = list(itertools.chain.from_iterable(labels))"
   ]
  },
  {
   "cell_type": "code",
   "execution_count": null,
   "metadata": {
    "colab": {
     "base_uri": "https://localhost:8080/"
    },
    "id": "ujCPHFLocjGM",
    "outputId": "dcfb328c-8fa1-455d-c5b8-a969555c958a"
   },
   "outputs": [
    {
     "name": "stdout",
     "output_type": "stream",
     "text": [
      "Train Accuracy  : 98.69 %\n",
      "Test Accuracy   : 97.97 %\n",
      "Precision Score : 97.97 %\n",
      "Recall Score    : 97.97 %\n"
     ]
    }
   ],
   "source": [
    "print(\"Train Accuracy  : {:.2f} %\".format(history.history['accuracy'][-1]*100))\n",
    "print(\"Test Accuracy   : {:.2f} %\".format(accuracy_score(labels, predictions) * 100))\n",
    "print(\"Precision Score : {:.2f} %\".format(precision_score(labels, predictions, average='micro') * 100))\n",
    "print(\"Recall Score    : {:.2f} %\".format(recall_score(labels, predictions, average='micro') * 100))"
   ]
  },
  {
   "cell_type": "code",
   "execution_count": null,
   "metadata": {
    "colab": {
     "base_uri": "https://localhost:8080/",
     "height": 852
    },
    "id": "pAQDVIz-TBi8",
    "outputId": "da307ec3-f874-4786-9a2d-b3a0f7b52841"
   },
   "outputs": [
    {
     "data": {
      "image/png": "[encoded data removed]",
      "text/plain": [
       "<Figure size 1080x1080 with 2 Axes>"
      ]
     },
     "metadata": {
      "needs_background": "light"
     },
     "output_type": "display_data"
    }
   ],
   "source": [
    "cm = confusion_matrix(labels, predictions)\n",
    "disp = ConfusionMatrixDisplay(confusion_matrix=cm,\n",
    "                              display_labels=list(range(1,39)))\n",
    "fig, ax = plt.subplots(figsize=(15,15))\n",
    "disp.plot(ax=ax)\n",
    "plt.title(\"Confusion Matrix\")\n",
    "plt.show()"
   ]
  },
  {
   "cell_type": "markdown",
   "metadata": {
    "id": "v9soidzu8oOa"
   },
   "source": [
    "# **Model Testing with images unkown to the model**"
   ]
  },
  {
   "cell_type": "code",
   "execution_count": null,
   "metadata": {
    "colab": {
     "base_uri": "https://localhost:8080/"
    },
    "id": "VzGurpA3I43U",
    "outputId": "d0c2cda8-3631-4580-a0bd-86fbba843789"
   },
   "outputs": [
    {
     "name": "stdout",
     "output_type": "stream",
     "text": [
      "Found 33 files belonging to 21 classes.\n"
     ]
    }
   ],
   "source": [
    "\n",
    "test_gen_act = image_dataset_from_directory(directory=\"/content/drive/MyDrive/PlantDiseaseDataset/test_act\",\n",
    "                                        image_size=(256, 256))\n",
    "\n",
    "rescale = Rescaling(scale=1.0/255)\n",
    "\n",
    "test_gen_act  = test_gen_act.map(lambda image,label:(rescale(image),label))"
   ]
  },
  {
   "cell_type": "code",
   "execution_count": null,
   "metadata": {
    "id": "9AYC_VOVNHSQ"
   },
   "outputs": [],
   "source": [
    "labels = []\n",
    "predictions = []\n",
    "for x,y in test_gen_act:\n",
    "    labels.append(list(y.numpy()))\n",
    "    predictions.append(tf.argmax(model.predict(x),1).numpy())"
   ]
  },
  {
   "cell_type": "code",
   "execution_count": null,
   "metadata": {
    "id": "-eNyY0R2NPBd"
   },
   "outputs": [],
   "source": [
    "predictions = list(itertools.chain.from_iterable(predictions))\n",
    "labels = list(itertools.chain.from_iterable(labels))"
   ]
  },
  {
   "cell_type": "code",
   "execution_count": null,
   "metadata": {
    "colab": {
     "base_uri": "https://localhost:8080/"
    },
    "id": "9vzDzetsKZnd",
    "outputId": "9a361c79-199f-4fdf-db85-66b0e8238d12"
   },
   "outputs": [
    {
     "name": "stdout",
     "output_type": "stream",
     "text": [
      "Test Accuracy   : 100.00 %\n",
      "Precision Score : 100.00 %\n",
      "Recall Score    : 100.00 %\n"
     ]
    }
   ],
   "source": [
    "print(\"Test Accuracy   : {:.2f} %\".format(accuracy_score(labels, predictions) * 100))\n",
    "print(\"Precision Score : {:.2f} %\".format(precision_score(labels, predictions, average='micro') * 100))\n",
    "print(\"Recall Score    : {:.2f} %\".format(recall_score(labels, predictions, average='micro') * 100))"
   ]
  },
  {
   "cell_type": "markdown",
   "metadata": {
    "id": "X9kdAdbbcKfr"
   },
   "source": [
    "***References***\n",
    "<br>\n",
    "1 https://github.com/spMohanty/PlantVillage-Dataset\n",
    "<br>\n",
    "2 https://keras.io/api/applications/densenet/#densenet201-function\n",
    "<br>\n",
    "3 https://github.com/Abhishek-st/Skin-Lesion-Analysis/tree/master/ipynb_architecture_training\n",
    "<br>\n",
    "4 https://www.tensorflow.org/tutorials/images/transfer_learning\n"
   ]
  }
 ],
 "metadata": {
  "colab": {
   "collapsed_sections": [],
   "name": "DenseNet201_PD_Detector.ipynb",
   "provenance": []
  },
  "kernelspec": {
   "display_name": "Python 3",
   "language": "python",
   "name": "python3"
  },
  "language_info": {
   "codemirror_mode": {
    "name": "ipython",
    "version": 3
   },
   "file_extension": ".py",
   "mimetype": "text/x-python",
   "name": "python",
   "nbconvert_exporter": "python",
   "pygments_lexer": "ipython3",
   "version": "3.8.5"
  }
 },
 "nbformat": 4,
 "nbformat_minor": 4
}
