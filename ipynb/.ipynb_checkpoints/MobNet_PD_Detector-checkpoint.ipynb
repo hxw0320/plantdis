{
 "cells": [
  {
   "cell_type": "markdown",
   "metadata": {},
   "source": [
    "# MobileNet Transfer Learning"
   ]
  },
  {
   "cell_type": "code",
   "execution_count": null,
   "metadata": {
    "id": "jqjRYCNnZh1D"
   },
   "outputs": [],
   "source": [
    "import warnings\n",
    "warnings.filterwarnings(\"ignore\")\n",
    "import tensorflow as tf\n",
    "import matplotlib.pyplot as plt\n",
    "tf.compat.v1.set_random_seed(0)\n",
    "from tensorflow import keras\n",
    "import numpy as np\n",
    "np.random.seed(0)\n",
    "import itertools\n",
    "from keras.preprocessing.image import image_dataset_from_directory\n",
    "from tensorflow.keras.layers.experimental.preprocessing import Rescaling\n",
    "from sklearn.metrics import precision_score, accuracy_score, recall_score, confusion_matrix, ConfusionMatrixDisplay"
   ]
  },
  {
   "cell_type": "code",
   "execution_count": null,
   "metadata": {
    "colab": {
     "base_uri": "https://localhost:8080/"
    },
    "id": "soEBJ_VmZmmV",
    "outputId": "05b6689a-21ef-4b67-e53c-7dcdf4ace315"
   },
   "outputs": [
    {
     "name": "stdout",
     "output_type": "stream",
     "text": [
      "Found 39134 files belonging to 21 classes.\n",
      "Found 9783 files belonging to 21 classes.\n"
     ]
    }
   ],
   "source": [
    "train_gen = image_dataset_from_directory(directory=\"/content/drive/MyDrive/PlantDiseaseDataset/train\",\n",
    "                                         image_size=(256, 256))\n",
    "test_gen = image_dataset_from_directory(directory=\"/content/drive/MyDrive/PlantDiseaseDataset/valid\",\n",
    "                                        image_size=(256, 256))\n",
    "\n",
    "rescale = Rescaling(scale=1.0/255)\n",
    "train_gen = train_gen.map(lambda image,label:(rescale(image),label))\n",
    "test_gen  = test_gen.map(lambda image,label:(rescale(image),label))"
   ]
  },
  {
   "cell_type": "code",
   "execution_count": null,
   "metadata": {
    "colab": {
     "base_uri": "https://localhost:8080/"
    },
    "id": "XS0mrY5v59nF",
    "outputId": "b893396a-7eb3-4fea-e5f0-cb6b4b10e298"
   },
   "outputs": [
    {
     "name": "stdout",
     "output_type": "stream",
     "text": [
      "WARNING:tensorflow:`input_shape` is undefined or non-square, or `rows` is not in [128, 160, 192, 224]. Weights for input shape (224, 224) will be loaded as the default.\n"
     ]
    }
   ],
   "source": [
    "from tensorflow.keras.applications.mobilenet import MobileNet\n",
    "mobnet = MobileNet(weights='imagenet', include_top=False, input_shape=(256, 256, 3)) "
   ]
  },
  {
   "cell_type": "code",
   "execution_count": null,
   "metadata": {
    "colab": {
     "base_uri": "https://localhost:8080/"
    },
    "id": "siDUDY5TaQNZ",
    "outputId": "5f6d2c0a-87bd-429c-8436-118c68a29ed3"
   },
   "outputs": [
    {
     "name": "stdout",
     "output_type": "stream",
     "text": [
      "Model: \"sequential_1\"\n",
      "_________________________________________________________________\n",
      " Layer (type)                Output Shape              Param #   \n",
      "=================================================================\n",
      " mobilenet_1.00_224 (Functio  (None, 8, 8, 1024)       3228864   \n",
      " nal)                                                            \n",
      "                                                                 \n",
      " flatten_1 (Flatten)         (None, 65536)             0         \n",
      "                                                                 \n",
      " batch_normalization_1 (Batc  (None, 65536)            262144    \n",
      " hNormalization)                                                 \n",
      "                                                                 \n",
      " dropout_1 (Dropout)         (None, 65536)             0         \n",
      "                                                                 \n",
      " dense_1 (Dense)             (None, 21)                1376277   \n",
      "                                                                 \n",
      "=================================================================\n",
      "Total params: 4,867,285\n",
      "Trainable params: 4,714,325\n",
      "Non-trainable params: 152,960\n",
      "_________________________________________________________________\n"
     ]
    }
   ],
   "source": [
    "model = keras.Sequential()\n",
    "\n",
    "model.add(mobnet)\n",
    "\n",
    "\n",
    "\n",
    "model.add(keras.layers.Flatten())\n",
    "model.add(keras.layers.BatchNormalization())\n",
    "\n",
    "model.add(keras.layers.Dropout(0.5))\n",
    "\n",
    "model.add(keras.layers.Dense(21,activation=\"softmax\"))\n",
    "\n",
    "opt = keras.optimizers.Adam(learning_rate=0.0001)\n",
    "model.compile(optimizer=opt,loss=\"sparse_categorical_crossentropy\",metrics=['accuracy'])\n",
    "model.summary()"
   ]
  },
  {
   "cell_type": "code",
   "execution_count": null,
   "metadata": {
    "colab": {
     "base_uri": "https://localhost:8080/"
    },
    "id": "DlaRKxpwac_t",
    "outputId": "e50fb338-2a3c-46a0-8617-70a311f67a7a"
   },
   "outputs": [
    {
     "name": "stdout",
     "output_type": "stream",
     "text": [
      "Epoch 1/2\n",
      "1223/1223 [==============================] - 12081s 10s/step - loss: 0.3473 - accuracy: 0.8966 - val_loss: 0.1141 - val_accuracy: 0.9668\n",
      "Epoch 2/2\n",
      "1223/1223 [==============================] - 11043s 9s/step - loss: 0.0813 - accuracy: 0.9749 - val_loss: 0.1056 - val_accuracy: 0.9714\n"
     ]
    }
   ],
   "source": [
    "ep = 2\n",
    "history = model.fit_generator(train_gen,\n",
    "          validation_data=test_gen,\n",
    "          epochs = ep)"
   ]
  },
  {
   "cell_type": "code",
   "execution_count": null,
   "metadata": {
    "id": "aXzgCDTBI5qt"
   },
   "outputs": [],
   "source": [
    "model.save('/content/drive/My Drive/pd_h5/pd_simple.h5')"
   ]
  },
  {
   "cell_type": "code",
   "execution_count": null,
   "metadata": {
    "id": "9htfQuqI55w9"
   },
   "outputs": [],
   "source": [
    "# If want to train more\n",
    "model = keras.models.load_model('/content/drive/My Drive/pd_h5/pd_simple.h5')"
   ]
  },
  {
   "cell_type": "code",
   "execution_count": null,
   "metadata": {
    "colab": {
     "base_uri": "https://localhost:8080/"
    },
    "id": "oM7LvyJKJfhF",
    "outputId": "d5d47c71-42f3-4404-c6b6-cccea80ec160"
   },
   "outputs": [
    {
     "name": "stdout",
     "output_type": "stream",
     "text": [
      "Epoch 1/2\n",
      "1223/1223 [==============================] - 17000s 14s/step - loss: 0.0660 - accuracy: 0.9806 - val_loss: 0.1487 - val_accuracy: 0.9693\n",
      "Epoch 2/2\n",
      "1223/1223 [==============================] - 10270s 8s/step - loss: 0.0701 - accuracy: 0.9811 - val_loss: 0.1176 - val_accuracy: 0.9767\n"
     ]
    }
   ],
   "source": [
    "ep = 2\n",
    "history = model.fit_generator(train_gen,\n",
    "          validation_data=test_gen,\n",
    "          epochs = ep)"
   ]
  },
  {
   "cell_type": "code",
   "execution_count": null,
   "metadata": {
    "id": "0YbvW21iJtng"
   },
   "outputs": [],
   "source": [
    "model.save('/content/drive/My Drive/pd_h5/pd_mb_4e.h5')"
   ]
  }
 ],
 "metadata": {
  "accelerator": "GPU",
  "colab": {
   "collapsed_sections": [],
   "name": "MobNet_PD_Detector.ipynb",
   "provenance": []
  },
  "kernelspec": {
   "display_name": "Python 3",
   "language": "python",
   "name": "python3"
  },
  "language_info": {
   "codemirror_mode": {
    "name": "ipython",
    "version": 3
   },
   "file_extension": ".py",
   "mimetype": "text/x-python",
   "name": "python",
   "nbconvert_exporter": "python",
   "pygments_lexer": "ipython3",
   "version": "3.8.5"
  }
 },
 "nbformat": 4,
 "nbformat_minor": 4
}
