{
 "cells": [
  {
   "cell_type": "code",
   "execution_count": 37,
   "metadata": {},
   "outputs": [],
   "source": [
    "import os\n",
    "from PIL import Image\n",
    "\n",
    "# input folder\n",
    "input_folder = \"/Users/wangzezhou/Desktop/processed/Tomato___Tomato_Yellow_Leaf_Curl_Virus\"\n",
    "# output folder\n",
    "output_folder = \"/Users/wangzezhou/Desktop/output_dir/Tomato___Tomato_Yellow_Leaf_Curl_Virus\"\n",
    "\n",
    "# traverse all the images\n",
    "for foldername, _, filenames in os.walk(input_folder):\n",
    "    for filename in filenames:\n",
    "        if filename.lower().endswith((\".png\", \".jpg\", \".jpeg\")):\n",
    "            input_path = os.path.join(foldername, filename)\n",
    "            \n",
    "            # compute output path\n",
    "            relative_path = os.path.relpath(foldername, input_folder)\n",
    "            output_subfolder = os.path.join(output_folder, relative_path)\n",
    "            os.makedirs(output_subfolder, exist_ok=True)\n",
    "            output_path = os.path.join(output_subfolder, filename)\n",
    "\n",
    "            # open the image\n",
    "            img = Image.open(input_path).convert(\"RGBA\")\n",
    "\n",
    "            # create all black background\n",
    "            black_bg = Image.new(\"RGB\", img.size, (0, 0, 0))\n",
    "\n",
    "            # copy the front obecjt part\n",
    "            if img.mode == \"RGBA\":\n",
    "                black_bg.paste(img, mask=img.split()[3])  # using alpha channel\n",
    "\n",
    "            # save the new image\n",
    "            black_bg.save(output_path)\n",
    "\n",
    "            # print(f\"Processed: {input_path} -> {output_path}\")\n"
   ]
  }
 ],
 "metadata": {
  "kernelspec": {
   "display_name": "my_env",
   "language": "python",
   "name": "python3"
  },
  "language_info": {
   "codemirror_mode": {
    "name": "ipython",
    "version": 3
   },
   "file_extension": ".py",
   "mimetype": "text/x-python",
   "name": "python",
   "nbconvert_exporter": "python",
   "pygments_lexer": "ipython3",
   "version": "3.9.17"
  }
 },
 "nbformat": 4,
 "nbformat_minor": 2
}
